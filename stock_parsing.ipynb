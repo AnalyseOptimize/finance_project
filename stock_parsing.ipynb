{
 "cells": [
  {
   "cell_type": "code",
   "execution_count": 7,
   "id": "e243ceae-8bd9-49e3-80d3-34c61b982f81",
   "metadata": {},
   "outputs": [],
   "source": [
    "from selenium import webdriver\n",
    "from selenium.webdriver.common.keys import Keys\n",
    "from selenium.webdriver.common.by import By\n",
    "from selenium.webdriver.support.wait import WebDriverWait\n",
    "from selenium.webdriver.support import expected_conditions as EC\n",
    "\n",
    "import pandas as pd\n",
    "from os import path\n",
    "\n",
    "import requests\n",
    "import datetime\n",
    "import pathlib\n",
    "import apimoex\n",
    "import time\n",
    "\n",
    "from tqdm.notebook import tqdm\n",
    "\n",
    "FMP_API_KEY = \"uILltAaGY2ms0reL0RVtgtALlh2BbYH5\"\n",
    "PATH = \"C:\\Program Files (x86)\\chromedriver.exe\" # driver path\n",
    "parent_dir = r\"C:\\Users\\Никита\\Андан\\Project\\data\" # root for data "
   ]
  },
  {
   "cell_type": "markdown",
   "id": "dd39ac72-e52f-4240-9972-bed79141e5f7",
   "metadata": {},
   "source": [
    "## Рабочий парсер MOEX"
   ]
  },
  {
   "cell_type": "code",
   "execution_count": 8,
   "id": "4521541e-5ffd-478c-8e57-5b57c2be6e58",
   "metadata": {},
   "outputs": [],
   "source": [
    "# |sector|country|ticker|...|\n",
    "companies = pd.read_csv('companies_list.csv')"
   ]
  },
  {
   "cell_type": "code",
   "execution_count": 16,
   "id": "3c8dde39-83b0-4fa2-a07e-7fdffffa698f",
   "metadata": {},
   "outputs": [],
   "source": [
    "def parse_tickers(companies, fmp_api_key):\n",
    "    board = 'TQBR' # здесь важно поресерчить, чем отличаются\n",
    "    today = str(datetime.date.today())\n",
    "\n",
    "    \n",
    "    companies_ru = companies[companies.country == 'RU']\n",
    "    with requests.Session() as session:\n",
    "        for indx, row in tqdm(companies_ru.iterrows(), desc = 'Processing russian stock', total = companies_ru.shape[0]):\n",
    "        \n",
    "            data = apimoex.get_board_history(session, row.ticker, board=board)\n",
    "            \n",
    "            if data == []:\n",
    "                print('Empty set')\n",
    "            df = pd.DataFrame(data)\n",
    "\n",
    "            if row.sector == 'Renewable Energy':\n",
    "                df.to_csv(path.join(parent_dir, 'renewable_energy', f'{row.ticker}_RU.csv'))\n",
    "            elif row.sector == 'Healthcare':\n",
    "                df.to_csv(path.join(parent_dir, 'healthcare_services', f'{row.ticker}_RU.csv'))\n",
    "            elif row.sector == 'Financial Services':\n",
    "                df.to_csv(path.join(parent_dir, 'fintech', f'{row.ticker}_RU.csv'))\n",
    "            elif row.sector == 'Industrials':\n",
    "                df.to_csv(path.join(parent_dir, 'industrial_goods', f'{row.ticker}_RU.csv'))\n",
    "    \n",
    "    companies_usa = companies[companies.country == 'USA']\n",
    "    for indx, row in tqdm(companies_usa.iterrows(), desc = 'Processing USA stock', total = companies_usa.shape[0]):\n",
    "        try:\n",
    "            link = f\"https://financialmodelingprep.com/api/v3/historical-chart/4hour/{row.ticker}?to={today}&apikey={fmp_api_key}\"\n",
    "            df = pd.DataFrame(requests.get(link).json())\n",
    "        except ValueError:\n",
    "            print('Stopped for 25 hours')\n",
    "            time.sleep(25*60*60) # оставить на 25 часов\n",
    "\n",
    "            link = f\"https://financialmodelingprep.com/api/v3/historical-chart/4hour/{row.ticker}?to=2024-04-07&apikey={fmp_api_key}\"\n",
    "            df = pd.DataFrame(requests.get(link).json())\n",
    "            \n",
    "\n",
    "        if row.sector == 'Renewable Energy':\n",
    "            df.to_csv(path.join(parent_dir, 'renewable_energy', f'{row.ticker}_USA.csv'))\n",
    "        elif row.sector == 'Healthcare':\n",
    "            df.to_csv(path.join(parent_dir, 'healthcare_services', f'{row.ticker}_USA.csv'))\n",
    "        elif row.sector == 'Financial Services':\n",
    "            df.to_csv(path.join(parent_dir, 'fintech', f'{row.ticker}_USA.csv'))\n",
    "        elif row.sector == 'Industrials':\n",
    "                df.to_csv(path.join(parent_dir, 'industrial_goods', f'{row.ticker}_USA.csv'))\n",
    "            \n",
    "\n",
    "            "
   ]
  },
  {
   "cell_type": "code",
   "execution_count": null,
   "id": "a5f86ae0-2c69-47e9-a649-2d808ba8978e",
   "metadata": {},
   "outputs": [
    {
     "data": {
      "application/vnd.jupyter.widget-view+json": {
       "model_id": "49e261f1eaf743b9ae22dd0b1080f009",
       "version_major": 2,
       "version_minor": 0
      },
      "text/plain": [
       "Processing russian stock:   0%|          | 0/9 [00:00<?, ?it/s]"
      ]
     },
     "metadata": {},
     "output_type": "display_data"
    },
    {
     "data": {
      "application/vnd.jupyter.widget-view+json": {
       "model_id": "9a2961af2aeb4a6ea82faac088579406",
       "version_major": 2,
       "version_minor": 0
      },
      "text/plain": [
       "Processing USA stock:   0%|          | 0/340 [00:00<?, ?it/s]"
      ]
     },
     "metadata": {},
     "output_type": "display_data"
    },
    {
     "name": "stdout",
     "output_type": "stream",
     "text": [
      "Stopped for 25 hours\n"
     ]
    }
   ],
   "source": [
    "parse_tickers(companies, FMP_API_KEY)"
   ]
  },
  {
   "cell_type": "markdown",
   "id": "fb2a5ca0-7616-4a2a-a663-574cfdc23759",
   "metadata": {
    "jp-MarkdownHeadingCollapsed": true
   },
   "source": [
    "## Парсер FMP"
   ]
  },
  {
   "cell_type": "code",
   "execution_count": 11,
   "id": "d7fe3b73-16ce-477e-ba87-f1fa379f9132",
   "metadata": {},
   "outputs": [],
   "source": [
    "ticker = 'IMPP'\n",
    "date = str(datetime.date.today())\n",
    "APIKEY = \"uILltAaGY2ms0reL0RVtgtALlh2BbYH5\"\n",
    "\n",
    "link = f\"https://financialmodelingprep.com/api/v3/historical-chart/4hour/{ticker}?to={date}&apikey={APIKEY}\"\n",
    "response = requests.get(link)"
   ]
  },
  {
   "cell_type": "code",
   "execution_count": 13,
   "id": "b4b13df1-4733-4b82-8ff2-a6b0b1bf7fdb",
   "metadata": {},
   "outputs": [
    {
     "data": {
      "text/html": [
       "<div>\n",
       "<style scoped>\n",
       "    .dataframe tbody tr th:only-of-type {\n",
       "        vertical-align: middle;\n",
       "    }\n",
       "\n",
       "    .dataframe tbody tr th {\n",
       "        vertical-align: top;\n",
       "    }\n",
       "\n",
       "    .dataframe thead th {\n",
       "        text-align: right;\n",
       "    }\n",
       "</style>\n",
       "<table border=\"1\" class=\"dataframe\">\n",
       "  <thead>\n",
       "    <tr style=\"text-align: right;\">\n",
       "      <th></th>\n",
       "      <th>date</th>\n",
       "      <th>open</th>\n",
       "      <th>low</th>\n",
       "      <th>high</th>\n",
       "      <th>close</th>\n",
       "      <th>volume</th>\n",
       "    </tr>\n",
       "  </thead>\n",
       "  <tbody>\n",
       "    <tr>\n",
       "      <th>0</th>\n",
       "      <td>2024-04-11 12:00:00</td>\n",
       "      <td>3.7350</td>\n",
       "      <td>3.6801</td>\n",
       "      <td>3.740</td>\n",
       "      <td>3.7199</td>\n",
       "      <td>42527</td>\n",
       "    </tr>\n",
       "    <tr>\n",
       "      <th>1</th>\n",
       "      <td>2024-04-10 12:00:00</td>\n",
       "      <td>3.4850</td>\n",
       "      <td>3.4600</td>\n",
       "      <td>3.600</td>\n",
       "      <td>3.5800</td>\n",
       "      <td>266530</td>\n",
       "    </tr>\n",
       "    <tr>\n",
       "      <th>2</th>\n",
       "      <td>2024-04-09 12:00:00</td>\n",
       "      <td>3.4250</td>\n",
       "      <td>3.3800</td>\n",
       "      <td>3.480</td>\n",
       "      <td>3.4300</td>\n",
       "      <td>224928</td>\n",
       "    </tr>\n",
       "    <tr>\n",
       "      <th>3</th>\n",
       "      <td>2024-04-08 12:00:00</td>\n",
       "      <td>3.7700</td>\n",
       "      <td>3.6000</td>\n",
       "      <td>3.835</td>\n",
       "      <td>3.6603</td>\n",
       "      <td>512603</td>\n",
       "    </tr>\n",
       "    <tr>\n",
       "      <th>4</th>\n",
       "      <td>2024-04-05 12:00:00</td>\n",
       "      <td>3.6324</td>\n",
       "      <td>3.4398</td>\n",
       "      <td>3.700</td>\n",
       "      <td>3.5500</td>\n",
       "      <td>953191</td>\n",
       "    </tr>\n",
       "  </tbody>\n",
       "</table>\n",
       "</div>"
      ],
      "text/plain": [
       "                  date    open     low   high   close  volume\n",
       "0  2024-04-11 12:00:00  3.7350  3.6801  3.740  3.7199   42527\n",
       "1  2024-04-10 12:00:00  3.4850  3.4600  3.600  3.5800  266530\n",
       "2  2024-04-09 12:00:00  3.4250  3.3800  3.480  3.4300  224928\n",
       "3  2024-04-08 12:00:00  3.7700  3.6000  3.835  3.6603  512603\n",
       "4  2024-04-05 12:00:00  3.6324  3.4398  3.700  3.5500  953191"
      ]
     },
     "execution_count": 13,
     "metadata": {},
     "output_type": "execute_result"
    }
   ],
   "source": [
    "pd.DataFrame(response.json()).head()"
   ]
  },
  {
   "cell_type": "markdown",
   "id": "861adc92-e998-47f5-b6cd-7b10365caa5f",
   "metadata": {
    "jp-MarkdownHeadingCollapsed": true
   },
   "source": [
    "## Нерабочий парсер"
   ]
  },
  {
   "cell_type": "code",
   "execution_count": 18,
   "id": "a71e6a71-aa73-451e-a6e8-645002f2742d",
   "metadata": {},
   "outputs": [],
   "source": [
    "def extract_list_of_companies(link, driver):\n",
    "    driver.get(link)\n",
    "\n",
    "    elements = WebDriverWait(driver, 10).until(\n",
    "        EC.presence_of_all_elements_located((\n",
    "            By.CLASS_NAME, 'link link--blue table-child--middle align-top')))\n",
    "\n",
    "    browser.quit()\n",
    "    return elements\n",
    "    "
   ]
  },
  {
   "cell_type": "code",
   "execution_count": 19,
   "id": "fc84ca7e-8be1-4404-baf5-d1aef3d482e1",
   "metadata": {},
   "outputs": [
    {
     "ename": "TimeoutException",
     "evalue": "Message: \n",
     "output_type": "error",
     "traceback": [
      "\u001b[1;31m---------------------------------------------------------------------------\u001b[0m",
      "\u001b[1;31mTimeoutException\u001b[0m                          Traceback (most recent call last)",
      "Cell \u001b[1;32mIn[19], line 3\u001b[0m\n\u001b[0;32m      1\u001b[0m driver \u001b[38;5;241m=\u001b[39m webdriver\u001b[38;5;241m.\u001b[39mChrome(PATH)\n\u001b[1;32m----> 3\u001b[0m elements \u001b[38;5;241m=\u001b[39m \u001b[43mextract_list_of_companies\u001b[49m\u001b[43m(\u001b[49m\u001b[43mlink\u001b[49m\u001b[43m,\u001b[49m\u001b[43m \u001b[49m\u001b[43mdriver\u001b[49m\u001b[43m)\u001b[49m\n",
      "Cell \u001b[1;32mIn[18], line 4\u001b[0m, in \u001b[0;36mextract_list_of_companies\u001b[1;34m(link, driver)\u001b[0m\n\u001b[0;32m      1\u001b[0m \u001b[38;5;28;01mdef\u001b[39;00m \u001b[38;5;21mextract_list_of_companies\u001b[39m(link, driver):\n\u001b[0;32m      2\u001b[0m     driver\u001b[38;5;241m.\u001b[39mget(link)\n\u001b[1;32m----> 4\u001b[0m     elements \u001b[38;5;241m=\u001b[39m \u001b[43mWebDriverWait\u001b[49m\u001b[43m(\u001b[49m\u001b[43mdriver\u001b[49m\u001b[43m,\u001b[49m\u001b[43m \u001b[49m\u001b[38;5;241;43m10\u001b[39;49m\u001b[43m)\u001b[49m\u001b[38;5;241;43m.\u001b[39;49m\u001b[43muntil\u001b[49m\u001b[43m(\u001b[49m\n\u001b[0;32m      5\u001b[0m \u001b[43m        \u001b[49m\u001b[43mEC\u001b[49m\u001b[38;5;241;43m.\u001b[39;49m\u001b[43mpresence_of_all_elements_located\u001b[49m\u001b[43m(\u001b[49m\u001b[43m(\u001b[49m\n\u001b[0;32m      6\u001b[0m \u001b[43m            \u001b[49m\u001b[43mBy\u001b[49m\u001b[38;5;241;43m.\u001b[39;49m\u001b[43mCLASS_NAME\u001b[49m\u001b[43m,\u001b[49m\u001b[43m \u001b[49m\u001b[38;5;124;43m'\u001b[39;49m\u001b[38;5;124;43mlink link--blue table-child--middle align-top\u001b[39;49m\u001b[38;5;124;43m'\u001b[39;49m\u001b[43m)\u001b[49m\u001b[43m)\u001b[49m\u001b[43m)\u001b[49m\n\u001b[0;32m      8\u001b[0m     browser\u001b[38;5;241m.\u001b[39mquit()\n\u001b[0;32m      9\u001b[0m     \u001b[38;5;28;01mreturn\u001b[39;00m elements\n",
      "File \u001b[1;32mD:\\conda\\envs\\new_env\\lib\\site-packages\\selenium\\webdriver\\support\\wait.py:80\u001b[0m, in \u001b[0;36mWebDriverWait.until\u001b[1;34m(self, method, message)\u001b[0m\n\u001b[0;32m     78\u001b[0m     \u001b[38;5;28;01mif\u001b[39;00m time\u001b[38;5;241m.\u001b[39mtime() \u001b[38;5;241m>\u001b[39m end_time:\n\u001b[0;32m     79\u001b[0m         \u001b[38;5;28;01mbreak\u001b[39;00m\n\u001b[1;32m---> 80\u001b[0m \u001b[38;5;28;01mraise\u001b[39;00m TimeoutException(message, screen, stacktrace)\n",
      "\u001b[1;31mTimeoutException\u001b[0m: Message: \n"
     ]
    }
   ],
   "source": [
    "driver = webdriver.Chrome(PATH)\n",
    "\n",
    "elements = extract_list_of_companies(link, driver)"
   ]
  },
  {
   "cell_type": "code",
   "execution_count": null,
   "id": "a5e03a8c-0a0b-45c7-87b6-16ff8d2f0062",
   "metadata": {},
   "outputs": [],
   "source": []
  }
 ],
 "metadata": {
  "kernelspec": {
   "display_name": "Python 3 (ipykernel)",
   "language": "python",
   "name": "python3"
  },
  "language_info": {
   "codemirror_mode": {
    "name": "ipython",
    "version": 3
   },
   "file_extension": ".py",
   "mimetype": "text/x-python",
   "name": "python",
   "nbconvert_exporter": "python",
   "pygments_lexer": "ipython3",
   "version": "3.9.18"
  }
 },
 "nbformat": 4,
 "nbformat_minor": 5
}
