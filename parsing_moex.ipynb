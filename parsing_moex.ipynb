{
 "cells": [
  {
   "cell_type": "code",
   "execution_count": 11,
   "id": "e243ceae-8bd9-49e3-80d3-34c61b982f81",
   "metadata": {},
   "outputs": [],
   "source": [
    "from selenium import webdriver\n",
    "from selenium.webdriver.common.keys import Keys\n",
    "from selenium.webdriver.common.by import By\n",
    "from selenium.webdriver.support.wait import WebDriverWait\n",
    "from selenium.webdriver.support import expected_conditions as EC\n",
    "\n",
    "import pandas as pd\n",
    "from os import path\n",
    "\n",
    "import requests\n",
    "import datetime\n",
    "import pathlib\n",
    "import apimoex\n",
    "\n",
    "from tqdm.notebook import tqdm\n",
    "\n",
    "PATH = \"C:\\Program Files (x86)\\chromedriver.exe\"\n",
    "parent_dir = r\"C:\\Users\\Никита\\Андан\\Project\\data\""
   ]
  },
  {
   "cell_type": "markdown",
   "id": "dd39ac72-e52f-4240-9972-bed79141e5f7",
   "metadata": {},
   "source": [
    "## Рабочий парсер MOEX"
   ]
  },
  {
   "cell_type": "code",
   "execution_count": 26,
   "id": "4521541e-5ffd-478c-8e57-5b57c2be6e58",
   "metadata": {},
   "outputs": [],
   "source": [
    "# |sector|country|ticker|...|\n",
    "companies = pd.read_csv('companies_list.csv')"
   ]
  },
  {
   "cell_type": "code",
   "execution_count": 27,
   "id": "3c8dde39-83b0-4fa2-a07e-7fdffffa698f",
   "metadata": {},
   "outputs": [],
   "source": [
    "def parse_tickers(data):\n",
    "    board = 'TQBR' # здесь важно поресерчить, чем отличаются\n",
    "    \n",
    "    with requests.Session() as session:\n",
    "        for indx, row in tqdm(data.iterrows(), total = data.shape[0]):\n",
    "            if row.country == 'RU':\n",
    "                data = apimoex.get_board_history(session, row.ticker, board=board)\n",
    "                \n",
    "                if data == []:\n",
    "                    print('Empty set')\n",
    "                df = pd.DataFrame(data)\n",
    "\n",
    "                if row.sector == 'Renewable Energy':\n",
    "                    df.to_csv(path.join(parent_dir, 'renewable_energy', f'{row.ticker}_RU.csv'))\n",
    "                elif row.sector == 'Healthcare':\n",
    "                    df.to_csv(path.join(parent_dir, 'healthcare_services', f'{row.ticker}_RU.csv'))\n",
    "                elif row.sector == 'Financial Services':\n",
    "                    df.to_csv(path.join(parent_dir, 'fintech', f'{row.ticker}_RU.csv'))\n",
    "                elif row.sector == 'Industrials':\n",
    "                    df.to_csv(path.join(parent_dir, 'industrial_goods', f'{row.ticker}_RU.csv'))"
   ]
  },
  {
   "cell_type": "code",
   "execution_count": 28,
   "id": "a5f86ae0-2c69-47e9-a649-2d808ba8978e",
   "metadata": {},
   "outputs": [
    {
     "data": {
      "application/vnd.jupyter.widget-view+json": {
       "model_id": "ded1d7d0889e44c29a1081e10aea3a54",
       "version_major": 2,
       "version_minor": 0
      },
      "text/plain": [
       "  0%|          | 0/349 [00:00<?, ?it/s]"
      ]
     },
     "metadata": {},
     "output_type": "display_data"
    }
   ],
   "source": [
    "parse_tickers(companies)"
   ]
  },
  {
   "cell_type": "markdown",
   "id": "861adc92-e998-47f5-b6cd-7b10365caa5f",
   "metadata": {
    "jp-MarkdownHeadingCollapsed": true
   },
   "source": [
    "## Нерабочий парсер"
   ]
  },
  {
   "cell_type": "code",
   "execution_count": 18,
   "id": "a71e6a71-aa73-451e-a6e8-645002f2742d",
   "metadata": {},
   "outputs": [],
   "source": [
    "def extract_list_of_companies(link, driver):\n",
    "    driver.get(link)\n",
    "\n",
    "    elements = WebDriverWait(driver, 10).until(\n",
    "        EC.presence_of_all_elements_located((\n",
    "            By.CLASS_NAME, 'link link--blue table-child--middle align-top')))\n",
    "\n",
    "    browser.quit()\n",
    "    return elements\n",
    "    "
   ]
  },
  {
   "cell_type": "code",
   "execution_count": 19,
   "id": "fc84ca7e-8be1-4404-baf5-d1aef3d482e1",
   "metadata": {},
   "outputs": [
    {
     "ename": "TimeoutException",
     "evalue": "Message: \n",
     "output_type": "error",
     "traceback": [
      "\u001b[1;31m---------------------------------------------------------------------------\u001b[0m",
      "\u001b[1;31mTimeoutException\u001b[0m                          Traceback (most recent call last)",
      "Cell \u001b[1;32mIn[19], line 3\u001b[0m\n\u001b[0;32m      1\u001b[0m driver \u001b[38;5;241m=\u001b[39m webdriver\u001b[38;5;241m.\u001b[39mChrome(PATH)\n\u001b[1;32m----> 3\u001b[0m elements \u001b[38;5;241m=\u001b[39m \u001b[43mextract_list_of_companies\u001b[49m\u001b[43m(\u001b[49m\u001b[43mlink\u001b[49m\u001b[43m,\u001b[49m\u001b[43m \u001b[49m\u001b[43mdriver\u001b[49m\u001b[43m)\u001b[49m\n",
      "Cell \u001b[1;32mIn[18], line 4\u001b[0m, in \u001b[0;36mextract_list_of_companies\u001b[1;34m(link, driver)\u001b[0m\n\u001b[0;32m      1\u001b[0m \u001b[38;5;28;01mdef\u001b[39;00m \u001b[38;5;21mextract_list_of_companies\u001b[39m(link, driver):\n\u001b[0;32m      2\u001b[0m     driver\u001b[38;5;241m.\u001b[39mget(link)\n\u001b[1;32m----> 4\u001b[0m     elements \u001b[38;5;241m=\u001b[39m \u001b[43mWebDriverWait\u001b[49m\u001b[43m(\u001b[49m\u001b[43mdriver\u001b[49m\u001b[43m,\u001b[49m\u001b[43m \u001b[49m\u001b[38;5;241;43m10\u001b[39;49m\u001b[43m)\u001b[49m\u001b[38;5;241;43m.\u001b[39;49m\u001b[43muntil\u001b[49m\u001b[43m(\u001b[49m\n\u001b[0;32m      5\u001b[0m \u001b[43m        \u001b[49m\u001b[43mEC\u001b[49m\u001b[38;5;241;43m.\u001b[39;49m\u001b[43mpresence_of_all_elements_located\u001b[49m\u001b[43m(\u001b[49m\u001b[43m(\u001b[49m\n\u001b[0;32m      6\u001b[0m \u001b[43m            \u001b[49m\u001b[43mBy\u001b[49m\u001b[38;5;241;43m.\u001b[39;49m\u001b[43mCLASS_NAME\u001b[49m\u001b[43m,\u001b[49m\u001b[43m \u001b[49m\u001b[38;5;124;43m'\u001b[39;49m\u001b[38;5;124;43mlink link--blue table-child--middle align-top\u001b[39;49m\u001b[38;5;124;43m'\u001b[39;49m\u001b[43m)\u001b[49m\u001b[43m)\u001b[49m\u001b[43m)\u001b[49m\n\u001b[0;32m      8\u001b[0m     browser\u001b[38;5;241m.\u001b[39mquit()\n\u001b[0;32m      9\u001b[0m     \u001b[38;5;28;01mreturn\u001b[39;00m elements\n",
      "File \u001b[1;32mD:\\conda\\envs\\new_env\\lib\\site-packages\\selenium\\webdriver\\support\\wait.py:80\u001b[0m, in \u001b[0;36mWebDriverWait.until\u001b[1;34m(self, method, message)\u001b[0m\n\u001b[0;32m     78\u001b[0m     \u001b[38;5;28;01mif\u001b[39;00m time\u001b[38;5;241m.\u001b[39mtime() \u001b[38;5;241m>\u001b[39m end_time:\n\u001b[0;32m     79\u001b[0m         \u001b[38;5;28;01mbreak\u001b[39;00m\n\u001b[1;32m---> 80\u001b[0m \u001b[38;5;28;01mraise\u001b[39;00m TimeoutException(message, screen, stacktrace)\n",
      "\u001b[1;31mTimeoutException\u001b[0m: Message: \n"
     ]
    }
   ],
   "source": [
    "driver = webdriver.Chrome(PATH)\n",
    "\n",
    "elements = extract_list_of_companies(link, driver)"
   ]
  },
  {
   "cell_type": "code",
   "execution_count": null,
   "id": "a5e03a8c-0a0b-45c7-87b6-16ff8d2f0062",
   "metadata": {},
   "outputs": [],
   "source": []
  }
 ],
 "metadata": {
  "kernelspec": {
   "display_name": "Python 3 (ipykernel)",
   "language": "python",
   "name": "python3"
  },
  "language_info": {
   "codemirror_mode": {
    "name": "ipython",
    "version": 3
   },
   "file_extension": ".py",
   "mimetype": "text/x-python",
   "name": "python",
   "nbconvert_exporter": "python",
   "pygments_lexer": "ipython3",
   "version": "3.9.18"
  }
 },
 "nbformat": 4,
 "nbformat_minor": 5
}
