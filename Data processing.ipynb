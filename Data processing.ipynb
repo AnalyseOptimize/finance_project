{
 "cells": [
  {
   "cell_type": "markdown",
   "id": "6f326998",
   "metadata": {},
   "source": [
    "**Дисклеймер:** весь текст этой тетрадки переведу на английский после успешной реализации."
   ]
  },
  {
   "cell_type": "code",
   "execution_count": 1,
   "id": "5f4f2d58",
   "metadata": {},
   "outputs": [],
   "source": [
    "import pandas as pd"
   ]
  },
  {
   "cell_type": "code",
   "execution_count": 2,
   "id": "fdc7f23c",
   "metadata": {},
   "outputs": [],
   "source": [
    "fintech = pd.read_csv('fintech.csv')\n",
    "industrial_goods = pd.read_csv('industrial_goods.csv')\n",
    "renewable_energy = pd.read_csv('renewable_energy.csv')\n",
    "healthcare_services = pd.read_csv('healthcare_services.csv')"
   ]
  },
  {
   "cell_type": "markdown",
   "id": "64bae50d",
   "metadata": {},
   "source": [
    "## Description of the variables"
   ]
  },
  {
   "cell_type": "markdown",
   "id": "ccdee418",
   "metadata": {},
   "source": []
  },
  {
   "cell_type": "markdown",
   "id": "b0405de1",
   "metadata": {},
   "source": [
    "## Processing of Nans/passes"
   ]
  },
  {
   "cell_type": "code",
   "execution_count": 3,
   "id": "b7a0257f",
   "metadata": {},
   "outputs": [
    {
     "name": "stdout",
     "output_type": "stream",
     "text": [
      "Initial (total) amount of NaNs\n",
      "\n",
      "In fintech data: 208642\n",
      "In industrial goods data: 209596\n",
      "In renewable energy data: 94342\n",
      "In healthcare services data: 178072\n"
     ]
    }
   ],
   "source": [
    "print(f'Initial (total) amount of NaNs')\n",
    "print()\n",
    "print(f'In fintech data: {fintech.isna().sum().sum()}')\n",
    "print(f'In industrial goods data: {industrial_goods.isna().sum().sum()}')\n",
    "print(f'In renewable energy data: {renewable_energy.isna().sum().sum()}')\n",
    "print(f'In healthcare services data: {healthcare_services.isna().sum().sum()}')"
   ]
  },
  {
   "cell_type": "markdown",
   "id": "38e9ab85",
   "metadata": {},
   "source": [
    "Сайт FMP позволяет парсить котировки американских акций только за последние 5 лет. В связи с этим создадим вспомогательные переменные"
   ]
  },
  {
   "cell_type": "code",
   "execution_count": 4,
   "id": "feec2384",
   "metadata": {},
   "outputs": [],
   "source": [
    "the_day_of_parsing = pd.to_datetime('2024-05-08', format='%Y-%m-%d')\n",
    "threshold = the_day_of_parsing - pd.DateOffset(years=5)"
   ]
  },
  {
   "cell_type": "markdown",
   "id": "31c14dc6",
   "metadata": {},
   "source": [
    "### Fintech\n",
    "\n",
    "Надеюсь, можно будет впоследствии запихнуть это в функцию и экстраполировать на все отрасли"
   ]
  },
  {
   "cell_type": "code",
   "execution_count": 5,
   "id": "fde5f787",
   "metadata": {},
   "outputs": [
    {
     "data": {
      "text/plain": [
       "(1976, 293)"
      ]
     },
     "execution_count": 5,
     "metadata": {},
     "output_type": "execute_result"
    }
   ],
   "source": [
    "fintech['date'] = pd.to_datetime(fintech['date'], format='%Y-%m-%d')\n",
    "fintech.shape"
   ]
  },
  {
   "cell_type": "code",
   "execution_count": 6,
   "id": "b53689b2",
   "metadata": {},
   "outputs": [
    {
     "data": {
      "text/plain": [
       "close_MBNK_RU          1968\n",
       "volume_MBNK_RU         1968\n",
       "close_CARM_RU          1758\n",
       "volume_CARM_RU         1758\n",
       "volume_CRBG_USA        1562\n",
       "                       ... \n",
       "Денежный агрегат М0      29\n",
       "Денежный агрегат М1      29\n",
       "Денежный агрегат М2      29\n",
       "effr                     29\n",
       "date                      0\n",
       "Length: 293, dtype: int64"
      ]
     },
     "execution_count": 6,
     "metadata": {},
     "output_type": "execute_result"
    }
   ],
   "source": [
    "fintech.isna().sum().sort_values(ascending=False)"
   ]
  },
  {
   "cell_type": "markdown",
   "id": "5ff4afd6",
   "metadata": {},
   "source": [
    "**Первый шаг обработки:** для удобства определения причины пропусков создадим столбец-признак `is_workday`, который принимает два значения: True в будни и False в выходные/праздники. Для этого обратимся к данным из календаря, который мы спарсили ранее."
   ]
  },
  {
   "cell_type": "code",
   "execution_count": 7,
   "id": "d5eff442",
   "metadata": {},
   "outputs": [],
   "source": [
    "calendar = pd.read_csv('data/trading_calendat_NYSE.csv')\n",
    "calendar.drop(['Unnamed: 0'], axis=1, inplace=True)"
   ]
  },
  {
   "cell_type": "code",
   "execution_count": 8,
   "id": "97650322",
   "metadata": {},
   "outputs": [
    {
     "data": {
      "text/plain": [
       "dtype('<M8[ns]')"
      ]
     },
     "execution_count": 8,
     "metadata": {},
     "output_type": "execute_result"
    }
   ],
   "source": [
    "calendar['Date'] = pd.to_datetime(calendar['Date'], format='%Y-%m-%d')\n",
    "calendar['Date'].dtype"
   ]
  },
  {
   "cell_type": "markdown",
   "id": "c66d7a35",
   "metadata": {},
   "source": [
    "**Первый шаг исследования:** посмотрев на таблицу, мы поняли, что надо снова отсечь данные по дате на 5 лет ранее момента парсинга, потому что FMP дает данные о котировках только за последние 5 лет."
   ]
  },
  {
   "cell_type": "code",
   "execution_count": 9,
   "id": "0fc8a6b6",
   "metadata": {},
   "outputs": [],
   "source": [
    "#дату (месяц/день) надо менять в зависимости от момента парсинга!!\n",
    "\n",
    "# ВТОРАЯ СТРОЧКА В ЭТОМ БЛОКЕ ПОКА НЕ РАБОТАЕТ (причина не ясна, результат плачевный)\n",
    "work_calendar = calendar[calendar['Date'] > threshold]\n",
    "fintech['is_workday'] = [i in work_calendar['Date'].dt.date for i in fintech['date'].dt.date]\n",
    "fintech = fintech[fintech['date'] > threshold]"
   ]
  },
  {
   "cell_type": "code",
   "execution_count": 10,
   "id": "302afc91",
   "metadata": {},
   "outputs": [
    {
     "data": {
      "text/plain": [
       "1346   2019-05-09\n",
       "1347   2019-05-10\n",
       "1348   2019-05-13\n",
       "1349   2019-05-14\n",
       "1350   2019-05-15\n",
       "          ...    \n",
       "2598   2024-04-30\n",
       "2599   2024-05-01\n",
       "2600   2024-05-02\n",
       "2601   2024-05-03\n",
       "2602   2024-05-06\n",
       "Name: Date, Length: 1257, dtype: datetime64[ns]"
      ]
     },
     "execution_count": 10,
     "metadata": {},
     "output_type": "execute_result"
    }
   ],
   "source": [
    "work_calendar['Date']"
   ]
  },
  {
   "cell_type": "markdown",
   "id": "d0862ac3",
   "metadata": {},
   "source": [
    "**ПАЧИМУ((**"
   ]
  },
  {
   "cell_type": "code",
   "execution_count": 11,
   "id": "8fd5b1d8",
   "metadata": {},
   "outputs": [
    {
     "data": {
      "text/plain": [
       "{False}"
      ]
     },
     "execution_count": 11,
     "metadata": {},
     "output_type": "execute_result"
    }
   ],
   "source": [
    "{i in work_calendar['Date'] for i in fintech['date']}"
   ]
  },
  {
   "cell_type": "markdown",
   "id": "0e8a9dfc",
   "metadata": {},
   "source": [
    "Для удобства исследования создадим новый столбец: день недели"
   ]
  },
  {
   "cell_type": "code",
   "execution_count": 12,
   "id": "0ac7cf94",
   "metadata": {},
   "outputs": [],
   "source": [
    "fintech['day_of_week'] = fintech['date'].dt.day_name()"
   ]
  },
  {
   "cell_type": "code",
   "execution_count": 13,
   "id": "f7a8b117",
   "metadata": {},
   "outputs": [],
   "source": [
    "fintech.set_index(['date'], inplace=True)\n",
    "fintech.sort_index(inplace=True)"
   ]
  },
  {
   "cell_type": "code",
   "execution_count": 14,
   "id": "281dda49",
   "metadata": {},
   "outputs": [
    {
     "data": {
      "text/html": [
       "<div>\n",
       "<style scoped>\n",
       "    .dataframe tbody tr th:only-of-type {\n",
       "        vertical-align: middle;\n",
       "    }\n",
       "\n",
       "    .dataframe tbody tr th {\n",
       "        vertical-align: top;\n",
       "    }\n",
       "\n",
       "    .dataframe thead th {\n",
       "        text-align: right;\n",
       "    }\n",
       "</style>\n",
       "<table border=\"1\" class=\"dataframe\">\n",
       "  <thead>\n",
       "    <tr style=\"text-align: right;\">\n",
       "      <th></th>\n",
       "      <th>volume_NTRS_USA</th>\n",
       "      <th>close_NTRS_USA</th>\n",
       "      <th>volume_EWBC_USA</th>\n",
       "      <th>close_EWBC_USA</th>\n",
       "      <th>volume_COIN_USA</th>\n",
       "      <th>close_COIN_USA</th>\n",
       "      <th>volume_CG_USA</th>\n",
       "      <th>close_CG_USA</th>\n",
       "      <th>volume_CARM_RU</th>\n",
       "      <th>close_CARM_RU</th>\n",
       "      <th>...</th>\n",
       "      <th>Low</th>\n",
       "      <th>Close</th>\n",
       "      <th>Volume</th>\n",
       "      <th>Interbank credit market rates</th>\n",
       "      <th>gold_rates</th>\n",
       "      <th>silver_rates</th>\n",
       "      <th>platinum_rates</th>\n",
       "      <th>palladium_rates</th>\n",
       "      <th>is_workday</th>\n",
       "      <th>day_of_week</th>\n",
       "    </tr>\n",
       "    <tr>\n",
       "      <th>date</th>\n",
       "      <th></th>\n",
       "      <th></th>\n",
       "      <th></th>\n",
       "      <th></th>\n",
       "      <th></th>\n",
       "      <th></th>\n",
       "      <th></th>\n",
       "      <th></th>\n",
       "      <th></th>\n",
       "      <th></th>\n",
       "      <th></th>\n",
       "      <th></th>\n",
       "      <th></th>\n",
       "      <th></th>\n",
       "      <th></th>\n",
       "      <th></th>\n",
       "      <th></th>\n",
       "      <th></th>\n",
       "      <th></th>\n",
       "      <th></th>\n",
       "      <th></th>\n",
       "    </tr>\n",
       "  </thead>\n",
       "  <tbody>\n",
       "    <tr>\n",
       "      <th>2019-05-09</th>\n",
       "      <td>804008.0</td>\n",
       "      <td>96.97</td>\n",
       "      <td>748222.0</td>\n",
       "      <td>50.17</td>\n",
       "      <td>NaN</td>\n",
       "      <td>NaN</td>\n",
       "      <td>593700.0</td>\n",
       "      <td>20.76</td>\n",
       "      <td>NaN</td>\n",
       "      <td>NaN</td>\n",
       "      <td>...</td>\n",
       "      <td>NaN</td>\n",
       "      <td>NaN</td>\n",
       "      <td>NaN</td>\n",
       "      <td>6.9477</td>\n",
       "      <td>3290.00</td>\n",
       "      <td>41.27</td>\n",
       "      <td>2069.61</td>\n",
       "      <td>3303.26</td>\n",
       "      <td>False</td>\n",
       "      <td>Thursday</td>\n",
       "    </tr>\n",
       "    <tr>\n",
       "      <th>2019-05-10</th>\n",
       "      <td>731618.0</td>\n",
       "      <td>97.56</td>\n",
       "      <td>674296.0</td>\n",
       "      <td>50.19</td>\n",
       "      <td>NaN</td>\n",
       "      <td>NaN</td>\n",
       "      <td>405600.0</td>\n",
       "      <td>20.62</td>\n",
       "      <td>NaN</td>\n",
       "      <td>NaN</td>\n",
       "      <td>...</td>\n",
       "      <td>2511.16</td>\n",
       "      <td>2514.87</td>\n",
       "      <td>3.253956e+10</td>\n",
       "      <td>NaN</td>\n",
       "      <td>3156.00</td>\n",
       "      <td>36.81</td>\n",
       "      <td>1848.23</td>\n",
       "      <td>3472.75</td>\n",
       "      <td>False</td>\n",
       "      <td>Friday</td>\n",
       "    </tr>\n",
       "    <tr>\n",
       "      <th>2019-05-11</th>\n",
       "      <td>NaN</td>\n",
       "      <td>NaN</td>\n",
       "      <td>NaN</td>\n",
       "      <td>NaN</td>\n",
       "      <td>NaN</td>\n",
       "      <td>NaN</td>\n",
       "      <td>NaN</td>\n",
       "      <td>NaN</td>\n",
       "      <td>NaN</td>\n",
       "      <td>NaN</td>\n",
       "      <td>...</td>\n",
       "      <td>NaN</td>\n",
       "      <td>NaN</td>\n",
       "      <td>NaN</td>\n",
       "      <td>6.3560</td>\n",
       "      <td>NaN</td>\n",
       "      <td>NaN</td>\n",
       "      <td>NaN</td>\n",
       "      <td>NaN</td>\n",
       "      <td>False</td>\n",
       "      <td>Saturday</td>\n",
       "    </tr>\n",
       "    <tr>\n",
       "      <th>2019-05-12</th>\n",
       "      <td>NaN</td>\n",
       "      <td>NaN</td>\n",
       "      <td>NaN</td>\n",
       "      <td>NaN</td>\n",
       "      <td>NaN</td>\n",
       "      <td>NaN</td>\n",
       "      <td>NaN</td>\n",
       "      <td>NaN</td>\n",
       "      <td>NaN</td>\n",
       "      <td>NaN</td>\n",
       "      <td>...</td>\n",
       "      <td>NaN</td>\n",
       "      <td>NaN</td>\n",
       "      <td>NaN</td>\n",
       "      <td>6.3851</td>\n",
       "      <td>3046.02</td>\n",
       "      <td>35.11</td>\n",
       "      <td>1874.03</td>\n",
       "      <td>3836.81</td>\n",
       "      <td>False</td>\n",
       "      <td>Sunday</td>\n",
       "    </tr>\n",
       "  </tbody>\n",
       "</table>\n",
       "<p>4 rows × 294 columns</p>\n",
       "</div>"
      ],
      "text/plain": [
       "            volume_NTRS_USA  close_NTRS_USA  volume_EWBC_USA  close_EWBC_USA  \\\n",
       "date                                                                           \n",
       "2019-05-09         804008.0           96.97         748222.0           50.17   \n",
       "2019-05-10         731618.0           97.56         674296.0           50.19   \n",
       "2019-05-11              NaN             NaN              NaN             NaN   \n",
       "2019-05-12              NaN             NaN              NaN             NaN   \n",
       "\n",
       "            volume_COIN_USA  close_COIN_USA  volume_CG_USA  close_CG_USA  \\\n",
       "date                                                                       \n",
       "2019-05-09              NaN             NaN       593700.0         20.76   \n",
       "2019-05-10              NaN             NaN       405600.0         20.62   \n",
       "2019-05-11              NaN             NaN            NaN           NaN   \n",
       "2019-05-12              NaN             NaN            NaN           NaN   \n",
       "\n",
       "            volume_CARM_RU  close_CARM_RU  ...      Low    Close  \\\n",
       "date                                       ...                     \n",
       "2019-05-09             NaN            NaN  ...      NaN      NaN   \n",
       "2019-05-10             NaN            NaN  ...  2511.16  2514.87   \n",
       "2019-05-11             NaN            NaN  ...      NaN      NaN   \n",
       "2019-05-12             NaN            NaN  ...      NaN      NaN   \n",
       "\n",
       "                  Volume  Interbank credit market rates  gold_rates  \\\n",
       "date                                                                  \n",
       "2019-05-09           NaN                         6.9477     3290.00   \n",
       "2019-05-10  3.253956e+10                            NaN     3156.00   \n",
       "2019-05-11           NaN                         6.3560         NaN   \n",
       "2019-05-12           NaN                         6.3851     3046.02   \n",
       "\n",
       "            silver_rates  platinum_rates  palladium_rates  is_workday  \\\n",
       "date                                                                    \n",
       "2019-05-09         41.27         2069.61          3303.26       False   \n",
       "2019-05-10         36.81         1848.23          3472.75       False   \n",
       "2019-05-11           NaN             NaN              NaN       False   \n",
       "2019-05-12         35.11         1874.03          3836.81       False   \n",
       "\n",
       "            day_of_week  \n",
       "date                     \n",
       "2019-05-09     Thursday  \n",
       "2019-05-10       Friday  \n",
       "2019-05-11     Saturday  \n",
       "2019-05-12       Sunday  \n",
       "\n",
       "[4 rows x 294 columns]"
      ]
     },
     "execution_count": 14,
     "metadata": {},
     "output_type": "execute_result"
    }
   ],
   "source": [
    "fintech.head(4)"
   ]
  },
  {
   "cell_type": "markdown",
   "id": "0fdc0629",
   "metadata": {},
   "source": [
    "**Наблюдение:** после парсинга данных о `S&P500` и `imoex` от каждого появилось по 5 показателей (`high`, `low`, `open`, `close`, `volume`). Мы решили, что может быть польза именно от гэпов `high-low` и `close-open`, поэтому 5 показателей от каждого индекса можно заменить на 4: `volume`, `gap_hl = high-low`, `gap_co = close-open` и `close`."
   ]
  },
  {
   "cell_type": "code",
   "execution_count": 15,
   "id": "8fac527d",
   "metadata": {},
   "outputs": [],
   "source": [
    "fintech['S&P500_gap_hl'] = fintech['high'] - fintech['low']\n",
    "fintech['S&P500_gap_co'] = fintech['close'] - fintech['open']\n",
    "fintech['IMOEX_gap_hl'] = fintech['High'] - fintech['Low']\n",
    "fintech['IMOEX_gap_co'] = fintech['Close'] - fintech['Open']"
   ]
  },
  {
   "cell_type": "code",
   "execution_count": 16,
   "id": "22169405",
   "metadata": {},
   "outputs": [],
   "source": [
    "fintech.drop(['High', 'Low', 'high', 'low', 'open', 'Open'], axis=1, inplace=True)"
   ]
  },
  {
   "cell_type": "markdown",
   "id": "eb418045",
   "metadata": {},
   "source": [
    "Переименуем некоторые (схожие по названию) столбцы, чтобы не было путаницы"
   ]
  },
  {
   "cell_type": "code",
   "execution_count": 17,
   "id": "549a7a63",
   "metadata": {},
   "outputs": [],
   "source": [
    "fintech.rename({'Close': 'IMOEX_close', 'close': 'S&P500_close', 'Volume': 'IMOEX_volume', 'volume': 'S&P500_volume'}, axis=1, inplace=True)"
   ]
  },
  {
   "cell_type": "code",
   "execution_count": 18,
   "id": "07b53687",
   "metadata": {},
   "outputs": [
    {
     "data": {
      "text/html": [
       "<div>\n",
       "<style scoped>\n",
       "    .dataframe tbody tr th:only-of-type {\n",
       "        vertical-align: middle;\n",
       "    }\n",
       "\n",
       "    .dataframe tbody tr th {\n",
       "        vertical-align: top;\n",
       "    }\n",
       "\n",
       "    .dataframe thead th {\n",
       "        text-align: right;\n",
       "    }\n",
       "</style>\n",
       "<table border=\"1\" class=\"dataframe\">\n",
       "  <thead>\n",
       "    <tr style=\"text-align: right;\">\n",
       "      <th></th>\n",
       "      <th>volume_NTRS_USA</th>\n",
       "      <th>close_NTRS_USA</th>\n",
       "      <th>volume_EWBC_USA</th>\n",
       "      <th>close_EWBC_USA</th>\n",
       "      <th>volume_COIN_USA</th>\n",
       "      <th>close_COIN_USA</th>\n",
       "      <th>volume_CG_USA</th>\n",
       "      <th>close_CG_USA</th>\n",
       "      <th>volume_CARM_RU</th>\n",
       "      <th>close_CARM_RU</th>\n",
       "      <th>...</th>\n",
       "      <th>gold_rates</th>\n",
       "      <th>silver_rates</th>\n",
       "      <th>platinum_rates</th>\n",
       "      <th>palladium_rates</th>\n",
       "      <th>is_workday</th>\n",
       "      <th>day_of_week</th>\n",
       "      <th>S&amp;P500_gap_hl</th>\n",
       "      <th>S&amp;P500_gap_co</th>\n",
       "      <th>IMOEX_gap_hl</th>\n",
       "      <th>IMOEX_gap_co</th>\n",
       "    </tr>\n",
       "    <tr>\n",
       "      <th>date</th>\n",
       "      <th></th>\n",
       "      <th></th>\n",
       "      <th></th>\n",
       "      <th></th>\n",
       "      <th></th>\n",
       "      <th></th>\n",
       "      <th></th>\n",
       "      <th></th>\n",
       "      <th></th>\n",
       "      <th></th>\n",
       "      <th></th>\n",
       "      <th></th>\n",
       "      <th></th>\n",
       "      <th></th>\n",
       "      <th></th>\n",
       "      <th></th>\n",
       "      <th></th>\n",
       "      <th></th>\n",
       "      <th></th>\n",
       "      <th></th>\n",
       "      <th></th>\n",
       "    </tr>\n",
       "  </thead>\n",
       "  <tbody>\n",
       "    <tr>\n",
       "      <th>2019-05-25</th>\n",
       "      <td>NaN</td>\n",
       "      <td>NaN</td>\n",
       "      <td>NaN</td>\n",
       "      <td>NaN</td>\n",
       "      <td>NaN</td>\n",
       "      <td>NaN</td>\n",
       "      <td>NaN</td>\n",
       "      <td>NaN</td>\n",
       "      <td>NaN</td>\n",
       "      <td>NaN</td>\n",
       "      <td>...</td>\n",
       "      <td>2662.03</td>\n",
       "      <td>30.22</td>\n",
       "      <td>1674.29</td>\n",
       "      <td>2771.09</td>\n",
       "      <td>False</td>\n",
       "      <td>Saturday</td>\n",
       "      <td>NaN</td>\n",
       "      <td>NaN</td>\n",
       "      <td>NaN</td>\n",
       "      <td>NaN</td>\n",
       "    </tr>\n",
       "    <tr>\n",
       "      <th>2023-06-18</th>\n",
       "      <td>NaN</td>\n",
       "      <td>NaN</td>\n",
       "      <td>NaN</td>\n",
       "      <td>NaN</td>\n",
       "      <td>NaN</td>\n",
       "      <td>NaN</td>\n",
       "      <td>NaN</td>\n",
       "      <td>NaN</td>\n",
       "      <td>NaN</td>\n",
       "      <td>NaN</td>\n",
       "      <td>...</td>\n",
       "      <td>NaN</td>\n",
       "      <td>NaN</td>\n",
       "      <td>NaN</td>\n",
       "      <td>NaN</td>\n",
       "      <td>False</td>\n",
       "      <td>Sunday</td>\n",
       "      <td>NaN</td>\n",
       "      <td>NaN</td>\n",
       "      <td>NaN</td>\n",
       "      <td>NaN</td>\n",
       "    </tr>\n",
       "    <tr>\n",
       "      <th>2021-04-24</th>\n",
       "      <td>NaN</td>\n",
       "      <td>NaN</td>\n",
       "      <td>NaN</td>\n",
       "      <td>NaN</td>\n",
       "      <td>NaN</td>\n",
       "      <td>NaN</td>\n",
       "      <td>NaN</td>\n",
       "      <td>NaN</td>\n",
       "      <td>NaN</td>\n",
       "      <td>NaN</td>\n",
       "      <td>...</td>\n",
       "      <td>4310.03</td>\n",
       "      <td>63.07</td>\n",
       "      <td>2933.22</td>\n",
       "      <td>6885.23</td>\n",
       "      <td>False</td>\n",
       "      <td>Saturday</td>\n",
       "      <td>NaN</td>\n",
       "      <td>NaN</td>\n",
       "      <td>NaN</td>\n",
       "      <td>NaN</td>\n",
       "    </tr>\n",
       "    <tr>\n",
       "      <th>2021-02-23</th>\n",
       "      <td>931936.0</td>\n",
       "      <td>97.55</td>\n",
       "      <td>1008525.0</td>\n",
       "      <td>71.35</td>\n",
       "      <td>NaN</td>\n",
       "      <td>NaN</td>\n",
       "      <td>2580600.0</td>\n",
       "      <td>36.23</td>\n",
       "      <td>NaN</td>\n",
       "      <td>NaN</td>\n",
       "      <td>...</td>\n",
       "      <td>NaN</td>\n",
       "      <td>NaN</td>\n",
       "      <td>NaN</td>\n",
       "      <td>NaN</td>\n",
       "      <td>False</td>\n",
       "      <td>Tuesday</td>\n",
       "      <td>8.745</td>\n",
       "      <td>2.84</td>\n",
       "      <td>NaN</td>\n",
       "      <td>NaN</td>\n",
       "    </tr>\n",
       "    <tr>\n",
       "      <th>2021-06-06</th>\n",
       "      <td>NaN</td>\n",
       "      <td>NaN</td>\n",
       "      <td>NaN</td>\n",
       "      <td>NaN</td>\n",
       "      <td>NaN</td>\n",
       "      <td>NaN</td>\n",
       "      <td>NaN</td>\n",
       "      <td>NaN</td>\n",
       "      <td>NaN</td>\n",
       "      <td>NaN</td>\n",
       "      <td>...</td>\n",
       "      <td>NaN</td>\n",
       "      <td>NaN</td>\n",
       "      <td>NaN</td>\n",
       "      <td>NaN</td>\n",
       "      <td>False</td>\n",
       "      <td>Sunday</td>\n",
       "      <td>NaN</td>\n",
       "      <td>NaN</td>\n",
       "      <td>NaN</td>\n",
       "      <td>NaN</td>\n",
       "    </tr>\n",
       "  </tbody>\n",
       "</table>\n",
       "<p>5 rows × 292 columns</p>\n",
       "</div>"
      ],
      "text/plain": [
       "            volume_NTRS_USA  close_NTRS_USA  volume_EWBC_USA  close_EWBC_USA  \\\n",
       "date                                                                           \n",
       "2019-05-25              NaN             NaN              NaN             NaN   \n",
       "2023-06-18              NaN             NaN              NaN             NaN   \n",
       "2021-04-24              NaN             NaN              NaN             NaN   \n",
       "2021-02-23         931936.0           97.55        1008525.0           71.35   \n",
       "2021-06-06              NaN             NaN              NaN             NaN   \n",
       "\n",
       "            volume_COIN_USA  close_COIN_USA  volume_CG_USA  close_CG_USA  \\\n",
       "date                                                                       \n",
       "2019-05-25              NaN             NaN            NaN           NaN   \n",
       "2023-06-18              NaN             NaN            NaN           NaN   \n",
       "2021-04-24              NaN             NaN            NaN           NaN   \n",
       "2021-02-23              NaN             NaN      2580600.0         36.23   \n",
       "2021-06-06              NaN             NaN            NaN           NaN   \n",
       "\n",
       "            volume_CARM_RU  close_CARM_RU  ...  gold_rates  silver_rates  \\\n",
       "date                                       ...                             \n",
       "2019-05-25             NaN            NaN  ...     2662.03         30.22   \n",
       "2023-06-18             NaN            NaN  ...         NaN           NaN   \n",
       "2021-04-24             NaN            NaN  ...     4310.03         63.07   \n",
       "2021-02-23             NaN            NaN  ...         NaN           NaN   \n",
       "2021-06-06             NaN            NaN  ...         NaN           NaN   \n",
       "\n",
       "            platinum_rates  palladium_rates  is_workday  day_of_week  \\\n",
       "date                                                                   \n",
       "2019-05-25         1674.29          2771.09       False     Saturday   \n",
       "2023-06-18             NaN              NaN       False       Sunday   \n",
       "2021-04-24         2933.22          6885.23       False     Saturday   \n",
       "2021-02-23             NaN              NaN       False      Tuesday   \n",
       "2021-06-06             NaN              NaN       False       Sunday   \n",
       "\n",
       "            S&P500_gap_hl  S&P500_gap_co  IMOEX_gap_hl  IMOEX_gap_co  \n",
       "date                                                                  \n",
       "2019-05-25            NaN            NaN           NaN           NaN  \n",
       "2023-06-18            NaN            NaN           NaN           NaN  \n",
       "2021-04-24            NaN            NaN           NaN           NaN  \n",
       "2021-02-23          8.745           2.84           NaN           NaN  \n",
       "2021-06-06            NaN            NaN           NaN           NaN  \n",
       "\n",
       "[5 rows x 292 columns]"
      ]
     },
     "execution_count": 18,
     "metadata": {},
     "output_type": "execute_result"
    }
   ],
   "source": [
    "fintech[fintech['IMOEX_volume'].isnull()].sample(5)"
   ]
  },
  {
   "cell_type": "markdown",
   "id": "89cc339d",
   "metadata": {},
   "source": [
    "**Наблюдение:** большинство данных не спарсилось именно за выходные. это объясняется тем, что (почти) все отдыхают. Про праздники не будет сразу делать таких выводов, потому что там все зависит от организации."
   ]
  },
  {
   "cell_type": "markdown",
   "id": "ce71e970",
   "metadata": {},
   "source": [
    "**Решение:** избавимся от этих данных, с ними кашу не сваришь."
   ]
  },
  {
   "cell_type": "code",
   "execution_count": 19,
   "id": "be55e344",
   "metadata": {},
   "outputs": [],
   "source": [
    "fintech = fintech[(fintech['day_of_week'] != 'Sunday') & (fintech['day_of_week'] != 'Saturday')]"
   ]
  },
  {
   "cell_type": "code",
   "execution_count": 20,
   "id": "edb7faad",
   "metadata": {},
   "outputs": [
    {
     "data": {
      "text/plain": [
       "39657"
      ]
     },
     "execution_count": 20,
     "metadata": {},
     "output_type": "execute_result"
    }
   ],
   "source": [
    "fintech.isna().sum().sum()"
   ]
  },
  {
   "cell_type": "markdown",
   "id": "c90db847",
   "metadata": {},
   "source": [
    "Также надо не забыть, что если парсинг американских акций был не сегодня, то надо отсечь данные по значению переменной `the_day_of_parsing`."
   ]
  },
  {
   "cell_type": "code",
   "execution_count": 21,
   "id": "064b254a",
   "metadata": {},
   "outputs": [],
   "source": [
    "fintech = fintech[fintech.index <= the_day_of_parsing]"
   ]
  },
  {
   "cell_type": "code",
   "execution_count": 22,
   "id": "3820a252",
   "metadata": {},
   "outputs": [
    {
     "data": {
      "text/plain": [
       "35105"
      ]
     },
     "execution_count": 22,
     "metadata": {},
     "output_type": "execute_result"
    }
   ],
   "source": [
    "fintech.isna().sum().sum()"
   ]
  },
  {
   "cell_type": "markdown",
   "id": "5ad6e34e",
   "metadata": {},
   "source": [
    "## Исследование данных о котировках акций"
   ]
  },
  {
   "cell_type": "markdown",
   "id": "9447d14a",
   "metadata": {},
   "source": [
    "Теперь рассмотрим каждый признак на предмет наличия пропусков детальнее:"
   ]
  },
  {
   "cell_type": "code",
   "execution_count": 23,
   "id": "5bc0f22e",
   "metadata": {},
   "outputs": [
    {
     "data": {
      "text/plain": [
       "volume_MBNK_RU         1298\n",
       "close_MBNK_RU          1298\n",
       "volume_CARM_RU         1088\n",
       "close_CARM_RU          1088\n",
       "volume_CRBG_USA         891\n",
       "                       ... \n",
       "Денежный агрегат М1       6\n",
       "Денежный агрегат М2       6\n",
       "effr                      6\n",
       "is_workday                0\n",
       "day_of_week               0\n",
       "Length: 292, dtype: int64"
      ]
     },
     "execution_count": 23,
     "metadata": {},
     "output_type": "execute_result"
    }
   ],
   "source": [
    "fintech.isna().sum().sort_values(ascending=False)"
   ]
  },
  {
   "cell_type": "markdown",
   "id": "911f7d00",
   "metadata": {},
   "source": [
    "**Замечание:** заметим, что по акциям некоторых компаний практически нет данных. Так случилось из-за того, что конкретно те сайты, откуда мы доставали котировки, не хранили их по этим компаниям, может, компании слишком непопулярны, либо их акции начали торговаться гораздо позже 2019 года и тд\n",
    "\n",
    "**Со многими** акциями подобных компаний мы попрощаемся в рамках нашего исследования. Для удобства резделим данные на те, где пропусков больше 500 и где пропусков от 150 до 500 (этот промежуток требует более пристального рассмотрения, потому что они имеют больший шанс остаться с ручным заполнением пропусков)."
   ]
  },
  {
   "cell_type": "code",
   "execution_count": 24,
   "id": "ea75ad0d",
   "metadata": {},
   "outputs": [
    {
     "data": {
      "text/plain": [
       "volume_MBNK_RU     1298\n",
       "close_MBNK_RU      1298\n",
       "volume_CARM_RU     1088\n",
       "close_CARM_RU      1088\n",
       "close_CRBG_USA      891\n",
       "volume_CRBG_USA     891\n",
       "close_TPG_USA       723\n",
       "volume_TPG_USA      723\n",
       "close_POSI_RU       722\n",
       "volume_POSI_RU      702\n",
       "close_SPBE_RU       702\n",
       "volume_NU_USA       699\n",
       "close_NU_USA        699\n",
       "volume_SPBE_RU      682\n",
       "close_RENI_RU       682\n",
       "volume_RENI_RU      661\n",
       "volume_HOOD_USA     606\n",
       "close_HOOD_USA      606\n",
       "close_RYAN_USA      601\n",
       "volume_RYAN_USA     601\n",
       "close_COIN_USA      532\n",
       "volume_COIN_USA     532\n",
       "dtype: int64"
      ]
     },
     "execution_count": 24,
     "metadata": {},
     "output_type": "execute_result"
    }
   ],
   "source": [
    "exceptions = list(fintech.isna().sum()[fintech.isna().sum() < 500].index)\n",
    "fintech_1 = fintech.loc[:, ~fintech.columns.isin(exceptions)]\n",
    "fintech_1.isna().sum().sort_values(ascending=False)"
   ]
  },
  {
   "cell_type": "code",
   "execution_count": 25,
   "id": "d936fb28",
   "metadata": {},
   "outputs": [],
   "source": [
    "many_nans_1 = list(fintech_1.isna().sum().sort_values(ascending=False).index)"
   ]
  },
  {
   "cell_type": "markdown",
   "id": "6de6f5b8",
   "metadata": {},
   "source": [
    "Исследуем некоторые акции по отдельности: почему у них так много пропусков?"
   ]
  },
  {
   "cell_type": "markdown",
   "id": "2cdeec3f",
   "metadata": {},
   "source": [
    "**Описание процесса:** предполагаемых причин начилия большого количества пропусков было несколько: либо компания появилась на финансовом рынке совсем недавно (относительно промежутка 2019-2024 год), либо, в случае акций российских компаний, они торговались в разных режимах (не только TQBR) - предположение на уровне гипотезы, либо конкретно тот сайт, откуда мы брали данные о котировках, не предоставлял данные за какой-то период."
   ]
  },
  {
   "cell_type": "markdown",
   "id": "f8c4d97b",
   "metadata": {},
   "source": [
    "Как оказалось, **причина большинства пропусков** - компания разметила акции на финансовом рынке не так давно. **Причина дисбалансов (у volume/close)** - где-то вместо пропусков спарсились нули."
   ]
  },
  {
   "cell_type": "code",
   "execution_count": 26,
   "id": "2ab55d08",
   "metadata": {},
   "outputs": [],
   "source": [
    "exceptions_1 = list(fintech.isna().sum()[(fintech.isna().sum() > 500) | (fintech.isna().sum() < 150)].index)\n",
    "fintech_2 = fintech.loc[:, ~fintech.columns.isin(exceptions_1)]"
   ]
  },
  {
   "cell_type": "code",
   "execution_count": 27,
   "id": "24bef302",
   "metadata": {},
   "outputs": [
    {
     "data": {
      "text/plain": [
       "volume_OWL_USA     450\n",
       "close_OWL_USA      450\n",
       "close_SMLT_RU      434\n",
       "volume_SMLT_RU     414\n",
       "volume_RKT_USA     360\n",
       "close_RKT_USA      360\n",
       "close_INGR_RU      286\n",
       "volume_UWMC_USA    282\n",
       "close_UWMC_USA     282\n",
       "volume_INGR_RU     266\n",
       "close_PRMB_RU      226\n",
       "close_RDRB_RU      219\n",
       "close_TCSG_RU      203\n",
       "volume_XP_USA      196\n",
       "close_XP_USA       196\n",
       "volume_TCSG_RU     163\n",
       "dtype: int64"
      ]
     },
     "execution_count": 27,
     "metadata": {},
     "output_type": "execute_result"
    }
   ],
   "source": [
    "fintech_2.isna().sum().sort_values(ascending=False).drop(['usdrub', 'palladium_rates', 'platinum_rates', 'silver_rates', 'gold_rates', 'Interbank credit market rates'])"
   ]
  },
  {
   "cell_type": "markdown",
   "id": "10c28207",
   "metadata": {},
   "source": [
    "**Промежуточный вывод:** исследовав все акции, где количество пропусков превосходит 10%, можно сказать, что почти у всех причина одна: поздний листинг на фондовом рынке. Исключениями являются `INGR` и `PRMB`: в случае `INGR` есть подозрение, что данные неправильно спарсились, либо мосбиржа долго не публиковала их; у `PRMB` пропуски идут не подряд, а эпизодически, из-за чего их можно попробовать заполнить, предварительно предсказав."
   ]
  },
  {
   "cell_type": "code",
   "execution_count": 28,
   "id": "89a74e5e",
   "metadata": {},
   "outputs": [],
   "source": [
    "many_nans_2 = list(fintech_2.isna().sum().sort_values(ascending=False).drop(['usdrub', 'palladium_rates', 'platinum_rates', 'silver_rates', 'gold_rates', 'Interbank credit market rates', 'close_PRMB_RU']).index)"
   ]
  },
  {
   "cell_type": "markdown",
   "id": "c8949f6a",
   "metadata": {},
   "source": [
    "Котировки акций компании `INGR` мы решили выкинуть, потому что парсинг был реализован правильно и этот случай - странное исключение, которое сложно обработать.\n",
    "\n",
    "**Итого:** избавляемся от данных о 19 акциях (`MBNK`, `CARM`, `CRBG`, `TPG`, `POSI`, `SPBE`, `NU`, `RENI`, `HOOD`, `RYAN`, `COIN`, `OWL`, `SMLT`, `RKT`, `INGR`, `UWMC`, `RDRB`, `TCSG`, `XP`)"
   ]
  },
  {
   "cell_type": "code",
   "execution_count": 29,
   "id": "2bf03f95",
   "metadata": {},
   "outputs": [],
   "source": [
    "all_columns_to_drop = many_nans_1 + many_nans_2\n",
    "fintech.drop(all_columns_to_drop, axis=1, inplace=True)"
   ]
  },
  {
   "cell_type": "code",
   "execution_count": 30,
   "id": "e011e0b0",
   "metadata": {},
   "outputs": [
    {
     "data": {
      "text/plain": [
       "(1305, 255)"
      ]
     },
     "execution_count": 30,
     "metadata": {},
     "output_type": "execute_result"
    }
   ],
   "source": [
    "fintech.shape"
   ]
  },
  {
   "cell_type": "code",
   "execution_count": 31,
   "id": "7a931856",
   "metadata": {},
   "outputs": [
    {
     "data": {
      "text/plain": [
       "usdrub                    371\n",
       "palladium_rates           371\n",
       "platinum_rates            371\n",
       "silver_rates              371\n",
       "gold_rates                371\n",
       "                         ... \n",
       "Денежный агрегат М2         6\n",
       "Широкая денежная масса      6\n",
       "effr                        6\n",
       "is_workday                  0\n",
       "day_of_week                 0\n",
       "Length: 255, dtype: int64"
      ]
     },
     "execution_count": 31,
     "metadata": {},
     "output_type": "execute_result"
    }
   ],
   "source": [
    "fintech.isna().sum().sort_values(ascending=False)"
   ]
  },
  {
   "cell_type": "code",
   "execution_count": 32,
   "id": "6661beec",
   "metadata": {},
   "outputs": [
    {
     "data": {
      "text/plain": [
       "['usdrub',\n",
       " 'palladium_rates',\n",
       " 'platinum_rates',\n",
       " 'silver_rates',\n",
       " 'gold_rates',\n",
       " 'Interbank credit market rates',\n",
       " 'daily_gdp_no_season',\n",
       " 'daily_gdp',\n",
       " 'IMOEX_close',\n",
       " 'IMOEX_volume',\n",
       " 'IMOEX_gap_hl',\n",
       " 'IMOEX_gap_co',\n",
       " 'S&P500_close',\n",
       " 'S&P500_gap_co',\n",
       " 'S&P500_gap_hl',\n",
       " 'S&P500_volume',\n",
       " ' Долг нефинансового сектора и домашних хозяйств, итого',\n",
       " 'Кредиты кредитных организаций',\n",
       " 'Котируемые акции и паи и акции инвестиционных фондов',\n",
       " 'Долговые ценные бумаги',\n",
       " 'Денежные средства на брокерских счетах',\n",
       " 'Депозиты',\n",
       " 'Наличная иностранная валюта',\n",
       " '    Домашние хозяйства и НКООДХ',\n",
       " '    Нефинансовый сектор',\n",
       " '          Внутренние заимствования',\n",
       " '              Кредиты',\n",
       " '              Долговые ценные бумаги в портфеле резидентов',\n",
       " '          Внешние заимствования',\n",
       " '              Кредиты и займы, полученные от нерезидентов',\n",
       " 'Наличная национальная валюта',\n",
       " '              Долговые ценные бумаги в портфеле нерезидентов, включая векселя',\n",
       " '          Внутренние заимствования.1',\n",
       " '          Внешние заимствования.1',\n",
       " 'real_gdp_usa',\n",
       " 'Денежный агрегат М0',\n",
       " 'Денежный агрегат М1',\n",
       " 'Денежный агрегат М2',\n",
       " 'Широкая денежная масса',\n",
       " 'effr']"
      ]
     },
     "execution_count": 32,
     "metadata": {},
     "output_type": "execute_result"
    }
   ],
   "source": [
    "list_of_features = fintech.isna().sum().sort_values(ascending=False).index\n",
    "filtered_columns = [col for col in list_of_features if not (col.startswith('volume_') or col.startswith('close_') or (fintech[col].isna().sum() == 0))]\n",
    "filtered_columns"
   ]
  },
  {
   "cell_type": "markdown",
   "id": "66896791",
   "metadata": {},
   "source": [
    "**Глобально** мы будем пользоваться двумя способами заполнения пропусков: наивное предсказание через `.ffill()` для признаков, на которые потенциально смотрят инвесторы для принятия решения. Делаем так, потому что они действительно опираются на предыдущие (последние доступные) значения. И прогнозирование через `ARIMA` для заполнения пропусков у макроэкономических признаков, а также того самого `PRMB`, выделенного ранее."
   ]
  },
  {
   "cell_type": "markdown",
   "id": "adc8f9fb",
   "metadata": {},
   "source": [
    "С помощью `.ffill()` мы обработаем следующие признаки: `usdrub`, `palladium_rates`, `platinum_rates`, `silver_rates`, `gold_rates`, `IMOEX_close`, `IMOEX_volume`, `IMOEX_gap_hl`, `IMOEX_gap_co`, `S&P500_close`, `S&P500_gap_co`, `S&P500_gap_hl`, `S&P500_volume`, `effr`."
   ]
  },
  {
   "cell_type": "markdown",
   "id": "d05ac5e8",
   "metadata": {},
   "source": [
    "## Исследование курсов валюты и драг металлов\n",
    "\n",
    "**Замечание:** если исследовать возможные причины пропусков в `usdrub`, `gold_rates`, `silver_rates`, `platinum_rates` и `palladium_rates`, то стоит обратить внимание, что в 205 из 311 понедельников этих курсов не было. Не уверен, но кажется, что прикол в том, что ЦБ в пн пользуется курсов за пт **(подтверждение не смог почему-то найти)**. Но на этот день недели есть явное смещение, еще одно оправдание для использования `fill forward`."
   ]
  },
  {
   "cell_type": "code",
   "execution_count": 33,
   "id": "82a76c05",
   "metadata": {},
   "outputs": [
    {
     "data": {
      "text/plain": [
       "(56, 255)"
      ]
     },
     "execution_count": 33,
     "metadata": {},
     "output_type": "execute_result"
    }
   ],
   "source": [
    "fintech[~(fintech['usdrub'].isnull()) & (fintech['day_of_week'] == 'Monday')].shape"
   ]
  },
  {
   "cell_type": "code",
   "execution_count": 34,
   "id": "ba82eb7f",
   "metadata": {},
   "outputs": [
    {
     "data": {
      "text/plain": [
       "(205, 255)"
      ]
     },
     "execution_count": 34,
     "metadata": {},
     "output_type": "execute_result"
    }
   ],
   "source": [
    "fintech[(fintech['usdrub'].isnull()) & (fintech['day_of_week'] == 'Monday')].shape"
   ]
  },
  {
   "cell_type": "code",
   "execution_count": 35,
   "id": "6d79e912",
   "metadata": {},
   "outputs": [],
   "source": [
    "fintech['usdrub'] = fintech['usdrub'].ffill()\n",
    "fintech['gold_rates'] = fintech['gold_rates'].ffill()\n",
    "fintech['silver_rates'] = fintech['silver_rates'].ffill()\n",
    "fintech['platinum_rates'] = fintech['platinum_rates'].ffill()\n",
    "fintech['palladium_rates'] = fintech['palladium_rates'].ffill()"
   ]
  },
  {
   "cell_type": "code",
   "execution_count": 36,
   "id": "c85ccec9",
   "metadata": {},
   "outputs": [
    {
     "data": {
      "text/plain": [
       "0"
      ]
     },
     "execution_count": 36,
     "metadata": {},
     "output_type": "execute_result"
    }
   ],
   "source": [
    "fintech['gold_rates'].isna().sum()"
   ]
  },
  {
   "cell_type": "markdown",
   "id": "ed93b5ba",
   "metadata": {},
   "source": [
    "## Исследование IMOEX и S&P500\n"
   ]
  },
  {
   "cell_type": "code",
   "execution_count": 37,
   "id": "606e7f46",
   "metadata": {},
   "outputs": [
    {
     "data": {
      "text/html": [
       "<div>\n",
       "<style scoped>\n",
       "    .dataframe tbody tr th:only-of-type {\n",
       "        vertical-align: middle;\n",
       "    }\n",
       "\n",
       "    .dataframe tbody tr th {\n",
       "        vertical-align: top;\n",
       "    }\n",
       "\n",
       "    .dataframe thead th {\n",
       "        text-align: right;\n",
       "    }\n",
       "</style>\n",
       "<table border=\"1\" class=\"dataframe\">\n",
       "  <thead>\n",
       "    <tr style=\"text-align: right;\">\n",
       "      <th></th>\n",
       "      <th>volume_NTRS_USA</th>\n",
       "      <th>close_NTRS_USA</th>\n",
       "      <th>volume_EWBC_USA</th>\n",
       "      <th>close_EWBC_USA</th>\n",
       "      <th>volume_CG_USA</th>\n",
       "      <th>close_CG_USA</th>\n",
       "      <th>volume_CBOE_USA</th>\n",
       "      <th>close_CBOE_USA</th>\n",
       "      <th>volume_BLK_USA</th>\n",
       "      <th>close_BLK_USA</th>\n",
       "      <th>...</th>\n",
       "      <th>gold_rates</th>\n",
       "      <th>silver_rates</th>\n",
       "      <th>platinum_rates</th>\n",
       "      <th>palladium_rates</th>\n",
       "      <th>is_workday</th>\n",
       "      <th>day_of_week</th>\n",
       "      <th>S&amp;P500_gap_hl</th>\n",
       "      <th>S&amp;P500_gap_co</th>\n",
       "      <th>IMOEX_gap_hl</th>\n",
       "      <th>IMOEX_gap_co</th>\n",
       "    </tr>\n",
       "    <tr>\n",
       "      <th>date</th>\n",
       "      <th></th>\n",
       "      <th></th>\n",
       "      <th></th>\n",
       "      <th></th>\n",
       "      <th></th>\n",
       "      <th></th>\n",
       "      <th></th>\n",
       "      <th></th>\n",
       "      <th></th>\n",
       "      <th></th>\n",
       "      <th></th>\n",
       "      <th></th>\n",
       "      <th></th>\n",
       "      <th></th>\n",
       "      <th></th>\n",
       "      <th></th>\n",
       "      <th></th>\n",
       "      <th></th>\n",
       "      <th></th>\n",
       "      <th></th>\n",
       "      <th></th>\n",
       "    </tr>\n",
       "  </thead>\n",
       "  <tbody>\n",
       "    <tr>\n",
       "      <th>2019-05-09</th>\n",
       "      <td>804008.0</td>\n",
       "      <td>96.97</td>\n",
       "      <td>748222.0</td>\n",
       "      <td>50.17</td>\n",
       "      <td>593700.0</td>\n",
       "      <td>20.76</td>\n",
       "      <td>999923.0</td>\n",
       "      <td>103.60</td>\n",
       "      <td>435546.0</td>\n",
       "      <td>464.22</td>\n",
       "      <td>...</td>\n",
       "      <td>3290.00</td>\n",
       "      <td>41.27</td>\n",
       "      <td>2069.61</td>\n",
       "      <td>3303.26</td>\n",
       "      <td>False</td>\n",
       "      <td>Thursday</td>\n",
       "      <td>4.0300</td>\n",
       "      <td>1.43</td>\n",
       "      <td>NaN</td>\n",
       "      <td>NaN</td>\n",
       "    </tr>\n",
       "    <tr>\n",
       "      <th>2019-06-12</th>\n",
       "      <td>2207877.0</td>\n",
       "      <td>88.01</td>\n",
       "      <td>1765096.0</td>\n",
       "      <td>43.50</td>\n",
       "      <td>281900.0</td>\n",
       "      <td>21.57</td>\n",
       "      <td>617279.0</td>\n",
       "      <td>107.70</td>\n",
       "      <td>430122.0</td>\n",
       "      <td>446.25</td>\n",
       "      <td>...</td>\n",
       "      <td>3025.36</td>\n",
       "      <td>35.14</td>\n",
       "      <td>1823.92</td>\n",
       "      <td>3816.07</td>\n",
       "      <td>False</td>\n",
       "      <td>Wednesday</td>\n",
       "      <td>1.4400</td>\n",
       "      <td>-0.25</td>\n",
       "      <td>NaN</td>\n",
       "      <td>NaN</td>\n",
       "    </tr>\n",
       "    <tr>\n",
       "      <th>2019-11-04</th>\n",
       "      <td>691773.0</td>\n",
       "      <td>103.87</td>\n",
       "      <td>1119061.0</td>\n",
       "      <td>45.43</td>\n",
       "      <td>976300.0</td>\n",
       "      <td>27.98</td>\n",
       "      <td>592013.0</td>\n",
       "      <td>113.52</td>\n",
       "      <td>551836.0</td>\n",
       "      <td>476.53</td>\n",
       "      <td>...</td>\n",
       "      <td>2715.75</td>\n",
       "      <td>31.73</td>\n",
       "      <td>1854.48</td>\n",
       "      <td>2884.75</td>\n",
       "      <td>False</td>\n",
       "      <td>Monday</td>\n",
       "      <td>1.0400</td>\n",
       "      <td>-0.48</td>\n",
       "      <td>NaN</td>\n",
       "      <td>NaN</td>\n",
       "    </tr>\n",
       "    <tr>\n",
       "      <th>2019-12-31</th>\n",
       "      <td>741362.0</td>\n",
       "      <td>106.24</td>\n",
       "      <td>1167529.0</td>\n",
       "      <td>48.70</td>\n",
       "      <td>1362600.0</td>\n",
       "      <td>32.08</td>\n",
       "      <td>384804.0</td>\n",
       "      <td>120.00</td>\n",
       "      <td>296863.0</td>\n",
       "      <td>502.70</td>\n",
       "      <td>...</td>\n",
       "      <td>3008.36</td>\n",
       "      <td>35.48</td>\n",
       "      <td>1896.77</td>\n",
       "      <td>3795.53</td>\n",
       "      <td>False</td>\n",
       "      <td>Tuesday</td>\n",
       "      <td>1.9800</td>\n",
       "      <td>1.33</td>\n",
       "      <td>NaN</td>\n",
       "      <td>NaN</td>\n",
       "    </tr>\n",
       "    <tr>\n",
       "      <th>2020-01-01</th>\n",
       "      <td>NaN</td>\n",
       "      <td>NaN</td>\n",
       "      <td>NaN</td>\n",
       "      <td>NaN</td>\n",
       "      <td>NaN</td>\n",
       "      <td>NaN</td>\n",
       "      <td>NaN</td>\n",
       "      <td>NaN</td>\n",
       "      <td>NaN</td>\n",
       "      <td>NaN</td>\n",
       "      <td>...</td>\n",
       "      <td>3031.25</td>\n",
       "      <td>35.48</td>\n",
       "      <td>1932.59</td>\n",
       "      <td>3821.40</td>\n",
       "      <td>False</td>\n",
       "      <td>Wednesday</td>\n",
       "      <td>NaN</td>\n",
       "      <td>NaN</td>\n",
       "      <td>NaN</td>\n",
       "      <td>NaN</td>\n",
       "    </tr>\n",
       "    <tr>\n",
       "      <th>...</th>\n",
       "      <td>...</td>\n",
       "      <td>...</td>\n",
       "      <td>...</td>\n",
       "      <td>...</td>\n",
       "      <td>...</td>\n",
       "      <td>...</td>\n",
       "      <td>...</td>\n",
       "      <td>...</td>\n",
       "      <td>...</td>\n",
       "      <td>...</td>\n",
       "      <td>...</td>\n",
       "      <td>...</td>\n",
       "      <td>...</td>\n",
       "      <td>...</td>\n",
       "      <td>...</td>\n",
       "      <td>...</td>\n",
       "      <td>...</td>\n",
       "      <td>...</td>\n",
       "      <td>...</td>\n",
       "      <td>...</td>\n",
       "      <td>...</td>\n",
       "    </tr>\n",
       "    <tr>\n",
       "      <th>2024-02-23</th>\n",
       "      <td>1098178.0</td>\n",
       "      <td>81.48</td>\n",
       "      <td>667150.0</td>\n",
       "      <td>72.36</td>\n",
       "      <td>1864387.0</td>\n",
       "      <td>44.64</td>\n",
       "      <td>1121752.0</td>\n",
       "      <td>197.15</td>\n",
       "      <td>492606.0</td>\n",
       "      <td>813.59</td>\n",
       "      <td>...</td>\n",
       "      <td>6043.85</td>\n",
       "      <td>68.81</td>\n",
       "      <td>2689.80</td>\n",
       "      <td>2901.53</td>\n",
       "      <td>False</td>\n",
       "      <td>Friday</td>\n",
       "      <td>3.0300</td>\n",
       "      <td>-1.42</td>\n",
       "      <td>NaN</td>\n",
       "      <td>NaN</td>\n",
       "    </tr>\n",
       "    <tr>\n",
       "      <th>2024-03-08</th>\n",
       "      <td>1225456.0</td>\n",
       "      <td>81.81</td>\n",
       "      <td>1038029.0</td>\n",
       "      <td>76.82</td>\n",
       "      <td>2165911.0</td>\n",
       "      <td>47.35</td>\n",
       "      <td>818779.0</td>\n",
       "      <td>186.69</td>\n",
       "      <td>396217.0</td>\n",
       "      <td>836.12</td>\n",
       "      <td>...</td>\n",
       "      <td>6814.03</td>\n",
       "      <td>78.37</td>\n",
       "      <td>2805.70</td>\n",
       "      <td>2787.94</td>\n",
       "      <td>False</td>\n",
       "      <td>Friday</td>\n",
       "      <td>7.0901</td>\n",
       "      <td>-3.74</td>\n",
       "      <td>NaN</td>\n",
       "      <td>NaN</td>\n",
       "    </tr>\n",
       "    <tr>\n",
       "      <th>2024-05-01</th>\n",
       "      <td>1062849.0</td>\n",
       "      <td>83.05</td>\n",
       "      <td>758016.0</td>\n",
       "      <td>75.56</td>\n",
       "      <td>6031390.0</td>\n",
       "      <td>40.97</td>\n",
       "      <td>535367.0</td>\n",
       "      <td>179.90</td>\n",
       "      <td>614845.0</td>\n",
       "      <td>751.58</td>\n",
       "      <td>...</td>\n",
       "      <td>6872.79</td>\n",
       "      <td>80.33</td>\n",
       "      <td>2680.69</td>\n",
       "      <td>2994.67</td>\n",
       "      <td>False</td>\n",
       "      <td>Wednesday</td>\n",
       "      <td>8.3250</td>\n",
       "      <td>-1.03</td>\n",
       "      <td>NaN</td>\n",
       "      <td>NaN</td>\n",
       "    </tr>\n",
       "    <tr>\n",
       "      <th>2024-05-07</th>\n",
       "      <td>862435.0</td>\n",
       "      <td>84.66</td>\n",
       "      <td>344133.0</td>\n",
       "      <td>77.46</td>\n",
       "      <td>2656879.0</td>\n",
       "      <td>41.98</td>\n",
       "      <td>787231.0</td>\n",
       "      <td>184.25</td>\n",
       "      <td>777419.0</td>\n",
       "      <td>780.92</td>\n",
       "      <td>...</td>\n",
       "      <td>6020.42</td>\n",
       "      <td>66.73</td>\n",
       "      <td>2561.13</td>\n",
       "      <td>2746.17</td>\n",
       "      <td>False</td>\n",
       "      <td>Tuesday</td>\n",
       "      <td>NaN</td>\n",
       "      <td>NaN</td>\n",
       "      <td>NaN</td>\n",
       "      <td>NaN</td>\n",
       "    </tr>\n",
       "    <tr>\n",
       "      <th>2024-05-08</th>\n",
       "      <td>111137.0</td>\n",
       "      <td>85.14</td>\n",
       "      <td>56786.0</td>\n",
       "      <td>77.05</td>\n",
       "      <td>130161.0</td>\n",
       "      <td>41.41</td>\n",
       "      <td>63930.0</td>\n",
       "      <td>184.47</td>\n",
       "      <td>86410.0</td>\n",
       "      <td>774.69</td>\n",
       "      <td>...</td>\n",
       "      <td>6020.42</td>\n",
       "      <td>66.73</td>\n",
       "      <td>2561.13</td>\n",
       "      <td>2746.17</td>\n",
       "      <td>False</td>\n",
       "      <td>Wednesday</td>\n",
       "      <td>NaN</td>\n",
       "      <td>NaN</td>\n",
       "      <td>NaN</td>\n",
       "      <td>NaN</td>\n",
       "    </tr>\n",
       "  </tbody>\n",
       "</table>\n",
       "<p>61 rows × 255 columns</p>\n",
       "</div>"
      ],
      "text/plain": [
       "            volume_NTRS_USA  close_NTRS_USA  volume_EWBC_USA  close_EWBC_USA  \\\n",
       "date                                                                           \n",
       "2019-05-09         804008.0           96.97         748222.0           50.17   \n",
       "2019-06-12        2207877.0           88.01        1765096.0           43.50   \n",
       "2019-11-04         691773.0          103.87        1119061.0           45.43   \n",
       "2019-12-31         741362.0          106.24        1167529.0           48.70   \n",
       "2020-01-01              NaN             NaN              NaN             NaN   \n",
       "...                     ...             ...              ...             ...   \n",
       "2024-02-23        1098178.0           81.48         667150.0           72.36   \n",
       "2024-03-08        1225456.0           81.81        1038029.0           76.82   \n",
       "2024-05-01        1062849.0           83.05         758016.0           75.56   \n",
       "2024-05-07         862435.0           84.66         344133.0           77.46   \n",
       "2024-05-08         111137.0           85.14          56786.0           77.05   \n",
       "\n",
       "            volume_CG_USA  close_CG_USA  volume_CBOE_USA  close_CBOE_USA  \\\n",
       "date                                                                       \n",
       "2019-05-09       593700.0         20.76         999923.0          103.60   \n",
       "2019-06-12       281900.0         21.57         617279.0          107.70   \n",
       "2019-11-04       976300.0         27.98         592013.0          113.52   \n",
       "2019-12-31      1362600.0         32.08         384804.0          120.00   \n",
       "2020-01-01            NaN           NaN              NaN             NaN   \n",
       "...                   ...           ...              ...             ...   \n",
       "2024-02-23      1864387.0         44.64        1121752.0          197.15   \n",
       "2024-03-08      2165911.0         47.35         818779.0          186.69   \n",
       "2024-05-01      6031390.0         40.97         535367.0          179.90   \n",
       "2024-05-07      2656879.0         41.98         787231.0          184.25   \n",
       "2024-05-08       130161.0         41.41          63930.0          184.47   \n",
       "\n",
       "            volume_BLK_USA  close_BLK_USA  ...  gold_rates  silver_rates  \\\n",
       "date                                       ...                             \n",
       "2019-05-09        435546.0         464.22  ...     3290.00         41.27   \n",
       "2019-06-12        430122.0         446.25  ...     3025.36         35.14   \n",
       "2019-11-04        551836.0         476.53  ...     2715.75         31.73   \n",
       "2019-12-31        296863.0         502.70  ...     3008.36         35.48   \n",
       "2020-01-01             NaN            NaN  ...     3031.25         35.48   \n",
       "...                    ...            ...  ...         ...           ...   \n",
       "2024-02-23        492606.0         813.59  ...     6043.85         68.81   \n",
       "2024-03-08        396217.0         836.12  ...     6814.03         78.37   \n",
       "2024-05-01        614845.0         751.58  ...     6872.79         80.33   \n",
       "2024-05-07        777419.0         780.92  ...     6020.42         66.73   \n",
       "2024-05-08         86410.0         774.69  ...     6020.42         66.73   \n",
       "\n",
       "            platinum_rates  palladium_rates  is_workday  day_of_week  \\\n",
       "date                                                                   \n",
       "2019-05-09         2069.61          3303.26       False     Thursday   \n",
       "2019-06-12         1823.92          3816.07       False    Wednesday   \n",
       "2019-11-04         1854.48          2884.75       False       Monday   \n",
       "2019-12-31         1896.77          3795.53       False      Tuesday   \n",
       "2020-01-01         1932.59          3821.40       False    Wednesday   \n",
       "...                    ...              ...         ...          ...   \n",
       "2024-02-23         2689.80          2901.53       False       Friday   \n",
       "2024-03-08         2805.70          2787.94       False       Friday   \n",
       "2024-05-01         2680.69          2994.67       False    Wednesday   \n",
       "2024-05-07         2561.13          2746.17       False      Tuesday   \n",
       "2024-05-08         2561.13          2746.17       False    Wednesday   \n",
       "\n",
       "            S&P500_gap_hl  S&P500_gap_co  IMOEX_gap_hl  IMOEX_gap_co  \n",
       "date                                                                  \n",
       "2019-05-09         4.0300           1.43           NaN           NaN  \n",
       "2019-06-12         1.4400          -0.25           NaN           NaN  \n",
       "2019-11-04         1.0400          -0.48           NaN           NaN  \n",
       "2019-12-31         1.9800           1.33           NaN           NaN  \n",
       "2020-01-01            NaN            NaN           NaN           NaN  \n",
       "...                   ...            ...           ...           ...  \n",
       "2024-02-23         3.0300          -1.42           NaN           NaN  \n",
       "2024-03-08         7.0901          -3.74           NaN           NaN  \n",
       "2024-05-01         8.3250          -1.03           NaN           NaN  \n",
       "2024-05-07            NaN            NaN           NaN           NaN  \n",
       "2024-05-08            NaN            NaN           NaN           NaN  \n",
       "\n",
       "[61 rows x 255 columns]"
      ]
     },
     "execution_count": 37,
     "metadata": {},
     "output_type": "execute_result"
    }
   ],
   "source": [
    "fintech[fintech['IMOEX_volume'].isnull()]"
   ]
  },
  {
   "cell_type": "markdown",
   "id": "0e1a170b",
   "metadata": {},
   "source": [
    "У данных об `S&P500` не получилось выявить каких-то закономерностей и понять причины пропусков у данных о индексах. Поэтому просто заполним пропуски через `.ffill()`. В случае `IMOEX` есть особенный временной промежуток: март 2022 года, когда данные не обновлялись Мосбиржей. Так как нам закономерность отсутсвия данных кажется непонятной, то было принято решение обработать `IMOEX` тоже через `ARIMA`."
   ]
  },
  {
   "cell_type": "code",
   "execution_count": 38,
   "id": "a0ac72cb",
   "metadata": {},
   "outputs": [],
   "source": [
    "fintech['S&P500_close'] = fintech['S&P500_close'].ffill()\n",
    "fintech['S&P500_volume'] = fintech['S&P500_volume'].ffill()\n",
    "fintech['S&P500_gap_hl'] = fintech['S&P500_gap_hl'].ffill()\n",
    "fintech['S&P500_gap_co'] = fintech['S&P500_gap_co'].ffill()"
   ]
  },
  {
   "cell_type": "markdown",
   "id": "c9b20f7e",
   "metadata": {},
   "source": [
    "## Исследование EFFR"
   ]
  },
  {
   "cell_type": "code",
   "execution_count": 39,
   "id": "736bc908",
   "metadata": {},
   "outputs": [
    {
     "data": {
      "text/plain": [
       "6"
      ]
     },
     "execution_count": 39,
     "metadata": {},
     "output_type": "execute_result"
    }
   ],
   "source": [
    "fintech['effr'].isna().sum()"
   ]
  },
  {
   "cell_type": "markdown",
   "id": "158f49fd",
   "metadata": {},
   "source": [
    "Посмотрев, где находятся пропуски у этого признака, то увидим, что за последние даты есть все 6 Nans, что вполне естественно. В целом, можно как попрощаться с этим датами, так и заполнить их с помощью `.ffill()`"
   ]
  },
  {
   "cell_type": "code",
   "execution_count": 40,
   "id": "d9712986",
   "metadata": {},
   "outputs": [],
   "source": [
    "#fintech = fintech[fintech.index < '2024-05-01']"
   ]
  },
  {
   "cell_type": "code",
   "execution_count": 41,
   "id": "dd01f7fc",
   "metadata": {},
   "outputs": [],
   "source": [
    "fintech['effr'] = fintech['effr'].ffill()"
   ]
  },
  {
   "cell_type": "code",
   "execution_count": 42,
   "id": "cb03fb7e",
   "metadata": {},
   "outputs": [
    {
     "data": {
      "text/plain": [
       "11460"
      ]
     },
     "execution_count": 42,
     "metadata": {},
     "output_type": "execute_result"
    }
   ],
   "source": [
    "fintech.isna().sum().sum()"
   ]
  },
  {
   "cell_type": "markdown",
   "id": "7e52f0f7",
   "metadata": {},
   "source": [
    "## Заполнение пропусков через ARIMA"
   ]
  },
  {
   "cell_type": "code",
   "execution_count": null,
   "id": "dbcaf8c6",
   "metadata": {},
   "outputs": [],
   "source": []
  },
  {
   "cell_type": "code",
   "execution_count": null,
   "id": "477361fc",
   "metadata": {},
   "outputs": [],
   "source": []
  }
 ],
 "metadata": {
  "kernelspec": {
   "display_name": "Python 3 (ipykernel)",
   "language": "python",
   "name": "python3"
  },
  "language_info": {
   "codemirror_mode": {
    "name": "ipython",
    "version": 3
   },
   "file_extension": ".py",
   "mimetype": "text/x-python",
   "name": "python",
   "nbconvert_exporter": "python",
   "pygments_lexer": "ipython3",
   "version": "3.11.4"
  }
 },
 "nbformat": 4,
 "nbformat_minor": 5
}
