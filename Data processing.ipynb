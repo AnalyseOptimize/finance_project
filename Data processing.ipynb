{
 "cells": [
  {
   "cell_type": "markdown",
   "id": "36f5269f",
   "metadata": {},
   "source": [
    "**Дисклеймер:** весь текст этой тетрадки переведу на английский после успешной реализации."
   ]
  },
  {
   "cell_type": "code",
   "execution_count": 1,
   "id": "a9988c25",
   "metadata": {},
   "outputs": [],
   "source": [
    "import pandas as pd"
   ]
  },
  {
   "cell_type": "code",
   "execution_count": 2,
   "id": "8a8e6fc6",
   "metadata": {},
   "outputs": [],
   "source": [
    "healthcare_services = pd.read_csv('healthcare_services.csv')\n",
    "renewable_energy = pd.read_csv('renewable_energy.csv')\n",
    "industrial_goods = pd.read_csv('industrial_goods.csv')\n",
    "fintech = pd.read_csv('fintech.csv')"
   ]
  },
  {
   "cell_type": "markdown",
   "id": "6e0b70a3",
   "metadata": {},
   "source": [
    "## Description of the variables"
   ]
  },
  {
   "cell_type": "markdown",
   "id": "4b9e2616",
   "metadata": {},
   "source": []
  },
  {
   "cell_type": "markdown",
   "id": "388775e5",
   "metadata": {},
   "source": [
    "## Processing of Nans/passes"
   ]
  },
  {
   "cell_type": "code",
   "execution_count": 3,
   "id": "1644663d",
   "metadata": {},
   "outputs": [
    {
     "name": "stdout",
     "output_type": "stream",
     "text": [
      "Initial (total) amount of NaNs\n",
      "\n",
      "In fintech data: 208642\n",
      "In industrial goods data: 209596\n",
      "In renewable energy data: 94342\n",
      "In healthcare services data: 178072\n"
     ]
    }
   ],
   "source": [
    "print(f'Initial (total) amount of NaNs')\n",
    "print()\n",
    "print(f'In fintech data: {fintech.isna().sum().sum()}')\n",
    "print(f'In industrial goods data: {industrial_goods.isna().sum().sum()}')\n",
    "print(f'In renewable energy data: {renewable_energy.isna().sum().sum()}')\n",
    "print(f'In healthcare services data: {healthcare_services.isna().sum().sum()}')"
   ]
  },
  {
   "cell_type": "markdown",
   "id": "756c06f7",
   "metadata": {},
   "source": [
    "Сайт FMP позволяет парсить котировки американских акций только за последние 5 лет. В связи с этим создадим вспомогательные переменные"
   ]
  },
  {
   "cell_type": "code",
   "execution_count": 4,
   "id": "60060f8a",
   "metadata": {},
   "outputs": [],
   "source": [
    "the_day_of_parsing = pd.to_datetime('2024-05-08', format='%Y-%m-%d')\n",
    "threshold = the_day_of_parsing - pd.DateOffset(years=5)"
   ]
  },
  {
   "cell_type": "markdown",
   "id": "2df35a2c",
   "metadata": {},
   "source": [
    "### Fintech\n",
    "\n",
    "Надеюсь, можно будет впоследствии запихнуть это в функцию и экстраполировать на все отрасли"
   ]
  },
  {
   "cell_type": "code",
   "execution_count": 5,
   "id": "2e45cca9",
   "metadata": {},
   "outputs": [
    {
     "data": {
      "text/plain": [
       "(1976, 293)"
      ]
     },
     "execution_count": 5,
     "metadata": {},
     "output_type": "execute_result"
    }
   ],
   "source": [
    "fintech.shape"
   ]
  },
  {
   "cell_type": "code",
   "execution_count": 6,
   "id": "c3a4110a",
   "metadata": {},
   "outputs": [],
   "source": [
    "fintech['date'] = pd.to_datetime(fintech['date'], format='%Y-%m-%d')"
   ]
  },
  {
   "cell_type": "code",
   "execution_count": 7,
   "id": "d864807c",
   "metadata": {},
   "outputs": [
    {
     "data": {
      "text/plain": [
       "close_MBNK_RU          1968\n",
       "volume_MBNK_RU         1968\n",
       "close_CARM_RU          1758\n",
       "volume_CARM_RU         1758\n",
       "volume_CRBG_USA        1562\n",
       "                       ... \n",
       "Денежный агрегат М0      29\n",
       "Денежный агрегат М1      29\n",
       "Денежный агрегат М2      29\n",
       "effr                     29\n",
       "date                      0\n",
       "Length: 293, dtype: int64"
      ]
     },
     "execution_count": 7,
     "metadata": {},
     "output_type": "execute_result"
    }
   ],
   "source": [
    "fintech.isna().sum().sort_values(ascending=False)"
   ]
  },
  {
   "cell_type": "markdown",
   "id": "5c6e99a6",
   "metadata": {},
   "source": [
    "**Первый шаг обработки:** для удобства определения причины пропусков создадим столбец-признак `is_workday`, который принимает два значения: True в будни и False в выходные/праздники. Для этого обратимся к данным из календаря, который мы спарсили ранее."
   ]
  },
  {
   "cell_type": "code",
   "execution_count": 8,
   "id": "e8fa83b7",
   "metadata": {},
   "outputs": [],
   "source": [
    "calendar = pd.read_csv('data/trading_calendat_NYSE.csv')\n",
    "calendar.drop(['Unnamed: 0'], axis=1, inplace=True)"
   ]
  },
  {
   "cell_type": "code",
   "execution_count": 9,
   "id": "1a7b2384",
   "metadata": {},
   "outputs": [
    {
     "data": {
      "text/plain": [
       "dtype('<M8[ns]')"
      ]
     },
     "execution_count": 9,
     "metadata": {},
     "output_type": "execute_result"
    }
   ],
   "source": [
    "calendar['Date'] = pd.to_datetime(calendar['Date'], format='%Y-%m-%d')\n",
    "calendar['Date'].dtype"
   ]
  },
  {
   "cell_type": "markdown",
   "id": "100f4e80",
   "metadata": {},
   "source": [
    "**Первый шаг исследования:** посмотрев на таблицу, мы поняли, что надо снова отсечь данные по дате на 5 лет ранее момента парсинга, потому что FMP дает данные о котировках только за последние 5 лет."
   ]
  },
  {
   "cell_type": "code",
   "execution_count": 10,
   "id": "49e084f2",
   "metadata": {},
   "outputs": [],
   "source": [
    "#дату (месяц/день) надо менять в зависимости от момента парсинга!!\n",
    "\n",
    "# ВТОРАЯ СТРОЧКА В ЭТОМ БЛОКЕ ПОКА НЕ РАБОТАЕТ (причина не ясна, результат плачевный)\n",
    "work_calendar = calendar[calendar['Date'] > threshold]\n",
    "fintech['is_workday'] = [i in work_calendar['Date'].dt.date for i in fintech['date'].dt.date]\n",
    "fintech = fintech[fintech['date'] > threshold]"
   ]
  },
  {
   "cell_type": "code",
   "execution_count": 11,
   "id": "216adc21",
   "metadata": {},
   "outputs": [
    {
     "data": {
      "text/plain": [
       "1346   2019-05-09\n",
       "1347   2019-05-10\n",
       "1348   2019-05-13\n",
       "1349   2019-05-14\n",
       "1350   2019-05-15\n",
       "          ...    \n",
       "2598   2024-04-30\n",
       "2599   2024-05-01\n",
       "2600   2024-05-02\n",
       "2601   2024-05-03\n",
       "2602   2024-05-06\n",
       "Name: Date, Length: 1257, dtype: datetime64[ns]"
      ]
     },
     "execution_count": 11,
     "metadata": {},
     "output_type": "execute_result"
    }
   ],
   "source": [
    "work_calendar['Date']"
   ]
  },
  {
   "cell_type": "markdown",
   "id": "68477760",
   "metadata": {},
   "source": [
    "**ПАЧИМУ((**"
   ]
  },
  {
   "cell_type": "code",
   "execution_count": 12,
   "id": "9ae3dc0d",
   "metadata": {},
   "outputs": [
    {
     "data": {
      "text/plain": [
       "{False}"
      ]
     },
     "execution_count": 12,
     "metadata": {},
     "output_type": "execute_result"
    }
   ],
   "source": [
    "{i in work_calendar['Date'] for i in fintech['date']}"
   ]
  },
  {
   "cell_type": "markdown",
   "id": "c26bc33f",
   "metadata": {},
   "source": [
    "Для удобства создадим новый столбец: день недели"
   ]
  },
  {
   "cell_type": "code",
   "execution_count": 13,
   "id": "45b64964",
   "metadata": {},
   "outputs": [],
   "source": [
    "fintech['day_of_week'] = fintech['date'].dt.day_name()"
   ]
  },
  {
   "cell_type": "code",
   "execution_count": 14,
   "id": "334a8fa5",
   "metadata": {},
   "outputs": [],
   "source": [
    "fintech.set_index(['date'], inplace=True)\n",
    "fintech.sort_index(inplace=True)"
   ]
  },
  {
   "cell_type": "code",
   "execution_count": 15,
   "id": "53e5a9d9",
   "metadata": {},
   "outputs": [
    {
     "data": {
      "text/html": [
       "<div>\n",
       "<style scoped>\n",
       "    .dataframe tbody tr th:only-of-type {\n",
       "        vertical-align: middle;\n",
       "    }\n",
       "\n",
       "    .dataframe tbody tr th {\n",
       "        vertical-align: top;\n",
       "    }\n",
       "\n",
       "    .dataframe thead th {\n",
       "        text-align: right;\n",
       "    }\n",
       "</style>\n",
       "<table border=\"1\" class=\"dataframe\">\n",
       "  <thead>\n",
       "    <tr style=\"text-align: right;\">\n",
       "      <th></th>\n",
       "      <th>volume_NTRS_USA</th>\n",
       "      <th>close_NTRS_USA</th>\n",
       "      <th>volume_EWBC_USA</th>\n",
       "      <th>close_EWBC_USA</th>\n",
       "      <th>volume_COIN_USA</th>\n",
       "      <th>close_COIN_USA</th>\n",
       "      <th>volume_CG_USA</th>\n",
       "      <th>close_CG_USA</th>\n",
       "      <th>volume_CARM_RU</th>\n",
       "      <th>close_CARM_RU</th>\n",
       "      <th>...</th>\n",
       "      <th>Low</th>\n",
       "      <th>Close</th>\n",
       "      <th>Volume</th>\n",
       "      <th>Interbank credit market rates</th>\n",
       "      <th>gold_rates</th>\n",
       "      <th>silver_rates</th>\n",
       "      <th>platinum_rates</th>\n",
       "      <th>palladium_rates</th>\n",
       "      <th>is_workday</th>\n",
       "      <th>day_of_week</th>\n",
       "    </tr>\n",
       "    <tr>\n",
       "      <th>date</th>\n",
       "      <th></th>\n",
       "      <th></th>\n",
       "      <th></th>\n",
       "      <th></th>\n",
       "      <th></th>\n",
       "      <th></th>\n",
       "      <th></th>\n",
       "      <th></th>\n",
       "      <th></th>\n",
       "      <th></th>\n",
       "      <th></th>\n",
       "      <th></th>\n",
       "      <th></th>\n",
       "      <th></th>\n",
       "      <th></th>\n",
       "      <th></th>\n",
       "      <th></th>\n",
       "      <th></th>\n",
       "      <th></th>\n",
       "      <th></th>\n",
       "      <th></th>\n",
       "    </tr>\n",
       "  </thead>\n",
       "  <tbody>\n",
       "    <tr>\n",
       "      <th>2019-05-09</th>\n",
       "      <td>804008.0</td>\n",
       "      <td>96.97</td>\n",
       "      <td>748222.0</td>\n",
       "      <td>50.17</td>\n",
       "      <td>NaN</td>\n",
       "      <td>NaN</td>\n",
       "      <td>593700.0</td>\n",
       "      <td>20.76</td>\n",
       "      <td>NaN</td>\n",
       "      <td>NaN</td>\n",
       "      <td>...</td>\n",
       "      <td>NaN</td>\n",
       "      <td>NaN</td>\n",
       "      <td>NaN</td>\n",
       "      <td>6.9477</td>\n",
       "      <td>3290.00</td>\n",
       "      <td>41.27</td>\n",
       "      <td>2069.61</td>\n",
       "      <td>3303.26</td>\n",
       "      <td>False</td>\n",
       "      <td>Thursday</td>\n",
       "    </tr>\n",
       "    <tr>\n",
       "      <th>2019-05-10</th>\n",
       "      <td>731618.0</td>\n",
       "      <td>97.56</td>\n",
       "      <td>674296.0</td>\n",
       "      <td>50.19</td>\n",
       "      <td>NaN</td>\n",
       "      <td>NaN</td>\n",
       "      <td>405600.0</td>\n",
       "      <td>20.62</td>\n",
       "      <td>NaN</td>\n",
       "      <td>NaN</td>\n",
       "      <td>...</td>\n",
       "      <td>2511.16</td>\n",
       "      <td>2514.87</td>\n",
       "      <td>3.253956e+10</td>\n",
       "      <td>NaN</td>\n",
       "      <td>3156.00</td>\n",
       "      <td>36.81</td>\n",
       "      <td>1848.23</td>\n",
       "      <td>3472.75</td>\n",
       "      <td>False</td>\n",
       "      <td>Friday</td>\n",
       "    </tr>\n",
       "    <tr>\n",
       "      <th>2019-05-11</th>\n",
       "      <td>NaN</td>\n",
       "      <td>NaN</td>\n",
       "      <td>NaN</td>\n",
       "      <td>NaN</td>\n",
       "      <td>NaN</td>\n",
       "      <td>NaN</td>\n",
       "      <td>NaN</td>\n",
       "      <td>NaN</td>\n",
       "      <td>NaN</td>\n",
       "      <td>NaN</td>\n",
       "      <td>...</td>\n",
       "      <td>NaN</td>\n",
       "      <td>NaN</td>\n",
       "      <td>NaN</td>\n",
       "      <td>6.3560</td>\n",
       "      <td>NaN</td>\n",
       "      <td>NaN</td>\n",
       "      <td>NaN</td>\n",
       "      <td>NaN</td>\n",
       "      <td>False</td>\n",
       "      <td>Saturday</td>\n",
       "    </tr>\n",
       "    <tr>\n",
       "      <th>2019-05-12</th>\n",
       "      <td>NaN</td>\n",
       "      <td>NaN</td>\n",
       "      <td>NaN</td>\n",
       "      <td>NaN</td>\n",
       "      <td>NaN</td>\n",
       "      <td>NaN</td>\n",
       "      <td>NaN</td>\n",
       "      <td>NaN</td>\n",
       "      <td>NaN</td>\n",
       "      <td>NaN</td>\n",
       "      <td>...</td>\n",
       "      <td>NaN</td>\n",
       "      <td>NaN</td>\n",
       "      <td>NaN</td>\n",
       "      <td>6.3851</td>\n",
       "      <td>3046.02</td>\n",
       "      <td>35.11</td>\n",
       "      <td>1874.03</td>\n",
       "      <td>3836.81</td>\n",
       "      <td>False</td>\n",
       "      <td>Sunday</td>\n",
       "    </tr>\n",
       "  </tbody>\n",
       "</table>\n",
       "<p>4 rows × 294 columns</p>\n",
       "</div>"
      ],
      "text/plain": [
       "            volume_NTRS_USA  close_NTRS_USA  volume_EWBC_USA  close_EWBC_USA  \\\n",
       "date                                                                           \n",
       "2019-05-09         804008.0           96.97         748222.0           50.17   \n",
       "2019-05-10         731618.0           97.56         674296.0           50.19   \n",
       "2019-05-11              NaN             NaN              NaN             NaN   \n",
       "2019-05-12              NaN             NaN              NaN             NaN   \n",
       "\n",
       "            volume_COIN_USA  close_COIN_USA  volume_CG_USA  close_CG_USA  \\\n",
       "date                                                                       \n",
       "2019-05-09              NaN             NaN       593700.0         20.76   \n",
       "2019-05-10              NaN             NaN       405600.0         20.62   \n",
       "2019-05-11              NaN             NaN            NaN           NaN   \n",
       "2019-05-12              NaN             NaN            NaN           NaN   \n",
       "\n",
       "            volume_CARM_RU  close_CARM_RU  ...      Low    Close  \\\n",
       "date                                       ...                     \n",
       "2019-05-09             NaN            NaN  ...      NaN      NaN   \n",
       "2019-05-10             NaN            NaN  ...  2511.16  2514.87   \n",
       "2019-05-11             NaN            NaN  ...      NaN      NaN   \n",
       "2019-05-12             NaN            NaN  ...      NaN      NaN   \n",
       "\n",
       "                  Volume  Interbank credit market rates  gold_rates  \\\n",
       "date                                                                  \n",
       "2019-05-09           NaN                         6.9477     3290.00   \n",
       "2019-05-10  3.253956e+10                            NaN     3156.00   \n",
       "2019-05-11           NaN                         6.3560         NaN   \n",
       "2019-05-12           NaN                         6.3851     3046.02   \n",
       "\n",
       "            silver_rates  platinum_rates  palladium_rates  is_workday  \\\n",
       "date                                                                    \n",
       "2019-05-09         41.27         2069.61          3303.26       False   \n",
       "2019-05-10         36.81         1848.23          3472.75       False   \n",
       "2019-05-11           NaN             NaN              NaN       False   \n",
       "2019-05-12         35.11         1874.03          3836.81       False   \n",
       "\n",
       "            day_of_week  \n",
       "date                     \n",
       "2019-05-09     Thursday  \n",
       "2019-05-10       Friday  \n",
       "2019-05-11     Saturday  \n",
       "2019-05-12       Sunday  \n",
       "\n",
       "[4 rows x 294 columns]"
      ]
     },
     "execution_count": 15,
     "metadata": {},
     "output_type": "execute_result"
    }
   ],
   "source": [
    "fintech.head(4)"
   ]
  },
  {
   "cell_type": "markdown",
   "id": "2427e1f9",
   "metadata": {},
   "source": [
    "**Наблюдение:** после парсинга данных о `S&P500` и `imoex` от каждого появилось по 5 показателей (`high`, `low`, `open`, `close`, `volume`). Мы решили, что может быть польза именно от гэпов `high-low` и `close-open`, поэтому 5 показателей от каждого индекса можно заменить на 4: `volume`, `gap_hl = high-low`, `gap_co = close-open`, `close`."
   ]
  },
  {
   "cell_type": "code",
   "execution_count": 16,
   "id": "ef906dfd",
   "metadata": {},
   "outputs": [],
   "source": [
    "fintech['S&P500_gap_hl'] = fintech['high'] - fintech['low']\n",
    "fintech['S&P500_gap_co'] = fintech['close'] - fintech['open']\n",
    "fintech['IMOEX_gap_hl'] = fintech['High'] - fintech['Low']\n",
    "fintech['IMOEX_gap_co'] = fintech['Close'] - fintech['Open']"
   ]
  },
  {
   "cell_type": "code",
   "execution_count": 17,
   "id": "30555558",
   "metadata": {},
   "outputs": [],
   "source": [
    "fintech.drop(['High', 'Low', 'high', 'low', 'open', 'Open'], axis=1, inplace=True)"
   ]
  },
  {
   "cell_type": "markdown",
   "id": "d5cfa3dd",
   "metadata": {},
   "source": [
    "Переименуем некоторые (схожие по названию) столбцы, чтобы не было путаницы"
   ]
  },
  {
   "cell_type": "code",
   "execution_count": 18,
   "id": "3d985fe8",
   "metadata": {},
   "outputs": [],
   "source": [
    "fintech.rename({'Close': 'IMOEX_close', 'close': 'S&P500_close', 'Volume': 'IMOEX_volume', 'volume': 'S&P500_volume'}, axis=1, inplace=True)"
   ]
  },
  {
   "cell_type": "code",
   "execution_count": 19,
   "id": "d5f8901a",
   "metadata": {},
   "outputs": [
    {
     "data": {
      "text/html": [
       "<div>\n",
       "<style scoped>\n",
       "    .dataframe tbody tr th:only-of-type {\n",
       "        vertical-align: middle;\n",
       "    }\n",
       "\n",
       "    .dataframe tbody tr th {\n",
       "        vertical-align: top;\n",
       "    }\n",
       "\n",
       "    .dataframe thead th {\n",
       "        text-align: right;\n",
       "    }\n",
       "</style>\n",
       "<table border=\"1\" class=\"dataframe\">\n",
       "  <thead>\n",
       "    <tr style=\"text-align: right;\">\n",
       "      <th></th>\n",
       "      <th>volume_NTRS_USA</th>\n",
       "      <th>close_NTRS_USA</th>\n",
       "      <th>volume_EWBC_USA</th>\n",
       "      <th>close_EWBC_USA</th>\n",
       "      <th>volume_COIN_USA</th>\n",
       "      <th>close_COIN_USA</th>\n",
       "      <th>volume_CG_USA</th>\n",
       "      <th>close_CG_USA</th>\n",
       "      <th>volume_CARM_RU</th>\n",
       "      <th>close_CARM_RU</th>\n",
       "      <th>...</th>\n",
       "      <th>gold_rates</th>\n",
       "      <th>silver_rates</th>\n",
       "      <th>platinum_rates</th>\n",
       "      <th>palladium_rates</th>\n",
       "      <th>is_workday</th>\n",
       "      <th>day_of_week</th>\n",
       "      <th>S&amp;P500_gap_hl</th>\n",
       "      <th>S&amp;P500_gap_co</th>\n",
       "      <th>IMOEX_gap_hl</th>\n",
       "      <th>IMOEX_gap_co</th>\n",
       "    </tr>\n",
       "    <tr>\n",
       "      <th>date</th>\n",
       "      <th></th>\n",
       "      <th></th>\n",
       "      <th></th>\n",
       "      <th></th>\n",
       "      <th></th>\n",
       "      <th></th>\n",
       "      <th></th>\n",
       "      <th></th>\n",
       "      <th></th>\n",
       "      <th></th>\n",
       "      <th></th>\n",
       "      <th></th>\n",
       "      <th></th>\n",
       "      <th></th>\n",
       "      <th></th>\n",
       "      <th></th>\n",
       "      <th></th>\n",
       "      <th></th>\n",
       "      <th></th>\n",
       "      <th></th>\n",
       "      <th></th>\n",
       "    </tr>\n",
       "  </thead>\n",
       "  <tbody>\n",
       "    <tr>\n",
       "      <th>2023-06-17</th>\n",
       "      <td>NaN</td>\n",
       "      <td>NaN</td>\n",
       "      <td>NaN</td>\n",
       "      <td>NaN</td>\n",
       "      <td>NaN</td>\n",
       "      <td>NaN</td>\n",
       "      <td>NaN</td>\n",
       "      <td>NaN</td>\n",
       "      <td>NaN</td>\n",
       "      <td>NaN</td>\n",
       "      <td>...</td>\n",
       "      <td>5250.65</td>\n",
       "      <td>62.95</td>\n",
       "      <td>2632.92</td>\n",
       "      <td>3679.10</td>\n",
       "      <td>False</td>\n",
       "      <td>Saturday</td>\n",
       "      <td>NaN</td>\n",
       "      <td>NaN</td>\n",
       "      <td>NaN</td>\n",
       "      <td>NaN</td>\n",
       "    </tr>\n",
       "    <tr>\n",
       "      <th>2023-01-28</th>\n",
       "      <td>NaN</td>\n",
       "      <td>NaN</td>\n",
       "      <td>NaN</td>\n",
       "      <td>NaN</td>\n",
       "      <td>NaN</td>\n",
       "      <td>NaN</td>\n",
       "      <td>NaN</td>\n",
       "      <td>NaN</td>\n",
       "      <td>NaN</td>\n",
       "      <td>NaN</td>\n",
       "      <td>...</td>\n",
       "      <td>4307.90</td>\n",
       "      <td>52.86</td>\n",
       "      <td>2300.58</td>\n",
       "      <td>3783.02</td>\n",
       "      <td>False</td>\n",
       "      <td>Saturday</td>\n",
       "      <td>NaN</td>\n",
       "      <td>NaN</td>\n",
       "      <td>NaN</td>\n",
       "      <td>NaN</td>\n",
       "    </tr>\n",
       "    <tr>\n",
       "      <th>2023-05-09</th>\n",
       "      <td>925407.0</td>\n",
       "      <td>72.14</td>\n",
       "      <td>1437519.0</td>\n",
       "      <td>44.88</td>\n",
       "      <td>9641197.0</td>\n",
       "      <td>60.21</td>\n",
       "      <td>3366100.0</td>\n",
       "      <td>26.03</td>\n",
       "      <td>NaN</td>\n",
       "      <td>NaN</td>\n",
       "      <td>...</td>\n",
       "      <td>6028.12</td>\n",
       "      <td>76.56</td>\n",
       "      <td>3053.59</td>\n",
       "      <td>3811.55</td>\n",
       "      <td>False</td>\n",
       "      <td>Tuesday</td>\n",
       "      <td>1.4006</td>\n",
       "      <td>-0.2</td>\n",
       "      <td>NaN</td>\n",
       "      <td>NaN</td>\n",
       "    </tr>\n",
       "    <tr>\n",
       "      <th>2020-10-25</th>\n",
       "      <td>NaN</td>\n",
       "      <td>NaN</td>\n",
       "      <td>NaN</td>\n",
       "      <td>NaN</td>\n",
       "      <td>NaN</td>\n",
       "      <td>NaN</td>\n",
       "      <td>NaN</td>\n",
       "      <td>NaN</td>\n",
       "      <td>NaN</td>\n",
       "      <td>NaN</td>\n",
       "      <td>...</td>\n",
       "      <td>NaN</td>\n",
       "      <td>NaN</td>\n",
       "      <td>NaN</td>\n",
       "      <td>NaN</td>\n",
       "      <td>False</td>\n",
       "      <td>Sunday</td>\n",
       "      <td>NaN</td>\n",
       "      <td>NaN</td>\n",
       "      <td>NaN</td>\n",
       "      <td>NaN</td>\n",
       "    </tr>\n",
       "    <tr>\n",
       "      <th>2022-08-28</th>\n",
       "      <td>NaN</td>\n",
       "      <td>NaN</td>\n",
       "      <td>NaN</td>\n",
       "      <td>NaN</td>\n",
       "      <td>NaN</td>\n",
       "      <td>NaN</td>\n",
       "      <td>NaN</td>\n",
       "      <td>NaN</td>\n",
       "      <td>NaN</td>\n",
       "      <td>NaN</td>\n",
       "      <td>...</td>\n",
       "      <td>NaN</td>\n",
       "      <td>NaN</td>\n",
       "      <td>NaN</td>\n",
       "      <td>NaN</td>\n",
       "      <td>False</td>\n",
       "      <td>Sunday</td>\n",
       "      <td>NaN</td>\n",
       "      <td>NaN</td>\n",
       "      <td>NaN</td>\n",
       "      <td>NaN</td>\n",
       "    </tr>\n",
       "  </tbody>\n",
       "</table>\n",
       "<p>5 rows × 292 columns</p>\n",
       "</div>"
      ],
      "text/plain": [
       "            volume_NTRS_USA  close_NTRS_USA  volume_EWBC_USA  close_EWBC_USA  \\\n",
       "date                                                                           \n",
       "2023-06-17              NaN             NaN              NaN             NaN   \n",
       "2023-01-28              NaN             NaN              NaN             NaN   \n",
       "2023-05-09         925407.0           72.14        1437519.0           44.88   \n",
       "2020-10-25              NaN             NaN              NaN             NaN   \n",
       "2022-08-28              NaN             NaN              NaN             NaN   \n",
       "\n",
       "            volume_COIN_USA  close_COIN_USA  volume_CG_USA  close_CG_USA  \\\n",
       "date                                                                       \n",
       "2023-06-17              NaN             NaN            NaN           NaN   \n",
       "2023-01-28              NaN             NaN            NaN           NaN   \n",
       "2023-05-09        9641197.0           60.21      3366100.0         26.03   \n",
       "2020-10-25              NaN             NaN            NaN           NaN   \n",
       "2022-08-28              NaN             NaN            NaN           NaN   \n",
       "\n",
       "            volume_CARM_RU  close_CARM_RU  ...  gold_rates  silver_rates  \\\n",
       "date                                       ...                             \n",
       "2023-06-17             NaN            NaN  ...     5250.65         62.95   \n",
       "2023-01-28             NaN            NaN  ...     4307.90         52.86   \n",
       "2023-05-09             NaN            NaN  ...     6028.12         76.56   \n",
       "2020-10-25             NaN            NaN  ...         NaN           NaN   \n",
       "2022-08-28             NaN            NaN  ...         NaN           NaN   \n",
       "\n",
       "            platinum_rates  palladium_rates  is_workday  day_of_week  \\\n",
       "date                                                                   \n",
       "2023-06-17         2632.92          3679.10       False     Saturday   \n",
       "2023-01-28         2300.58          3783.02       False     Saturday   \n",
       "2023-05-09         3053.59          3811.55       False      Tuesday   \n",
       "2020-10-25             NaN              NaN       False       Sunday   \n",
       "2022-08-28             NaN              NaN       False       Sunday   \n",
       "\n",
       "            S&P500_gap_hl  S&P500_gap_co  IMOEX_gap_hl  IMOEX_gap_co  \n",
       "date                                                                  \n",
       "2023-06-17            NaN            NaN           NaN           NaN  \n",
       "2023-01-28            NaN            NaN           NaN           NaN  \n",
       "2023-05-09         1.4006           -0.2           NaN           NaN  \n",
       "2020-10-25            NaN            NaN           NaN           NaN  \n",
       "2022-08-28            NaN            NaN           NaN           NaN  \n",
       "\n",
       "[5 rows x 292 columns]"
      ]
     },
     "execution_count": 19,
     "metadata": {},
     "output_type": "execute_result"
    }
   ],
   "source": [
    "fintech[fintech['IMOEX_volume'].isnull()].sample(5)"
   ]
  },
  {
   "cell_type": "markdown",
   "id": "6ed4cc9e",
   "metadata": {},
   "source": [
    "**Наблюдение:** большинство данных не спарсилось именно за выходные. это объясняется тем, что (почти) все отдыхают. Про праздники не будет сразу делать таких выводов, потому что там все зависит от организации."
   ]
  },
  {
   "cell_type": "markdown",
   "id": "a9fadedf",
   "metadata": {},
   "source": [
    "**Решение:** избавимся от этих данных, с ними кашу не сваришь."
   ]
  },
  {
   "cell_type": "code",
   "execution_count": 20,
   "id": "918e0d11",
   "metadata": {},
   "outputs": [],
   "source": [
    "fintech = fintech[(fintech['day_of_week'] != 'Sunday') & (fintech['day_of_week'] != 'Saturday')]"
   ]
  },
  {
   "cell_type": "code",
   "execution_count": 21,
   "id": "10c35013",
   "metadata": {},
   "outputs": [
    {
     "data": {
      "text/plain": [
       "39657"
      ]
     },
     "execution_count": 21,
     "metadata": {},
     "output_type": "execute_result"
    }
   ],
   "source": [
    "fintech.isna().sum().sum()"
   ]
  },
  {
   "cell_type": "code",
   "execution_count": 22,
   "id": "066ebf87",
   "metadata": {},
   "outputs": [
    {
     "data": {
      "text/plain": [
       "(1321, 292)"
      ]
     },
     "execution_count": 22,
     "metadata": {},
     "output_type": "execute_result"
    }
   ],
   "source": [
    "fintech.shape"
   ]
  },
  {
   "cell_type": "code",
   "execution_count": 41,
   "id": "6af7675e",
   "metadata": {},
   "outputs": [
    {
     "data": {
      "text/plain": [
       "gold_rates                371\n",
       "palladium_rates           371\n",
       "usdrub                    371\n",
       "silver_rates              371\n",
       "platinum_rates            371\n",
       "                         ... \n",
       "Денежный агрегат М1         6\n",
       "Денежный агрегат М2         6\n",
       "Широкая денежная масса      6\n",
       "is_workday                  0\n",
       "day_of_week                 0\n",
       "Length: 266, dtype: int64"
      ]
     },
     "execution_count": 41,
     "metadata": {},
     "output_type": "execute_result"
    }
   ],
   "source": [
    "fintech.isna().sum().sort_values(ascending=False)"
   ]
  },
  {
   "cell_type": "markdown",
   "id": "8c9dd830",
   "metadata": {},
   "source": [
    "Также надо не забыть, что если парсинг американских акций был не сегодня, то надо отсечь данные по значению переменной `the_day_of_parsing`."
   ]
  },
  {
   "cell_type": "code",
   "execution_count": 24,
   "id": "f21d4c2c",
   "metadata": {},
   "outputs": [],
   "source": [
    "fintech = fintech[fintech.index <= the_day_of_parsing]"
   ]
  },
  {
   "cell_type": "code",
   "execution_count": 25,
   "id": "1fd84d34",
   "metadata": {},
   "outputs": [
    {
     "data": {
      "text/plain": [
       "35105"
      ]
     },
     "execution_count": 25,
     "metadata": {},
     "output_type": "execute_result"
    }
   ],
   "source": [
    "fintech.isna().sum().sum()"
   ]
  },
  {
   "cell_type": "code",
   "execution_count": 26,
   "id": "ec0ea8f9",
   "metadata": {},
   "outputs": [
    {
     "data": {
      "text/plain": [
       "(1305, 292)"
      ]
     },
     "execution_count": 26,
     "metadata": {},
     "output_type": "execute_result"
    }
   ],
   "source": [
    "fintech.shape"
   ]
  },
  {
   "cell_type": "code",
   "execution_count": 27,
   "id": "8b20f264",
   "metadata": {},
   "outputs": [
    {
     "data": {
      "text/plain": [
       "volume_MBNK_RU         1298\n",
       "close_MBNK_RU          1298\n",
       "volume_CARM_RU         1088\n",
       "close_CARM_RU          1088\n",
       "volume_CRBG_USA         891\n",
       "                       ... \n",
       "Денежный агрегат М1       6\n",
       "Денежный агрегат М2       6\n",
       "effr                      6\n",
       "is_workday                0\n",
       "day_of_week               0\n",
       "Length: 292, dtype: int64"
      ]
     },
     "execution_count": 27,
     "metadata": {},
     "output_type": "execute_result"
    }
   ],
   "source": [
    "fintech.isna().sum().sort_values(ascending=False)"
   ]
  },
  {
   "cell_type": "markdown",
   "id": "7361a1d4",
   "metadata": {},
   "source": [
    "**Замечание:** заметим, что по акциям некоторых компаний практически нет данных. Так случилось из-за того, что конкретно те сайты, откуда мы доставали котировки, не хранили их по этим компаниям, может, компании слишком непопулярны и тд \n",
    "\n",
    "**400** взято из головы для примера - ЗАМЕНИТЬ!"
   ]
  },
  {
   "cell_type": "code",
   "execution_count": 28,
   "id": "94c2efd5",
   "metadata": {},
   "outputs": [],
   "source": [
    "exceptions = list(fintech.isna().sum()[fintech.isna().sum()>400].index)"
   ]
  },
  {
   "cell_type": "code",
   "execution_count": 29,
   "id": "a5b882bd",
   "metadata": {},
   "outputs": [],
   "source": [
    "fintech = fintech.loc[:, ~fintech.columns.isin(exceptions)]"
   ]
  },
  {
   "cell_type": "code",
   "execution_count": 37,
   "id": "557037d5",
   "metadata": {},
   "outputs": [
    {
     "data": {
      "text/plain": [
       "gold_rates                371\n",
       "palladium_rates           371\n",
       "usdrub                    371\n",
       "silver_rates              371\n",
       "platinum_rates            371\n",
       "                         ... \n",
       "Денежный агрегат М1         6\n",
       "Денежный агрегат М2         6\n",
       "Широкая денежная масса      6\n",
       "is_workday                  0\n",
       "day_of_week                 0\n",
       "Length: 266, dtype: int64"
      ]
     },
     "execution_count": 37,
     "metadata": {},
     "output_type": "execute_result"
    }
   ],
   "source": [
    "fintech.isna().sum().sort_values(ascending=False)"
   ]
  },
  {
   "cell_type": "code",
   "execution_count": 31,
   "id": "9373a5b0",
   "metadata": {},
   "outputs": [
    {
     "data": {
      "text/plain": [
       "16330"
      ]
     },
     "execution_count": 31,
     "metadata": {},
     "output_type": "execute_result"
    }
   ],
   "source": [
    "fintech.isna().sum().sum()"
   ]
  },
  {
   "cell_type": "markdown",
   "id": "1ffafd6b",
   "metadata": {},
   "source": [
    "**Замечание:** если исследовать возможные причины пропусков в `usdrub`, `gold_rates`, `silver_rates`, `platinum_rates` и `palladium_rates`, то стоит обратить внимание, что в 205 из 311 понедельников этих курсов не было. Не уверен, но кажется, что прикол в том, что ЦБ в пн пользуется курсов за пт **(подтверждение не смог почему-то найти)**. Но на этот день недели есть явное смещение, думаю, для пн можно воспользоваться `fill forward`."
   ]
  },
  {
   "cell_type": "code",
   "execution_count": 32,
   "id": "06b5f050",
   "metadata": {
    "scrolled": false
   },
   "outputs": [
    {
     "data": {
      "text/plain": [
       "(56, 266)"
      ]
     },
     "execution_count": 32,
     "metadata": {},
     "output_type": "execute_result"
    }
   ],
   "source": [
    "fintech[~(fintech['usdrub'].isnull()) & (fintech['day_of_week'] == 'Monday')].shape"
   ]
  },
  {
   "cell_type": "code",
   "execution_count": 33,
   "id": "e81965bc",
   "metadata": {},
   "outputs": [
    {
     "data": {
      "text/plain": [
       "(205, 266)"
      ]
     },
     "execution_count": 33,
     "metadata": {},
     "output_type": "execute_result"
    }
   ],
   "source": [
    "fintech[(fintech['usdrub'].isnull()) & (fintech['day_of_week'] == 'Monday')].shape"
   ]
  },
  {
   "cell_type": "code",
   "execution_count": 34,
   "id": "39561ab2",
   "metadata": {},
   "outputs": [
    {
     "data": {
      "text/plain": [
       "371"
      ]
     },
     "execution_count": 34,
     "metadata": {},
     "output_type": "execute_result"
    }
   ],
   "source": [
    "fintech['usdrub'].isna().sum()"
   ]
  },
  {
   "cell_type": "code",
   "execution_count": 35,
   "id": "27af0f24",
   "metadata": {},
   "outputs": [],
   "source": [
    "mask = (fintech['usdrub'].isnull()) & (fintech['day_of_week'] == 'Monday')\n",
    "fintech.loc[mask, 'usdrub'].ffill(inplace=True)\n",
    "fintech.loc[mask, 'gold_rates'] = fintech.loc[mask, 'gold_rates'].ffill()\n",
    "fintech.loc[mask, 'silver_rates'] = fintech.loc[mask, 'silver_rates'].ffill()\n",
    "fintech.loc[mask, 'platinum_rates'] = fintech.loc[mask, 'platinum_rates'].ffill()\n",
    "fintech.loc[mask, 'palladium_rates'] = fintech.loc[mask, 'palladium_rates'].ffill()"
   ]
  },
  {
   "cell_type": "code",
   "execution_count": 36,
   "id": "7f5058ca",
   "metadata": {},
   "outputs": [
    {
     "data": {
      "text/plain": [
       "371"
      ]
     },
     "execution_count": 36,
     "metadata": {},
     "output_type": "execute_result"
    }
   ],
   "source": [
    "fintech['usdrub'].isna().sum()"
   ]
  }
 ],
 "metadata": {
  "kernelspec": {
   "display_name": "Python 3 (ipykernel)",
   "language": "python",
   "name": "python3"
  },
  "language_info": {
   "codemirror_mode": {
    "name": "ipython",
    "version": 3
   },
   "file_extension": ".py",
   "mimetype": "text/x-python",
   "name": "python",
   "nbconvert_exporter": "python",
   "pygments_lexer": "ipython3",
   "version": "3.11.4"
  }
 },
 "nbformat": 4,
 "nbformat_minor": 5
}
