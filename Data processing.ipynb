{
 "cells": [
  {
   "cell_type": "code",
   "execution_count": 1,
   "id": "5f4f2d58",
   "metadata": {},
   "outputs": [],
   "source": [
    "import pandas as pd\n",
    "import warnings\n",
    "import os\n",
    "from pmdarima import auto_arima\n",
    "import numpy as np\n",
    "import matplotlib.pyplot as plt\n",
    "warnings.filterwarnings('ignore')\n",
    "\n",
    "#PATH = r\"C:\\Users\\Никита\\Андан\\Project\\data\"\n",
    "PATH = r\"/Users/andrewnizov/Desktop/АнДан/Проект\""
   ]
  },
  {
   "cell_type": "code",
   "execution_count": 2,
   "id": "fdc7f23c",
   "metadata": {},
   "outputs": [],
   "source": [
    "fintech = pd.read_csv('fintech.csv')\n",
    "industrial_goods = pd.read_csv('industrial_goods.csv')\n",
    "renewable_energy = pd.read_csv('renewable_energy.csv')\n",
    "healthcare_services = pd.read_csv('healthcare_services.csv')"
   ]
  },
  {
   "cell_type": "code",
   "execution_count": 3,
   "id": "cb568f9f",
   "metadata": {},
   "outputs": [
    {
     "data": {
      "text/plain": [
       "((1976, 293), (1976, 309), (1976, 131), (1976, 259))"
      ]
     },
     "execution_count": 3,
     "metadata": {},
     "output_type": "execute_result"
    }
   ],
   "source": [
    "fintech.shape, industrial_goods.shape, renewable_energy.shape, healthcare_services.shape"
   ]
  },
  {
   "cell_type": "code",
   "execution_count": 4,
   "id": "c6bc972d",
   "metadata": {},
   "outputs": [
    {
     "data": {
      "text/html": [
       "<div>\n",
       "<style scoped>\n",
       "    .dataframe tbody tr th:only-of-type {\n",
       "        vertical-align: middle;\n",
       "    }\n",
       "\n",
       "    .dataframe tbody tr th {\n",
       "        vertical-align: top;\n",
       "    }\n",
       "\n",
       "    .dataframe thead th {\n",
       "        text-align: right;\n",
       "    }\n",
       "</style>\n",
       "<table border=\"1\" class=\"dataframe\">\n",
       "  <thead>\n",
       "    <tr style=\"text-align: right;\">\n",
       "      <th></th>\n",
       "      <th>volume_NTRS_USA</th>\n",
       "      <th>close_NTRS_USA</th>\n",
       "      <th>date</th>\n",
       "      <th>volume_EWBC_USA</th>\n",
       "      <th>close_EWBC_USA</th>\n",
       "      <th>volume_COIN_USA</th>\n",
       "      <th>close_COIN_USA</th>\n",
       "      <th>volume_CG_USA</th>\n",
       "      <th>close_CG_USA</th>\n",
       "      <th>volume_CARM_RU</th>\n",
       "      <th>...</th>\n",
       "      <th>open_IMOEX</th>\n",
       "      <th>high_IMOEX</th>\n",
       "      <th>low_IMOEX</th>\n",
       "      <th>close_IMOEX</th>\n",
       "      <th>volume_IMOEX</th>\n",
       "      <th>Interbank credit market rates</th>\n",
       "      <th>gold_rates</th>\n",
       "      <th>silver_rates</th>\n",
       "      <th>platinum_rates</th>\n",
       "      <th>palladium_rates</th>\n",
       "    </tr>\n",
       "  </thead>\n",
       "  <tbody>\n",
       "    <tr>\n",
       "      <th>1280</th>\n",
       "      <td>NaN</td>\n",
       "      <td>NaN</td>\n",
       "      <td>2023-04-07</td>\n",
       "      <td>NaN</td>\n",
       "      <td>NaN</td>\n",
       "      <td>NaN</td>\n",
       "      <td>NaN</td>\n",
       "      <td>NaN</td>\n",
       "      <td>NaN</td>\n",
       "      <td>NaN</td>\n",
       "      <td>...</td>\n",
       "      <td>2504.04</td>\n",
       "      <td>2511.95</td>\n",
       "      <td>2491.37</td>\n",
       "      <td>2508.39</td>\n",
       "      <td>2.896264e+10</td>\n",
       "      <td>7.3250</td>\n",
       "      <td>5491.75</td>\n",
       "      <td>64.53</td>\n",
       "      <td>2576.08</td>\n",
       "      <td>3601.34</td>\n",
       "    </tr>\n",
       "    <tr>\n",
       "      <th>920</th>\n",
       "      <td>1077135.0</td>\n",
       "      <td>78.65</td>\n",
       "      <td>2020-09-10</td>\n",
       "      <td>614760.0</td>\n",
       "      <td>34.52</td>\n",
       "      <td>NaN</td>\n",
       "      <td>NaN</td>\n",
       "      <td>1068800.0</td>\n",
       "      <td>25.28</td>\n",
       "      <td>NaN</td>\n",
       "      <td>...</td>\n",
       "      <td>2888.09</td>\n",
       "      <td>2897.55</td>\n",
       "      <td>2858.65</td>\n",
       "      <td>2897.55</td>\n",
       "      <td>6.578763e+10</td>\n",
       "      <td>4.2491</td>\n",
       "      <td>4737.92</td>\n",
       "      <td>60.02</td>\n",
       "      <td>2169.37</td>\n",
       "      <td>5931.95</td>\n",
       "    </tr>\n",
       "    <tr>\n",
       "      <th>686</th>\n",
       "      <td>422292.0</td>\n",
       "      <td>116.31</td>\n",
       "      <td>2021-08-16</td>\n",
       "      <td>491229.0</td>\n",
       "      <td>75.07</td>\n",
       "      <td>3241136.0</td>\n",
       "      <td>256.83</td>\n",
       "      <td>2156600.0</td>\n",
       "      <td>49.26</td>\n",
       "      <td>NaN</td>\n",
       "      <td>...</td>\n",
       "      <td>3862.32</td>\n",
       "      <td>3896.96</td>\n",
       "      <td>3855.62</td>\n",
       "      <td>3895.31</td>\n",
       "      <td>6.224474e+10</td>\n",
       "      <td>6.4748</td>\n",
       "      <td>NaN</td>\n",
       "      <td>NaN</td>\n",
       "      <td>NaN</td>\n",
       "      <td>NaN</td>\n",
       "    </tr>\n",
       "  </tbody>\n",
       "</table>\n",
       "<p>3 rows × 293 columns</p>\n",
       "</div>"
      ],
      "text/plain": [
       "      volume_NTRS_USA  close_NTRS_USA        date  volume_EWBC_USA  \\\n",
       "1280              NaN             NaN  2023-04-07              NaN   \n",
       "920         1077135.0           78.65  2020-09-10         614760.0   \n",
       "686          422292.0          116.31  2021-08-16         491229.0   \n",
       "\n",
       "      close_EWBC_USA  volume_COIN_USA  close_COIN_USA  volume_CG_USA  \\\n",
       "1280             NaN              NaN             NaN            NaN   \n",
       "920            34.52              NaN             NaN      1068800.0   \n",
       "686            75.07        3241136.0          256.83      2156600.0   \n",
       "\n",
       "      close_CG_USA  volume_CARM_RU  ...  open_IMOEX  high_IMOEX  low_IMOEX  \\\n",
       "1280           NaN             NaN  ...     2504.04     2511.95    2491.37   \n",
       "920          25.28             NaN  ...     2888.09     2897.55    2858.65   \n",
       "686          49.26             NaN  ...     3862.32     3896.96    3855.62   \n",
       "\n",
       "      close_IMOEX  volume_IMOEX  Interbank credit market rates  gold_rates  \\\n",
       "1280      2508.39  2.896264e+10                         7.3250     5491.75   \n",
       "920       2897.55  6.578763e+10                         4.2491     4737.92   \n",
       "686       3895.31  6.224474e+10                         6.4748         NaN   \n",
       "\n",
       "      silver_rates  platinum_rates  palladium_rates  \n",
       "1280         64.53         2576.08          3601.34  \n",
       "920          60.02         2169.37          5931.95  \n",
       "686            NaN             NaN              NaN  \n",
       "\n",
       "[3 rows x 293 columns]"
      ]
     },
     "execution_count": 4,
     "metadata": {},
     "output_type": "execute_result"
    }
   ],
   "source": [
    "fintech.sample(3)"
   ]
  },
  {
   "cell_type": "markdown",
   "id": "64bae50d",
   "metadata": {},
   "source": [
    "## Description of the variables"
   ]
  },
  {
   "cell_type": "markdown",
   "id": "ccdee418",
   "metadata": {},
   "source": [
    "* **`date`** - The date of corresponding indicator values (**format: %Y-%m-%d**)\n",
    "* **`close/volume_..._X`** - Close price/Trading volume of the specified share of the American(X=USA, **units=usd**)/Russian(X=RU, **units=rub**) company\n",
    "* **`open/close/high/low/volume_IMOEX`** - Open/Close/High/Low price/Volume of the Moscow Exchange Index (**units=rub**)\n",
    "* **`open/close/high/low/volume_S&P500`** - Open/Close/High/Low price/Volume of the S&P500 Index (**units=usd**)\n",
    "\n",
    "* **`usdrub`** - Ruble to US dollar exchange rate (**1 US dollar --> x RUS rubles**)\n",
    "* **`effr`** - Effective Federal Funds Rate (**units=%**)\n",
    "* **`gold/silver/platinum/polladium_rates`** - Rates of gold/silver/platinum/polladium (**units=rub**)\n",
    "* **`Interbank credit market rates`** - Rates at which banks lend to one another on the interbank market (**units=%**)\n",
    "\n",
    "* **`m0_ru`** - Monetary base in Russia, including currency in circulation and bank reserves (**units=...**)\n",
    "* **`m1_ru`** - Money supply in Russia, including M0 plus demand deposits (**units=...**)\n",
    "* **`m2_ru`** - Money supply in Russia, including M1 plus short-term time deposits (**units=...**)\n",
    "* **`Credits`** - Total amount of credit issued by financial institutions (**units=...**) \n",
    "* **`Deposits`** - Total amount of deposits held in financial institutions (**units=...**)\n",
    "* **`daily_gdp`** - Daily estimated Gross Domestic Product (**units=...**)\n",
    "* **`daily_gdp_no_season`** - Daily estimated Gross Domestic Product without seasonal adjustments (**units=...**)\n",
    "* **`real_gdp_usa`** - Real Gross Domestic Product of the USA adjusted for inflation (**units=...**)\n",
    "* **`Debt securities`** - Value of debt securities issued (**units=...**)\n",
    "* **`broad_money_supply_ru`** - Broad money supply in Russia, including M2 plus other liquid assets (**units=rub**)\n",
    "* **`Cash national currency`** - Total amount of cash in the national currency in circulation (**units=...**)\n",
    "* **`Foreign currency in cash`** - Total amount of foreign currency in cash in circulation (**units=...**)\n",
    "* **`Households and NPOs, total`** - Total financial assets and liabilities of households and non-profit organizations (**units=...**)\n",
    "* **`Cash on brokerage accounts`** - Total value of loans received from credit institutions (**units=...**)\n",
    "* **`Non-financial sector, total`** - Total financial assets and liabilities of the non-financial sector (**units=...**)\n",
    "* **`Loans from credit institutions`** - Total value of loans received from credit institutions (**units=...**)\n",
    "* **`External borrowings, households`** - Total external borrowings by households (**units=...**)\n",
    "* **`Internal borrowings, households`** - Total internal borrowings by households (**units=...**)\n",
    "* **`External borrowings, non-financial sector`** - Total external borrowings by the non-financial sector (**units=...**)\n",
    "* **`Internal borrowings, non-financial sector`** - Total internal borrowings by the non-financial sector (**units=...**)\n",
    "* **`Debt securities in the residents portfolio`** - Value of debt securities held in the portfolios of residents (**units=...**)\n",
    "* **`Loans and borrowings received from non-residents`** - Total loans and borrowings received from non-residents (**units=...**)\n",
    "* **`Debt of the non-financial sector and households, total`** - Total debt of the non-financial sector and households (**units=...**)\n",
    "* **`Quoted shares and units and shares of investment funds`** - Value of quoted shares and units and shares of investment funds (**units=...**)\n",
    "* **`Debt securities in the portfolio of non-residents, including promissory notes`** - Value of debt securities, including promissory notes, held in the portfolios of non-residents (**units=...**)"
   ]
  },
  {
   "cell_type": "markdown",
   "id": "b0405de1",
   "metadata": {},
   "source": [
    "## Processing of Nans/passes"
   ]
  },
  {
   "cell_type": "markdown",
   "id": "b87d557d",
   "metadata": {},
   "source": [
    "**Notebook content:**\n",
    "* Firstly, we **print total number of NaNs**.\n",
    "* Secondly, using the example of **fintech** sector, we **process features** with all needed justifications.\n",
    "* Then we **create a function**, based on code in (2), for the remaining 3 sectors (without detailed comments).\n",
    "* One by one, we manually **examine the possible reasons for NaNs of all shares**, one after another.\n",
    "* In this step we **fill all remaining NaNs via ARIMA model**.\n"
   ]
  },
  {
   "cell_type": "markdown",
   "id": "511343e1",
   "metadata": {},
   "source": [
    "# Step №1."
   ]
  },
  {
   "cell_type": "code",
   "execution_count": 5,
   "id": "b7a0257f",
   "metadata": {},
   "outputs": [
    {
     "name": "stdout",
     "output_type": "stream",
     "text": [
      "Initial (total) amount of NaNs\n",
      "\n",
      "In fintech data: 208642\n",
      "In industrial goods data: 209596\n",
      "In renewable energy data: 94342\n",
      "In healthcare services data: 178072\n"
     ]
    }
   ],
   "source": [
    "print(f'Initial (total) amount of NaNs')\n",
    "print()\n",
    "print(f'In fintech data: {fintech.isna().sum().sum()}')\n",
    "print(f'In industrial goods data: {industrial_goods.isna().sum().sum()}')\n",
    "print(f'In renewable energy data: {renewable_energy.isna().sum().sum()}')\n",
    "print(f'In healthcare services data: {healthcare_services.isna().sum().sum()}')"
   ]
  },
  {
   "cell_type": "markdown",
   "id": "90e988d1",
   "metadata": {},
   "source": [
    "# Step №2."
   ]
  },
  {
   "cell_type": "markdown",
   "id": "38e9ab85",
   "metadata": {},
   "source": [
    "The FMP website allows parsing quotes of American stocks for the past 5 years only. Consequently, auxiliary variables have been created."
   ]
  },
  {
   "cell_type": "code",
   "execution_count": 6,
   "id": "feec2384",
   "metadata": {},
   "outputs": [],
   "source": [
    "the_day_of_parsing = pd.to_datetime('2024-05-08', format='%Y-%m-%d')\n",
    "threshold = the_day_of_parsing - pd.DateOffset(years=5)"
   ]
  },
  {
   "cell_type": "markdown",
   "id": "31c14dc6",
   "metadata": {},
   "source": [
    "## Fintech"
   ]
  },
  {
   "cell_type": "code",
   "execution_count": 7,
   "id": "fde5f787",
   "metadata": {},
   "outputs": [
    {
     "data": {
      "text/plain": [
       "(1976, 293)"
      ]
     },
     "execution_count": 7,
     "metadata": {},
     "output_type": "execute_result"
    }
   ],
   "source": [
    "fintech['date'] = pd.to_datetime(fintech['date'], format='%Y-%m-%d')\n",
    "print(f'Lets see initial fintech dataset shape: {fintech.shape}')"
   ]
  },
  {
   "cell_type": "code",
   "execution_count": 8,
   "id": "b53689b2",
   "metadata": {},
   "outputs": [
    {
     "data": {
      "text/plain": [
       "close_MBNK_RU      1968\n",
       "volume_MBNK_RU     1968\n",
       "close_CARM_RU      1758\n",
       "volume_CARM_RU     1758\n",
       "volume_CRBG_USA    1562\n",
       "                   ... \n",
       "m0_ru                29\n",
       "m1_ru                29\n",
       "m2_ru                29\n",
       "effr                 29\n",
       "date                  0\n",
       "Length: 293, dtype: int64"
      ]
     },
     "execution_count": 8,
     "metadata": {},
     "output_type": "execute_result"
    }
   ],
   "source": [
    "fintech.isna().sum().sort_values(ascending=False)"
   ]
  },
  {
   "cell_type": "markdown",
   "id": "5ff4afd6",
   "metadata": {},
   "source": [
    "**The first step of processing:** to facilitate the identification of the reasons for missing data, we will create an indicator column named `is_workday`, which takes two values: `True` for weekdays and `False` for weekends/holidays. For this, we will refer to the calendar data we parsed earlier."
   ]
  },
  {
   "cell_type": "code",
   "execution_count": 9,
   "id": "d5eff442",
   "metadata": {},
   "outputs": [],
   "source": [
    "calendar = pd.read_csv('data/trading_calendat_NYSE.csv')\n",
    "calendar.drop(['Unnamed: 0'], axis=1, inplace=True)"
   ]
  },
  {
   "cell_type": "code",
   "execution_count": 10,
   "id": "97650322",
   "metadata": {},
   "outputs": [
    {
     "data": {
      "text/plain": [
       "dtype('<M8[ns]')"
      ]
     },
     "execution_count": 10,
     "metadata": {},
     "output_type": "execute_result"
    }
   ],
   "source": [
    "calendar['Date'] = pd.to_datetime(calendar['Date'], format='%Y-%m-%d')\n",
    "calendar['Date'].dtype"
   ]
  },
  {
   "cell_type": "markdown",
   "id": "c66d7a35",
   "metadata": {},
   "source": [
    "**The first step of the investigation:** upon reviewing the table, we realized that we need to trim the data to only include the last 5 years from the parsing date, as FMP provides stock quotes only for the past 5 years."
   ]
  },
  {
   "cell_type": "code",
   "execution_count": 11,
   "id": "0fc8a6b6",
   "metadata": {},
   "outputs": [],
   "source": [
    "# ВТОРАЯ СТРОЧКА В ЭТОМ БЛОКЕ ПОКА НЕ РАБОТАЕТ (причина не ясна, результат плачевный)\n",
    "work_calendar = calendar[calendar['Date'] > threshold]\n",
    "fintech['is_workday'] = [i in work_calendar['Date'].dt.date for i in fintech['date'].dt.date]\n",
    "fintech = fintech[fintech['date'] > threshold]"
   ]
  },
  {
   "cell_type": "code",
   "execution_count": 12,
   "id": "302afc91",
   "metadata": {},
   "outputs": [
    {
     "data": {
      "text/plain": [
       "1346   2019-05-09\n",
       "1347   2019-05-10\n",
       "1348   2019-05-13\n",
       "1349   2019-05-14\n",
       "1350   2019-05-15\n",
       "          ...    \n",
       "2598   2024-04-30\n",
       "2599   2024-05-01\n",
       "2600   2024-05-02\n",
       "2601   2024-05-03\n",
       "2602   2024-05-06\n",
       "Name: Date, Length: 1257, dtype: datetime64[ns]"
      ]
     },
     "execution_count": 12,
     "metadata": {},
     "output_type": "execute_result"
    }
   ],
   "source": [
    "work_calendar['Date']"
   ]
  },
  {
   "cell_type": "markdown",
   "id": "d0862ac3",
   "metadata": {},
   "source": [
    "**ПАЧИМУ((**"
   ]
  },
  {
   "cell_type": "code",
   "execution_count": 13,
   "id": "8fd5b1d8",
   "metadata": {},
   "outputs": [
    {
     "data": {
      "text/plain": [
       "{False}"
      ]
     },
     "execution_count": 13,
     "metadata": {},
     "output_type": "execute_result"
    }
   ],
   "source": [
    "{i in work_calendar['Date'] for i in fintech['date']}"
   ]
  },
  {
   "cell_type": "markdown",
   "id": "0e8a9dfc",
   "metadata": {},
   "source": [
    "For research convenience, we will create a new column indicating **the day of the week**."
   ]
  },
  {
   "cell_type": "code",
   "execution_count": 14,
   "id": "0ac7cf94",
   "metadata": {},
   "outputs": [],
   "source": [
    "fintech['day_of_week'] = fintech['date'].dt.day_name()"
   ]
  },
  {
   "cell_type": "code",
   "execution_count": 15,
   "id": "f7a8b117",
   "metadata": {},
   "outputs": [],
   "source": [
    "fintech.set_index(['date'], inplace=True)\n",
    "fintech.sort_index(inplace=True)"
   ]
  },
  {
   "cell_type": "code",
   "execution_count": 16,
   "id": "281dda49",
   "metadata": {},
   "outputs": [
    {
     "data": {
      "text/html": [
       "<div>\n",
       "<style scoped>\n",
       "    .dataframe tbody tr th:only-of-type {\n",
       "        vertical-align: middle;\n",
       "    }\n",
       "\n",
       "    .dataframe tbody tr th {\n",
       "        vertical-align: top;\n",
       "    }\n",
       "\n",
       "    .dataframe thead th {\n",
       "        text-align: right;\n",
       "    }\n",
       "</style>\n",
       "<table border=\"1\" class=\"dataframe\">\n",
       "  <thead>\n",
       "    <tr style=\"text-align: right;\">\n",
       "      <th></th>\n",
       "      <th>volume_NTRS_USA</th>\n",
       "      <th>close_NTRS_USA</th>\n",
       "      <th>volume_EWBC_USA</th>\n",
       "      <th>close_EWBC_USA</th>\n",
       "      <th>volume_COIN_USA</th>\n",
       "      <th>close_COIN_USA</th>\n",
       "      <th>volume_CG_USA</th>\n",
       "      <th>close_CG_USA</th>\n",
       "      <th>volume_CARM_RU</th>\n",
       "      <th>close_CARM_RU</th>\n",
       "      <th>...</th>\n",
       "      <th>low_IMOEX</th>\n",
       "      <th>close_IMOEX</th>\n",
       "      <th>volume_IMOEX</th>\n",
       "      <th>Interbank credit market rates</th>\n",
       "      <th>gold_rates</th>\n",
       "      <th>silver_rates</th>\n",
       "      <th>platinum_rates</th>\n",
       "      <th>palladium_rates</th>\n",
       "      <th>is_workday</th>\n",
       "      <th>day_of_week</th>\n",
       "    </tr>\n",
       "    <tr>\n",
       "      <th>date</th>\n",
       "      <th></th>\n",
       "      <th></th>\n",
       "      <th></th>\n",
       "      <th></th>\n",
       "      <th></th>\n",
       "      <th></th>\n",
       "      <th></th>\n",
       "      <th></th>\n",
       "      <th></th>\n",
       "      <th></th>\n",
       "      <th></th>\n",
       "      <th></th>\n",
       "      <th></th>\n",
       "      <th></th>\n",
       "      <th></th>\n",
       "      <th></th>\n",
       "      <th></th>\n",
       "      <th></th>\n",
       "      <th></th>\n",
       "      <th></th>\n",
       "      <th></th>\n",
       "    </tr>\n",
       "  </thead>\n",
       "  <tbody>\n",
       "    <tr>\n",
       "      <th>2019-05-09</th>\n",
       "      <td>804008.0</td>\n",
       "      <td>96.97</td>\n",
       "      <td>748222.0</td>\n",
       "      <td>50.17</td>\n",
       "      <td>NaN</td>\n",
       "      <td>NaN</td>\n",
       "      <td>593700.0</td>\n",
       "      <td>20.76</td>\n",
       "      <td>NaN</td>\n",
       "      <td>NaN</td>\n",
       "      <td>...</td>\n",
       "      <td>NaN</td>\n",
       "      <td>NaN</td>\n",
       "      <td>NaN</td>\n",
       "      <td>6.9477</td>\n",
       "      <td>3290.00</td>\n",
       "      <td>41.27</td>\n",
       "      <td>2069.61</td>\n",
       "      <td>3303.26</td>\n",
       "      <td>False</td>\n",
       "      <td>Thursday</td>\n",
       "    </tr>\n",
       "    <tr>\n",
       "      <th>2019-05-10</th>\n",
       "      <td>731618.0</td>\n",
       "      <td>97.56</td>\n",
       "      <td>674296.0</td>\n",
       "      <td>50.19</td>\n",
       "      <td>NaN</td>\n",
       "      <td>NaN</td>\n",
       "      <td>405600.0</td>\n",
       "      <td>20.62</td>\n",
       "      <td>NaN</td>\n",
       "      <td>NaN</td>\n",
       "      <td>...</td>\n",
       "      <td>2511.16</td>\n",
       "      <td>2514.87</td>\n",
       "      <td>3.253956e+10</td>\n",
       "      <td>NaN</td>\n",
       "      <td>3156.00</td>\n",
       "      <td>36.81</td>\n",
       "      <td>1848.23</td>\n",
       "      <td>3472.75</td>\n",
       "      <td>False</td>\n",
       "      <td>Friday</td>\n",
       "    </tr>\n",
       "    <tr>\n",
       "      <th>2019-05-11</th>\n",
       "      <td>NaN</td>\n",
       "      <td>NaN</td>\n",
       "      <td>NaN</td>\n",
       "      <td>NaN</td>\n",
       "      <td>NaN</td>\n",
       "      <td>NaN</td>\n",
       "      <td>NaN</td>\n",
       "      <td>NaN</td>\n",
       "      <td>NaN</td>\n",
       "      <td>NaN</td>\n",
       "      <td>...</td>\n",
       "      <td>NaN</td>\n",
       "      <td>NaN</td>\n",
       "      <td>NaN</td>\n",
       "      <td>6.3560</td>\n",
       "      <td>NaN</td>\n",
       "      <td>NaN</td>\n",
       "      <td>NaN</td>\n",
       "      <td>NaN</td>\n",
       "      <td>False</td>\n",
       "      <td>Saturday</td>\n",
       "    </tr>\n",
       "    <tr>\n",
       "      <th>2019-05-12</th>\n",
       "      <td>NaN</td>\n",
       "      <td>NaN</td>\n",
       "      <td>NaN</td>\n",
       "      <td>NaN</td>\n",
       "      <td>NaN</td>\n",
       "      <td>NaN</td>\n",
       "      <td>NaN</td>\n",
       "      <td>NaN</td>\n",
       "      <td>NaN</td>\n",
       "      <td>NaN</td>\n",
       "      <td>...</td>\n",
       "      <td>NaN</td>\n",
       "      <td>NaN</td>\n",
       "      <td>NaN</td>\n",
       "      <td>6.3851</td>\n",
       "      <td>3046.02</td>\n",
       "      <td>35.11</td>\n",
       "      <td>1874.03</td>\n",
       "      <td>3836.81</td>\n",
       "      <td>False</td>\n",
       "      <td>Sunday</td>\n",
       "    </tr>\n",
       "  </tbody>\n",
       "</table>\n",
       "<p>4 rows × 294 columns</p>\n",
       "</div>"
      ],
      "text/plain": [
       "            volume_NTRS_USA  close_NTRS_USA  volume_EWBC_USA  close_EWBC_USA  \\\n",
       "date                                                                           \n",
       "2019-05-09         804008.0           96.97         748222.0           50.17   \n",
       "2019-05-10         731618.0           97.56         674296.0           50.19   \n",
       "2019-05-11              NaN             NaN              NaN             NaN   \n",
       "2019-05-12              NaN             NaN              NaN             NaN   \n",
       "\n",
       "            volume_COIN_USA  close_COIN_USA  volume_CG_USA  close_CG_USA  \\\n",
       "date                                                                       \n",
       "2019-05-09              NaN             NaN       593700.0         20.76   \n",
       "2019-05-10              NaN             NaN       405600.0         20.62   \n",
       "2019-05-11              NaN             NaN            NaN           NaN   \n",
       "2019-05-12              NaN             NaN            NaN           NaN   \n",
       "\n",
       "            volume_CARM_RU  close_CARM_RU  ...  low_IMOEX  close_IMOEX  \\\n",
       "date                                       ...                           \n",
       "2019-05-09             NaN            NaN  ...        NaN          NaN   \n",
       "2019-05-10             NaN            NaN  ...    2511.16      2514.87   \n",
       "2019-05-11             NaN            NaN  ...        NaN          NaN   \n",
       "2019-05-12             NaN            NaN  ...        NaN          NaN   \n",
       "\n",
       "            volume_IMOEX  Interbank credit market rates  gold_rates  \\\n",
       "date                                                                  \n",
       "2019-05-09           NaN                         6.9477     3290.00   \n",
       "2019-05-10  3.253956e+10                            NaN     3156.00   \n",
       "2019-05-11           NaN                         6.3560         NaN   \n",
       "2019-05-12           NaN                         6.3851     3046.02   \n",
       "\n",
       "            silver_rates  platinum_rates  palladium_rates  is_workday  \\\n",
       "date                                                                    \n",
       "2019-05-09         41.27         2069.61          3303.26       False   \n",
       "2019-05-10         36.81         1848.23          3472.75       False   \n",
       "2019-05-11           NaN             NaN              NaN       False   \n",
       "2019-05-12         35.11         1874.03          3836.81       False   \n",
       "\n",
       "            day_of_week  \n",
       "date                     \n",
       "2019-05-09     Thursday  \n",
       "2019-05-10       Friday  \n",
       "2019-05-11     Saturday  \n",
       "2019-05-12       Sunday  \n",
       "\n",
       "[4 rows x 294 columns]"
      ]
     },
     "execution_count": 16,
     "metadata": {},
     "output_type": "execute_result"
    }
   ],
   "source": [
    "fintech.head(4)"
   ]
  },
  {
   "cell_type": "markdown",
   "id": "0fdc0629",
   "metadata": {},
   "source": [
    "**Observation:** after parsing the `S&P500` and `IMOEX` data, each index provided 5 indicators (`high`, `low`, `open`, `close`, `volume`). We determined that the gaps between `high-low` and `close-open` might be particularly useful, so we can reduce the 5 indicators for each index to 4: `volume`, `gap_hl` = `high-low`, `gap_co` = `close-open`, and `close`."
   ]
  },
  {
   "cell_type": "code",
   "execution_count": 17,
   "id": "8fac527d",
   "metadata": {},
   "outputs": [],
   "source": [
    "fintech['gap_hl_S&P500'] = fintech['high_S&P500'] - fintech['low_S&P500']\n",
    "fintech['gap_co_S&P500'] = fintech['close_S&P500'] - fintech['open_S&P500']\n",
    "fintech['gap_hl_IMOEX'] = fintech['high_IMOEX'] - fintech['low_IMOEX']\n",
    "fintech['gap_co_IMOEX'] = fintech['close_IMOEX'] - fintech['open_IMOEX']"
   ]
  },
  {
   "cell_type": "code",
   "execution_count": 18,
   "id": "22169405",
   "metadata": {},
   "outputs": [],
   "source": [
    "fintech.drop(['high_IMOEX', 'low_IMOEX', 'open_IMOEX', 'high_S&P500', 'low_S&P500', 'open_S&P500'], axis=1, inplace=True)"
   ]
  },
  {
   "cell_type": "code",
   "execution_count": 19,
   "id": "07b53687",
   "metadata": {},
   "outputs": [
    {
     "data": {
      "text/html": [
       "<div>\n",
       "<style scoped>\n",
       "    .dataframe tbody tr th:only-of-type {\n",
       "        vertical-align: middle;\n",
       "    }\n",
       "\n",
       "    .dataframe tbody tr th {\n",
       "        vertical-align: top;\n",
       "    }\n",
       "\n",
       "    .dataframe thead th {\n",
       "        text-align: right;\n",
       "    }\n",
       "</style>\n",
       "<table border=\"1\" class=\"dataframe\">\n",
       "  <thead>\n",
       "    <tr style=\"text-align: right;\">\n",
       "      <th></th>\n",
       "      <th>volume_NTRS_USA</th>\n",
       "      <th>close_NTRS_USA</th>\n",
       "      <th>volume_EWBC_USA</th>\n",
       "      <th>close_EWBC_USA</th>\n",
       "      <th>volume_COIN_USA</th>\n",
       "      <th>close_COIN_USA</th>\n",
       "      <th>volume_CG_USA</th>\n",
       "      <th>close_CG_USA</th>\n",
       "      <th>volume_CARM_RU</th>\n",
       "      <th>close_CARM_RU</th>\n",
       "      <th>...</th>\n",
       "      <th>gold_rates</th>\n",
       "      <th>silver_rates</th>\n",
       "      <th>platinum_rates</th>\n",
       "      <th>palladium_rates</th>\n",
       "      <th>is_workday</th>\n",
       "      <th>day_of_week</th>\n",
       "      <th>gap_hl_S&amp;P500</th>\n",
       "      <th>gap_co_S&amp;P500</th>\n",
       "      <th>gap_hl_IMOEX</th>\n",
       "      <th>gap_co_IMOEX</th>\n",
       "    </tr>\n",
       "    <tr>\n",
       "      <th>date</th>\n",
       "      <th></th>\n",
       "      <th></th>\n",
       "      <th></th>\n",
       "      <th></th>\n",
       "      <th></th>\n",
       "      <th></th>\n",
       "      <th></th>\n",
       "      <th></th>\n",
       "      <th></th>\n",
       "      <th></th>\n",
       "      <th></th>\n",
       "      <th></th>\n",
       "      <th></th>\n",
       "      <th></th>\n",
       "      <th></th>\n",
       "      <th></th>\n",
       "      <th></th>\n",
       "      <th></th>\n",
       "      <th></th>\n",
       "      <th></th>\n",
       "      <th></th>\n",
       "    </tr>\n",
       "  </thead>\n",
       "  <tbody>\n",
       "    <tr>\n",
       "      <th>2024-02-25</th>\n",
       "      <td>NaN</td>\n",
       "      <td>NaN</td>\n",
       "      <td>NaN</td>\n",
       "      <td>NaN</td>\n",
       "      <td>NaN</td>\n",
       "      <td>NaN</td>\n",
       "      <td>NaN</td>\n",
       "      <td>NaN</td>\n",
       "      <td>NaN</td>\n",
       "      <td>NaN</td>\n",
       "      <td>...</td>\n",
       "      <td>NaN</td>\n",
       "      <td>NaN</td>\n",
       "      <td>NaN</td>\n",
       "      <td>NaN</td>\n",
       "      <td>False</td>\n",
       "      <td>Sunday</td>\n",
       "      <td>NaN</td>\n",
       "      <td>NaN</td>\n",
       "      <td>NaN</td>\n",
       "      <td>NaN</td>\n",
       "    </tr>\n",
       "    <tr>\n",
       "      <th>2021-11-13</th>\n",
       "      <td>NaN</td>\n",
       "      <td>NaN</td>\n",
       "      <td>NaN</td>\n",
       "      <td>NaN</td>\n",
       "      <td>NaN</td>\n",
       "      <td>NaN</td>\n",
       "      <td>NaN</td>\n",
       "      <td>NaN</td>\n",
       "      <td>NaN</td>\n",
       "      <td>NaN</td>\n",
       "      <td>...</td>\n",
       "      <td>4271.28</td>\n",
       "      <td>57.67</td>\n",
       "      <td>2470.42</td>\n",
       "      <td>4686.87</td>\n",
       "      <td>False</td>\n",
       "      <td>Saturday</td>\n",
       "      <td>NaN</td>\n",
       "      <td>NaN</td>\n",
       "      <td>NaN</td>\n",
       "      <td>NaN</td>\n",
       "    </tr>\n",
       "    <tr>\n",
       "      <th>2020-09-20</th>\n",
       "      <td>NaN</td>\n",
       "      <td>NaN</td>\n",
       "      <td>NaN</td>\n",
       "      <td>NaN</td>\n",
       "      <td>NaN</td>\n",
       "      <td>NaN</td>\n",
       "      <td>NaN</td>\n",
       "      <td>NaN</td>\n",
       "      <td>NaN</td>\n",
       "      <td>NaN</td>\n",
       "      <td>...</td>\n",
       "      <td>NaN</td>\n",
       "      <td>NaN</td>\n",
       "      <td>NaN</td>\n",
       "      <td>NaN</td>\n",
       "      <td>False</td>\n",
       "      <td>Sunday</td>\n",
       "      <td>NaN</td>\n",
       "      <td>NaN</td>\n",
       "      <td>NaN</td>\n",
       "      <td>NaN</td>\n",
       "    </tr>\n",
       "    <tr>\n",
       "      <th>2020-05-02</th>\n",
       "      <td>NaN</td>\n",
       "      <td>NaN</td>\n",
       "      <td>NaN</td>\n",
       "      <td>NaN</td>\n",
       "      <td>NaN</td>\n",
       "      <td>NaN</td>\n",
       "      <td>NaN</td>\n",
       "      <td>NaN</td>\n",
       "      <td>NaN</td>\n",
       "      <td>NaN</td>\n",
       "      <td>...</td>\n",
       "      <td>3204.39</td>\n",
       "      <td>36.24</td>\n",
       "      <td>1998.67</td>\n",
       "      <td>4902.85</td>\n",
       "      <td>False</td>\n",
       "      <td>Saturday</td>\n",
       "      <td>NaN</td>\n",
       "      <td>NaN</td>\n",
       "      <td>NaN</td>\n",
       "      <td>NaN</td>\n",
       "    </tr>\n",
       "    <tr>\n",
       "      <th>2020-06-24</th>\n",
       "      <td>1644472.0</td>\n",
       "      <td>77.18</td>\n",
       "      <td>1010253.0</td>\n",
       "      <td>35.05</td>\n",
       "      <td>NaN</td>\n",
       "      <td>NaN</td>\n",
       "      <td>1914400.0</td>\n",
       "      <td>28.39</td>\n",
       "      <td>NaN</td>\n",
       "      <td>NaN</td>\n",
       "      <td>...</td>\n",
       "      <td>3887.67</td>\n",
       "      <td>39.42</td>\n",
       "      <td>1825.87</td>\n",
       "      <td>4271.43</td>\n",
       "      <td>False</td>\n",
       "      <td>Wednesday</td>\n",
       "      <td>8.41</td>\n",
       "      <td>-5.75</td>\n",
       "      <td>NaN</td>\n",
       "      <td>NaN</td>\n",
       "    </tr>\n",
       "  </tbody>\n",
       "</table>\n",
       "<p>5 rows × 292 columns</p>\n",
       "</div>"
      ],
      "text/plain": [
       "            volume_NTRS_USA  close_NTRS_USA  volume_EWBC_USA  close_EWBC_USA  \\\n",
       "date                                                                           \n",
       "2024-02-25              NaN             NaN              NaN             NaN   \n",
       "2021-11-13              NaN             NaN              NaN             NaN   \n",
       "2020-09-20              NaN             NaN              NaN             NaN   \n",
       "2020-05-02              NaN             NaN              NaN             NaN   \n",
       "2020-06-24        1644472.0           77.18        1010253.0           35.05   \n",
       "\n",
       "            volume_COIN_USA  close_COIN_USA  volume_CG_USA  close_CG_USA  \\\n",
       "date                                                                       \n",
       "2024-02-25              NaN             NaN            NaN           NaN   \n",
       "2021-11-13              NaN             NaN            NaN           NaN   \n",
       "2020-09-20              NaN             NaN            NaN           NaN   \n",
       "2020-05-02              NaN             NaN            NaN           NaN   \n",
       "2020-06-24              NaN             NaN      1914400.0         28.39   \n",
       "\n",
       "            volume_CARM_RU  close_CARM_RU  ...  gold_rates  silver_rates  \\\n",
       "date                                       ...                             \n",
       "2024-02-25             NaN            NaN  ...         NaN           NaN   \n",
       "2021-11-13             NaN            NaN  ...     4271.28         57.67   \n",
       "2020-09-20             NaN            NaN  ...         NaN           NaN   \n",
       "2020-05-02             NaN            NaN  ...     3204.39         36.24   \n",
       "2020-06-24             NaN            NaN  ...     3887.67         39.42   \n",
       "\n",
       "            platinum_rates  palladium_rates  is_workday  day_of_week  \\\n",
       "date                                                                   \n",
       "2024-02-25             NaN              NaN       False       Sunday   \n",
       "2021-11-13         2470.42          4686.87       False     Saturday   \n",
       "2020-09-20             NaN              NaN       False       Sunday   \n",
       "2020-05-02         1998.67          4902.85       False     Saturday   \n",
       "2020-06-24         1825.87          4271.43       False    Wednesday   \n",
       "\n",
       "            gap_hl_S&P500  gap_co_S&P500  gap_hl_IMOEX  gap_co_IMOEX  \n",
       "date                                                                  \n",
       "2024-02-25            NaN            NaN           NaN           NaN  \n",
       "2021-11-13            NaN            NaN           NaN           NaN  \n",
       "2020-09-20            NaN            NaN           NaN           NaN  \n",
       "2020-05-02            NaN            NaN           NaN           NaN  \n",
       "2020-06-24           8.41          -5.75           NaN           NaN  \n",
       "\n",
       "[5 rows x 292 columns]"
      ]
     },
     "execution_count": 19,
     "metadata": {},
     "output_type": "execute_result"
    }
   ],
   "source": [
    "fintech[fintech['volume_IMOEX'].isnull()].sample(5)"
   ]
  },
  {
   "cell_type": "markdown",
   "id": "89cc339d",
   "metadata": {},
   "source": [
    "**Observation:** Most of the data was not parsed over the weekend. This can be explained by the fact that (almost) everyone rests on weekends. For holidays, we will refrain from making immediate conclusions since it depends on the organization."
   ]
  },
  {
   "cell_type": "markdown",
   "id": "ce71e970",
   "metadata": {},
   "source": [
    "**Solution:** We will discard these data, as they are not useful."
   ]
  },
  {
   "cell_type": "code",
   "execution_count": 20,
   "id": "be55e344",
   "metadata": {},
   "outputs": [],
   "source": [
    "fintech = fintech[(fintech['day_of_week'] != 'Sunday') & (fintech['day_of_week'] != 'Saturday')]"
   ]
  },
  {
   "cell_type": "code",
   "execution_count": 21,
   "id": "edb7faad",
   "metadata": {},
   "outputs": [
    {
     "name": "stdout",
     "output_type": "stream",
     "text": [
      "Lets see current amount of NaNs: 39657\n"
     ]
    }
   ],
   "source": [
    "print(f'Lets see current amount of NaNs: {fintech.isna().sum().sum()}')"
   ]
  },
  {
   "cell_type": "markdown",
   "id": "c90db847",
   "metadata": {},
   "source": [
    "It is also important to remember that if the parsing of American stock data **did not occur today**, we need to trim the data according to the value of the variable `the_day_of_parsing`."
   ]
  },
  {
   "cell_type": "code",
   "execution_count": 22,
   "id": "064b254a",
   "metadata": {},
   "outputs": [],
   "source": [
    "fintech = fintech[fintech.index <= the_day_of_parsing]"
   ]
  },
  {
   "cell_type": "code",
   "execution_count": 23,
   "id": "b604aca5",
   "metadata": {},
   "outputs": [
    {
     "name": "stdout",
     "output_type": "stream",
     "text": [
      "Lets see current amount of NaNs: 35105 and fintech dataset shape: (1305, 292)\n"
     ]
    }
   ],
   "source": [
    "print(f'Lets see current amount of NaNs: {fintech.isna().sum().sum()} and fintech dataset shape: {fintech.shape}')"
   ]
  },
  {
   "cell_type": "code",
   "execution_count": 24,
   "id": "7a931856",
   "metadata": {},
   "outputs": [
    {
     "data": {
      "text/plain": [
       "volume_MBNK_RU     1298\n",
       "close_MBNK_RU      1298\n",
       "volume_CARM_RU     1088\n",
       "close_CARM_RU      1088\n",
       "volume_CRBG_USA     891\n",
       "                   ... \n",
       "m1_ru                 6\n",
       "m2_ru                 6\n",
       "effr                  6\n",
       "is_workday            0\n",
       "day_of_week           0\n",
       "Length: 292, dtype: int64"
      ]
     },
     "execution_count": 24,
     "metadata": {},
     "output_type": "execute_result"
    }
   ],
   "source": [
    "fintech.isna().sum().sort_values(ascending=False)"
   ]
  },
  {
   "cell_type": "code",
   "execution_count": 25,
   "id": "6661beec",
   "metadata": {},
   "outputs": [
    {
     "data": {
      "text/plain": [
       "['palladium_rates',\n",
       " 'platinum_rates',\n",
       " 'silver_rates',\n",
       " 'gold_rates',\n",
       " 'usdrub',\n",
       " 'Interbank credit market rates',\n",
       " 'daily_gdp',\n",
       " 'daily_gdp_no_season',\n",
       " 'gap_co_IMOEX',\n",
       " 'gap_hl_IMOEX',\n",
       " 'gap_co_S&P500',\n",
       " 'gap_hl_S&P500',\n",
       " 'Foreign currency in cash',\n",
       " 'Loans from credit institutions',\n",
       " 'Quoted shares and units and shares of investment funds',\n",
       " 'Debt securities',\n",
       " 'Cash on brokerage accounts',\n",
       " 'Deposits',\n",
       " 'Cash national currency',\n",
       " 'Debt securities in the portfolio of non-residents, including promissory notes',\n",
       " 'Debt of the non-financial sector and households, total',\n",
       " 'Non-financial sector, total',\n",
       " 'Internal borrowings, non-financial sector',\n",
       " 'Credits',\n",
       " 'Debt securities in the residents portfolio',\n",
       " 'External borrowings, non-financial sector',\n",
       " 'Loans and borrowings received from non-residents',\n",
       " 'Households and NPOs, total',\n",
       " 'Internal borrowings, households',\n",
       " 'External borrowings, households',\n",
       " 'real_gdp_usa',\n",
       " 'broad_money_supply_ru',\n",
       " 'm0_ru',\n",
       " 'm1_ru',\n",
       " 'm2_ru',\n",
       " 'effr']"
      ]
     },
     "execution_count": 25,
     "metadata": {},
     "output_type": "execute_result"
    }
   ],
   "source": [
    "list_of_features = fintech.isna().sum().sort_values(ascending=False).index\n",
    "filtered_columns = [col for col in list_of_features if not (col.startswith('volume_') or col.startswith('close_') or (fintech[col].isna().sum() == 0))]\n",
    "filtered_columns"
   ]
  },
  {
   "cell_type": "markdown",
   "id": "66896791",
   "metadata": {},
   "source": [
    "**Overall**, we will use two methods for filling in missing data: naive prediction via `.ffill()` for features that investors potentially consider when making decisions. We do this because investors indeed rely on previous (most recent available) values. Additionally, we will use `ARIMA` for predicting and filling gaps in macroeconomic indicators and the previously highlighted `PRMB`."
   ]
  },
  {
   "cell_type": "markdown",
   "id": "adc8f9fb",
   "metadata": {},
   "source": [
    "We will use `.ffill()` to process the following features: `usdrub`, `palladium_rates`, `platinum_rates`, `silver_rates`, `gold_rates`, `IMOEX_close`, `IMOEX_volume`, `IMOEX_gap_hl`, `IMOEX_gap_co`, `S&P500_close`, `S&P500_gap_co`, `S&P500_gap_hl`, `S&P500_volume`, `effr`."
   ]
  },
  {
   "cell_type": "markdown",
   "id": "d05ac5e8",
   "metadata": {},
   "source": [
    "## Research of currency rates and precious metals\n",
    "\n",
    "**Note:** Investigating the possible causes of missing data in `usdrub`, `gold_rates`, `silver_rates`, `platinum_rates`, and `palladium_rates`, it is noteworthy that in 205 out of 311 Mondays, these rates were not available. It seems that the Central Bank might be using Friday's rates on Mondays **(подтверждение не смог почему-то найти)**. However, there is a clear bias for this day of the week, providing further justification for using `fill forward`."
   ]
  },
  {
   "cell_type": "code",
   "execution_count": 26,
   "id": "82a76c05",
   "metadata": {},
   "outputs": [
    {
     "data": {
      "text/plain": [
       "(56, 292)"
      ]
     },
     "execution_count": 26,
     "metadata": {},
     "output_type": "execute_result"
    }
   ],
   "source": [
    "fintech[~(fintech['usdrub'].isnull()) & (fintech['day_of_week'] == 'Monday')].shape"
   ]
  },
  {
   "cell_type": "code",
   "execution_count": 27,
   "id": "ba82eb7f",
   "metadata": {},
   "outputs": [
    {
     "data": {
      "text/plain": [
       "(205, 292)"
      ]
     },
     "execution_count": 27,
     "metadata": {},
     "output_type": "execute_result"
    }
   ],
   "source": [
    "fintech[(fintech['usdrub'].isnull()) & (fintech['day_of_week'] == 'Monday')].shape"
   ]
  },
  {
   "cell_type": "code",
   "execution_count": 28,
   "id": "6d79e912",
   "metadata": {},
   "outputs": [],
   "source": [
    "fintech['usdrub'] = fintech['usdrub'].ffill()\n",
    "fintech['gold_rates'] = fintech['gold_rates'].ffill()\n",
    "fintech['silver_rates'] = fintech['silver_rates'].ffill()\n",
    "fintech['platinum_rates'] = fintech['platinum_rates'].ffill()\n",
    "fintech['palladium_rates'] = fintech['palladium_rates'].ffill()"
   ]
  },
  {
   "cell_type": "code",
   "execution_count": 29,
   "id": "c85ccec9",
   "metadata": {},
   "outputs": [
    {
     "data": {
      "text/plain": [
       "0"
      ]
     },
     "execution_count": 29,
     "metadata": {},
     "output_type": "execute_result"
    }
   ],
   "source": [
    "fintech['gold_rates'].isna().sum()"
   ]
  },
  {
   "cell_type": "markdown",
   "id": "ed93b5ba",
   "metadata": {},
   "source": [
    "## Research of IMOEX and S&P500"
   ]
  },
  {
   "cell_type": "code",
   "execution_count": 30,
   "id": "606e7f46",
   "metadata": {},
   "outputs": [
    {
     "data": {
      "text/html": [
       "<div>\n",
       "<style scoped>\n",
       "    .dataframe tbody tr th:only-of-type {\n",
       "        vertical-align: middle;\n",
       "    }\n",
       "\n",
       "    .dataframe tbody tr th {\n",
       "        vertical-align: top;\n",
       "    }\n",
       "\n",
       "    .dataframe thead th {\n",
       "        text-align: right;\n",
       "    }\n",
       "</style>\n",
       "<table border=\"1\" class=\"dataframe\">\n",
       "  <thead>\n",
       "    <tr style=\"text-align: right;\">\n",
       "      <th></th>\n",
       "      <th>volume_NTRS_USA</th>\n",
       "      <th>close_NTRS_USA</th>\n",
       "      <th>volume_EWBC_USA</th>\n",
       "      <th>close_EWBC_USA</th>\n",
       "      <th>volume_COIN_USA</th>\n",
       "      <th>close_COIN_USA</th>\n",
       "      <th>volume_CG_USA</th>\n",
       "      <th>close_CG_USA</th>\n",
       "      <th>volume_CARM_RU</th>\n",
       "      <th>close_CARM_RU</th>\n",
       "      <th>...</th>\n",
       "      <th>gold_rates</th>\n",
       "      <th>silver_rates</th>\n",
       "      <th>platinum_rates</th>\n",
       "      <th>palladium_rates</th>\n",
       "      <th>is_workday</th>\n",
       "      <th>day_of_week</th>\n",
       "      <th>gap_hl_S&amp;P500</th>\n",
       "      <th>gap_co_S&amp;P500</th>\n",
       "      <th>gap_hl_IMOEX</th>\n",
       "      <th>gap_co_IMOEX</th>\n",
       "    </tr>\n",
       "    <tr>\n",
       "      <th>date</th>\n",
       "      <th></th>\n",
       "      <th></th>\n",
       "      <th></th>\n",
       "      <th></th>\n",
       "      <th></th>\n",
       "      <th></th>\n",
       "      <th></th>\n",
       "      <th></th>\n",
       "      <th></th>\n",
       "      <th></th>\n",
       "      <th></th>\n",
       "      <th></th>\n",
       "      <th></th>\n",
       "      <th></th>\n",
       "      <th></th>\n",
       "      <th></th>\n",
       "      <th></th>\n",
       "      <th></th>\n",
       "      <th></th>\n",
       "      <th></th>\n",
       "      <th></th>\n",
       "    </tr>\n",
       "  </thead>\n",
       "  <tbody>\n",
       "    <tr>\n",
       "      <th>2019-05-09</th>\n",
       "      <td>804008.0</td>\n",
       "      <td>96.97</td>\n",
       "      <td>748222.0</td>\n",
       "      <td>50.17</td>\n",
       "      <td>NaN</td>\n",
       "      <td>NaN</td>\n",
       "      <td>593700.0</td>\n",
       "      <td>20.76</td>\n",
       "      <td>NaN</td>\n",
       "      <td>NaN</td>\n",
       "      <td>...</td>\n",
       "      <td>3290.00</td>\n",
       "      <td>41.27</td>\n",
       "      <td>2069.61</td>\n",
       "      <td>3303.26</td>\n",
       "      <td>False</td>\n",
       "      <td>Thursday</td>\n",
       "      <td>4.0300</td>\n",
       "      <td>1.43</td>\n",
       "      <td>NaN</td>\n",
       "      <td>NaN</td>\n",
       "    </tr>\n",
       "    <tr>\n",
       "      <th>2019-06-12</th>\n",
       "      <td>2207877.0</td>\n",
       "      <td>88.01</td>\n",
       "      <td>1765096.0</td>\n",
       "      <td>43.50</td>\n",
       "      <td>NaN</td>\n",
       "      <td>NaN</td>\n",
       "      <td>281900.0</td>\n",
       "      <td>21.57</td>\n",
       "      <td>NaN</td>\n",
       "      <td>NaN</td>\n",
       "      <td>...</td>\n",
       "      <td>3025.36</td>\n",
       "      <td>35.14</td>\n",
       "      <td>1823.92</td>\n",
       "      <td>3816.07</td>\n",
       "      <td>False</td>\n",
       "      <td>Wednesday</td>\n",
       "      <td>1.4400</td>\n",
       "      <td>-0.25</td>\n",
       "      <td>NaN</td>\n",
       "      <td>NaN</td>\n",
       "    </tr>\n",
       "    <tr>\n",
       "      <th>2019-11-04</th>\n",
       "      <td>691773.0</td>\n",
       "      <td>103.87</td>\n",
       "      <td>1119061.0</td>\n",
       "      <td>45.43</td>\n",
       "      <td>NaN</td>\n",
       "      <td>NaN</td>\n",
       "      <td>976300.0</td>\n",
       "      <td>27.98</td>\n",
       "      <td>NaN</td>\n",
       "      <td>NaN</td>\n",
       "      <td>...</td>\n",
       "      <td>2715.75</td>\n",
       "      <td>31.73</td>\n",
       "      <td>1854.48</td>\n",
       "      <td>2884.75</td>\n",
       "      <td>False</td>\n",
       "      <td>Monday</td>\n",
       "      <td>1.0400</td>\n",
       "      <td>-0.48</td>\n",
       "      <td>NaN</td>\n",
       "      <td>NaN</td>\n",
       "    </tr>\n",
       "    <tr>\n",
       "      <th>2019-12-31</th>\n",
       "      <td>741362.0</td>\n",
       "      <td>106.24</td>\n",
       "      <td>1167529.0</td>\n",
       "      <td>48.70</td>\n",
       "      <td>NaN</td>\n",
       "      <td>NaN</td>\n",
       "      <td>1362600.0</td>\n",
       "      <td>32.08</td>\n",
       "      <td>NaN</td>\n",
       "      <td>NaN</td>\n",
       "      <td>...</td>\n",
       "      <td>3008.36</td>\n",
       "      <td>35.48</td>\n",
       "      <td>1896.77</td>\n",
       "      <td>3795.53</td>\n",
       "      <td>False</td>\n",
       "      <td>Tuesday</td>\n",
       "      <td>1.9800</td>\n",
       "      <td>1.33</td>\n",
       "      <td>NaN</td>\n",
       "      <td>NaN</td>\n",
       "    </tr>\n",
       "    <tr>\n",
       "      <th>2020-01-01</th>\n",
       "      <td>NaN</td>\n",
       "      <td>NaN</td>\n",
       "      <td>NaN</td>\n",
       "      <td>NaN</td>\n",
       "      <td>NaN</td>\n",
       "      <td>NaN</td>\n",
       "      <td>NaN</td>\n",
       "      <td>NaN</td>\n",
       "      <td>NaN</td>\n",
       "      <td>NaN</td>\n",
       "      <td>...</td>\n",
       "      <td>3031.25</td>\n",
       "      <td>35.48</td>\n",
       "      <td>1932.59</td>\n",
       "      <td>3821.40</td>\n",
       "      <td>False</td>\n",
       "      <td>Wednesday</td>\n",
       "      <td>NaN</td>\n",
       "      <td>NaN</td>\n",
       "      <td>NaN</td>\n",
       "      <td>NaN</td>\n",
       "    </tr>\n",
       "    <tr>\n",
       "      <th>...</th>\n",
       "      <td>...</td>\n",
       "      <td>...</td>\n",
       "      <td>...</td>\n",
       "      <td>...</td>\n",
       "      <td>...</td>\n",
       "      <td>...</td>\n",
       "      <td>...</td>\n",
       "      <td>...</td>\n",
       "      <td>...</td>\n",
       "      <td>...</td>\n",
       "      <td>...</td>\n",
       "      <td>...</td>\n",
       "      <td>...</td>\n",
       "      <td>...</td>\n",
       "      <td>...</td>\n",
       "      <td>...</td>\n",
       "      <td>...</td>\n",
       "      <td>...</td>\n",
       "      <td>...</td>\n",
       "      <td>...</td>\n",
       "      <td>...</td>\n",
       "    </tr>\n",
       "    <tr>\n",
       "      <th>2024-02-23</th>\n",
       "      <td>1098178.0</td>\n",
       "      <td>81.48</td>\n",
       "      <td>667150.0</td>\n",
       "      <td>72.36</td>\n",
       "      <td>7191183.0</td>\n",
       "      <td>165.9800</td>\n",
       "      <td>1864387.0</td>\n",
       "      <td>44.64</td>\n",
       "      <td>NaN</td>\n",
       "      <td>NaN</td>\n",
       "      <td>...</td>\n",
       "      <td>6043.85</td>\n",
       "      <td>68.81</td>\n",
       "      <td>2689.80</td>\n",
       "      <td>2901.53</td>\n",
       "      <td>False</td>\n",
       "      <td>Friday</td>\n",
       "      <td>3.0300</td>\n",
       "      <td>-1.42</td>\n",
       "      <td>NaN</td>\n",
       "      <td>NaN</td>\n",
       "    </tr>\n",
       "    <tr>\n",
       "      <th>2024-03-08</th>\n",
       "      <td>1225456.0</td>\n",
       "      <td>81.81</td>\n",
       "      <td>1038029.0</td>\n",
       "      <td>76.82</td>\n",
       "      <td>21883952.0</td>\n",
       "      <td>256.6200</td>\n",
       "      <td>2165911.0</td>\n",
       "      <td>47.35</td>\n",
       "      <td>NaN</td>\n",
       "      <td>NaN</td>\n",
       "      <td>...</td>\n",
       "      <td>6814.03</td>\n",
       "      <td>78.37</td>\n",
       "      <td>2805.70</td>\n",
       "      <td>2787.94</td>\n",
       "      <td>False</td>\n",
       "      <td>Friday</td>\n",
       "      <td>7.0901</td>\n",
       "      <td>-3.74</td>\n",
       "      <td>NaN</td>\n",
       "      <td>NaN</td>\n",
       "    </tr>\n",
       "    <tr>\n",
       "      <th>2024-05-01</th>\n",
       "      <td>1062849.0</td>\n",
       "      <td>83.05</td>\n",
       "      <td>758016.0</td>\n",
       "      <td>75.56</td>\n",
       "      <td>10191466.0</td>\n",
       "      <td>210.0900</td>\n",
       "      <td>6031390.0</td>\n",
       "      <td>40.97</td>\n",
       "      <td>NaN</td>\n",
       "      <td>NaN</td>\n",
       "      <td>...</td>\n",
       "      <td>6872.79</td>\n",
       "      <td>80.33</td>\n",
       "      <td>2680.69</td>\n",
       "      <td>2994.67</td>\n",
       "      <td>False</td>\n",
       "      <td>Wednesday</td>\n",
       "      <td>8.3250</td>\n",
       "      <td>-1.03</td>\n",
       "      <td>NaN</td>\n",
       "      <td>NaN</td>\n",
       "    </tr>\n",
       "    <tr>\n",
       "      <th>2024-05-07</th>\n",
       "      <td>862435.0</td>\n",
       "      <td>84.66</td>\n",
       "      <td>344133.0</td>\n",
       "      <td>77.46</td>\n",
       "      <td>8169566.0</td>\n",
       "      <td>214.3400</td>\n",
       "      <td>2656879.0</td>\n",
       "      <td>41.98</td>\n",
       "      <td>6451200.0</td>\n",
       "      <td>2.4095</td>\n",
       "      <td>...</td>\n",
       "      <td>6020.42</td>\n",
       "      <td>66.73</td>\n",
       "      <td>2561.13</td>\n",
       "      <td>2746.17</td>\n",
       "      <td>False</td>\n",
       "      <td>Tuesday</td>\n",
       "      <td>NaN</td>\n",
       "      <td>NaN</td>\n",
       "      <td>NaN</td>\n",
       "      <td>NaN</td>\n",
       "    </tr>\n",
       "    <tr>\n",
       "      <th>2024-05-08</th>\n",
       "      <td>111137.0</td>\n",
       "      <td>85.14</td>\n",
       "      <td>56786.0</td>\n",
       "      <td>77.05</td>\n",
       "      <td>1973124.0</td>\n",
       "      <td>213.7648</td>\n",
       "      <td>130161.0</td>\n",
       "      <td>41.41</td>\n",
       "      <td>NaN</td>\n",
       "      <td>NaN</td>\n",
       "      <td>...</td>\n",
       "      <td>6020.42</td>\n",
       "      <td>66.73</td>\n",
       "      <td>2561.13</td>\n",
       "      <td>2746.17</td>\n",
       "      <td>False</td>\n",
       "      <td>Wednesday</td>\n",
       "      <td>NaN</td>\n",
       "      <td>NaN</td>\n",
       "      <td>NaN</td>\n",
       "      <td>NaN</td>\n",
       "    </tr>\n",
       "  </tbody>\n",
       "</table>\n",
       "<p>61 rows × 292 columns</p>\n",
       "</div>"
      ],
      "text/plain": [
       "            volume_NTRS_USA  close_NTRS_USA  volume_EWBC_USA  close_EWBC_USA  \\\n",
       "date                                                                           \n",
       "2019-05-09         804008.0           96.97         748222.0           50.17   \n",
       "2019-06-12        2207877.0           88.01        1765096.0           43.50   \n",
       "2019-11-04         691773.0          103.87        1119061.0           45.43   \n",
       "2019-12-31         741362.0          106.24        1167529.0           48.70   \n",
       "2020-01-01              NaN             NaN              NaN             NaN   \n",
       "...                     ...             ...              ...             ...   \n",
       "2024-02-23        1098178.0           81.48         667150.0           72.36   \n",
       "2024-03-08        1225456.0           81.81        1038029.0           76.82   \n",
       "2024-05-01        1062849.0           83.05         758016.0           75.56   \n",
       "2024-05-07         862435.0           84.66         344133.0           77.46   \n",
       "2024-05-08         111137.0           85.14          56786.0           77.05   \n",
       "\n",
       "            volume_COIN_USA  close_COIN_USA  volume_CG_USA  close_CG_USA  \\\n",
       "date                                                                       \n",
       "2019-05-09              NaN             NaN       593700.0         20.76   \n",
       "2019-06-12              NaN             NaN       281900.0         21.57   \n",
       "2019-11-04              NaN             NaN       976300.0         27.98   \n",
       "2019-12-31              NaN             NaN      1362600.0         32.08   \n",
       "2020-01-01              NaN             NaN            NaN           NaN   \n",
       "...                     ...             ...            ...           ...   \n",
       "2024-02-23        7191183.0        165.9800      1864387.0         44.64   \n",
       "2024-03-08       21883952.0        256.6200      2165911.0         47.35   \n",
       "2024-05-01       10191466.0        210.0900      6031390.0         40.97   \n",
       "2024-05-07        8169566.0        214.3400      2656879.0         41.98   \n",
       "2024-05-08        1973124.0        213.7648       130161.0         41.41   \n",
       "\n",
       "            volume_CARM_RU  close_CARM_RU  ...  gold_rates  silver_rates  \\\n",
       "date                                       ...                             \n",
       "2019-05-09             NaN            NaN  ...     3290.00         41.27   \n",
       "2019-06-12             NaN            NaN  ...     3025.36         35.14   \n",
       "2019-11-04             NaN            NaN  ...     2715.75         31.73   \n",
       "2019-12-31             NaN            NaN  ...     3008.36         35.48   \n",
       "2020-01-01             NaN            NaN  ...     3031.25         35.48   \n",
       "...                    ...            ...  ...         ...           ...   \n",
       "2024-02-23             NaN            NaN  ...     6043.85         68.81   \n",
       "2024-03-08             NaN            NaN  ...     6814.03         78.37   \n",
       "2024-05-01             NaN            NaN  ...     6872.79         80.33   \n",
       "2024-05-07       6451200.0         2.4095  ...     6020.42         66.73   \n",
       "2024-05-08             NaN            NaN  ...     6020.42         66.73   \n",
       "\n",
       "            platinum_rates  palladium_rates  is_workday  day_of_week  \\\n",
       "date                                                                   \n",
       "2019-05-09         2069.61          3303.26       False     Thursday   \n",
       "2019-06-12         1823.92          3816.07       False    Wednesday   \n",
       "2019-11-04         1854.48          2884.75       False       Monday   \n",
       "2019-12-31         1896.77          3795.53       False      Tuesday   \n",
       "2020-01-01         1932.59          3821.40       False    Wednesday   \n",
       "...                    ...              ...         ...          ...   \n",
       "2024-02-23         2689.80          2901.53       False       Friday   \n",
       "2024-03-08         2805.70          2787.94       False       Friday   \n",
       "2024-05-01         2680.69          2994.67       False    Wednesday   \n",
       "2024-05-07         2561.13          2746.17       False      Tuesday   \n",
       "2024-05-08         2561.13          2746.17       False    Wednesday   \n",
       "\n",
       "            gap_hl_S&P500  gap_co_S&P500  gap_hl_IMOEX  gap_co_IMOEX  \n",
       "date                                                                  \n",
       "2019-05-09         4.0300           1.43           NaN           NaN  \n",
       "2019-06-12         1.4400          -0.25           NaN           NaN  \n",
       "2019-11-04         1.0400          -0.48           NaN           NaN  \n",
       "2019-12-31         1.9800           1.33           NaN           NaN  \n",
       "2020-01-01            NaN            NaN           NaN           NaN  \n",
       "...                   ...            ...           ...           ...  \n",
       "2024-02-23         3.0300          -1.42           NaN           NaN  \n",
       "2024-03-08         7.0901          -3.74           NaN           NaN  \n",
       "2024-05-01         8.3250          -1.03           NaN           NaN  \n",
       "2024-05-07            NaN            NaN           NaN           NaN  \n",
       "2024-05-08            NaN            NaN           NaN           NaN  \n",
       "\n",
       "[61 rows x 292 columns]"
      ]
     },
     "execution_count": 30,
     "metadata": {},
     "output_type": "execute_result"
    }
   ],
   "source": [
    "fintech[fintech['volume_IMOEX'].isnull()]"
   ]
  },
  {
   "cell_type": "markdown",
   "id": "0e1a170b",
   "metadata": {},
   "source": [
    "In the data for `S&P500` we did not reveal any patterns or reasons for the missing data. Therefore, we will simply fill in the gaps using `.ffill()`. For `IMOEX`, there is a specific time period, March 2022, when the data were not updated by the Moscow Exchange. Since the reason for the data gap is unclear, we decided to process `IMOEX` using `ARIMA`."
   ]
  },
  {
   "cell_type": "code",
   "execution_count": 31,
   "id": "a0ac72cb",
   "metadata": {},
   "outputs": [],
   "source": [
    "fintech['close_S&P500'] = fintech['close_S&P500'].ffill()\n",
    "fintech['volume_S&P500'] = fintech['volume_S&P500'].ffill()\n",
    "fintech['gap_hl_S&P500'] = fintech['gap_hl_S&P500'].ffill()\n",
    "fintech['gap_co_S&P500'] = fintech['gap_co_S&P500'].ffill()"
   ]
  },
  {
   "cell_type": "markdown",
   "id": "c9b20f7e",
   "metadata": {},
   "source": [
    "## Research of EFFR"
   ]
  },
  {
   "cell_type": "code",
   "execution_count": 32,
   "id": "736bc908",
   "metadata": {},
   "outputs": [
    {
     "name": "stdout",
     "output_type": "stream",
     "text": [
      "Lets see current amount of NaNs in effr data: 33054\n"
     ]
    }
   ],
   "source": [
    "print(f'Lets see current amount of NaNs in effr data: {fintech.isna().sum().sum()}')"
   ]
  },
  {
   "cell_type": "markdown",
   "id": "158f49fd",
   "metadata": {},
   "source": [
    "Upon examining where the gaps are for this feature, we observe that there are 6 missing values for the most recent dates, which is quite natural. Overall, we can either disregard these dates or fill them using `.ffill()`."
   ]
  },
  {
   "cell_type": "code",
   "execution_count": 33,
   "id": "d9712986",
   "metadata": {},
   "outputs": [],
   "source": [
    "#fintech = fintech[fintech.index < '2024-05-01']"
   ]
  },
  {
   "cell_type": "code",
   "execution_count": 34,
   "id": "dd01f7fc",
   "metadata": {},
   "outputs": [],
   "source": [
    "fintech['effr'] = fintech['effr'].ffill()"
   ]
  },
  {
   "cell_type": "code",
   "execution_count": 35,
   "id": "cb03fb7e",
   "metadata": {},
   "outputs": [
    {
     "name": "stdout",
     "output_type": "stream",
     "text": [
      "Lets see current amount of NaNs: 33048\n"
     ]
    }
   ],
   "source": [
    "print(f'Lets see current amount of NaNs: {fintech.isna().sum().sum()}')"
   ]
  },
  {
   "cell_type": "markdown",
   "id": "d849ac5c",
   "metadata": {},
   "source": [
    "# Step №3. Common function for partial processing"
   ]
  },
  {
   "cell_type": "code",
   "execution_count": 36,
   "id": "25f38a3a",
   "metadata": {},
   "outputs": [],
   "source": [
    "def initial_processing(dataset):\n",
    "    calendar = pd.read_csv('data/trading_calendat_NYSE.csv')\n",
    "    calendar.drop(['Unnamed: 0'], axis=1, inplace=True)\n",
    "    calendar['Date'] = pd.to_datetime(calendar['Date'], format='%Y-%m-%d')\n",
    "    \n",
    "    dataset['date'] = pd.to_datetime(dataset['date'], format='%Y-%m-%d')\n",
    "    \n",
    "    # We create an auxiliary feature is_workday for clarity, filter out dates with missing data, \n",
    "    # and create a column day_of_week.\n",
    "    work_calendar = calendar[calendar['Date'] > threshold]\n",
    "    dataset['is_workday'] = [i in work_calendar['Date'].dt.date for i in dataset['date'].dt.date]\n",
    "    dataset = dataset[dataset['date'] > threshold]\n",
    "    dataset['day_of_week'] = dataset['date'].dt.day_name()\n",
    "    dataset.set_index(['date'], inplace=True)\n",
    "    dataset.sort_index(inplace=True)\n",
    "    \n",
    "    # We create new features for the IMOEX and S&P500 indices.\n",
    "    dataset['gap_hl_S&P500'] = dataset['high_S&P500'] - dataset['low_S&P500']\n",
    "    dataset['gap_co_S&P500'] = dataset['close_S&P500'] - dataset['open_S&P500']\n",
    "    dataset['gap_hl_IMOEX'] = dataset['high_IMOEX'] - dataset['low_IMOEX']\n",
    "    dataset['gap_co_IMOEX'] = dataset['close_IMOEX'] - dataset['open_IMOEX']\n",
    "    dataset.drop(['high_IMOEX', 'low_IMOEX', 'open_IMOEX', 'high_S&P500', 'low_S&P500', 'open_S&P500'], axis=1, inplace=True)\n",
    "    \n",
    "    # We remove weekends and select the necessary time period.\n",
    "    dataset = dataset[(dataset['day_of_week'] != 'Sunday') & (dataset['day_of_week'] != 'Saturday')]\n",
    "    dataset = dataset[dataset.index <= the_day_of_parsing]\n",
    "    \n",
    "    # Processing of precious metals and currency exchange rates.\n",
    "    dataset['usdrub'] = dataset['usdrub'].ffill()\n",
    "    dataset['gold_rates'] = dataset['gold_rates'].ffill()\n",
    "    dataset['silver_rates'] = dataset['silver_rates'].ffill()\n",
    "    dataset['platinum_rates'] = dataset['platinum_rates'].ffill()\n",
    "    dataset['palladium_rates'] = dataset['palladium_rates'].ffill()\n",
    "\n",
    "    # Processing of IMOEX and S&P500.\n",
    "    dataset['close_S&P500'] = dataset['close_S&P500'].ffill()\n",
    "    dataset['volume_S&P500'] = dataset['volume_S&P500'].ffill()\n",
    "    dataset['gap_hl_S&P500'] = dataset['gap_hl_S&P500'].ffill()\n",
    "    dataset['gap_co_S&P500'] = dataset['gap_co_S&P500'].ffill()\n",
    "    \n",
    "    # Processing of EFFR.\n",
    "    dataset['effr'] = dataset['effr'].ffill()\n",
    "    return dataset"
   ]
  },
  {
   "cell_type": "markdown",
   "id": "281704f1",
   "metadata": {},
   "source": [
    "### We apply the function to the remaining 3 sectors:"
   ]
  },
  {
   "cell_type": "code",
   "execution_count": 37,
   "id": "fb297bc0",
   "metadata": {},
   "outputs": [],
   "source": [
    "industrial_goods = initial_processing(industrial_goods)\n",
    "renewable_energy = initial_processing(renewable_energy)\n",
    "healthcare_services = initial_processing(healthcare_services)"
   ]
  },
  {
   "cell_type": "markdown",
   "id": "5ad6e34e",
   "metadata": {},
   "source": [
    "# Step №4. Research of Stock Price Data"
   ]
  },
  {
   "cell_type": "markdown",
   "id": "911f7d00",
   "metadata": {},
   "source": [
    "**Note:** It should be noted that **for some companies, there is virtually no data available**. This could be because the specific websites from which we extracted the quotes did not store them for these companies. This could be because the companies are too unpopular or their stocks starting to trade much later than 2019, etc.\n",
    "\n",
    "**For many** such companies' stocks, we will exclude them from our study. For convenience, we will divide the data into those with more than 500 missing values and those with 150 to 500 missing values (this range requires closer inspection as they have a higher chance of remaining with manual imputation)."
   ]
  },
  {
   "cell_type": "markdown",
   "id": "7ff2464e",
   "metadata": {},
   "source": [
    "## Fintech\n",
    "P.S. Overall, the conclusions drawn here **are universal for the following sectors** (excluding specific details down to the stock name)."
   ]
  },
  {
   "cell_type": "code",
   "execution_count": 38,
   "id": "ea75ad0d",
   "metadata": {},
   "outputs": [
    {
     "data": {
      "text/plain": [
       "volume_MBNK_RU     1298\n",
       "close_MBNK_RU      1298\n",
       "volume_CARM_RU     1088\n",
       "close_CARM_RU      1088\n",
       "close_CRBG_USA      891\n",
       "volume_CRBG_USA     891\n",
       "close_TPG_USA       723\n",
       "volume_TPG_USA      723\n",
       "close_POSI_RU       722\n",
       "volume_POSI_RU      702\n",
       "close_SPBE_RU       702\n",
       "volume_NU_USA       699\n",
       "close_NU_USA        699\n",
       "volume_SPBE_RU      682\n",
       "close_RENI_RU       682\n",
       "volume_RENI_RU      661\n",
       "volume_HOOD_USA     606\n",
       "close_HOOD_USA      606\n",
       "close_RYAN_USA      601\n",
       "volume_RYAN_USA     601\n",
       "close_COIN_USA      532\n",
       "volume_COIN_USA     532\n",
       "dtype: int64"
      ]
     },
     "execution_count": 38,
     "metadata": {},
     "output_type": "execute_result"
    }
   ],
   "source": [
    "ft_exceptions = list(fintech.isna().sum()[fintech.isna().sum() < 500].index)\n",
    "fintech_1 = fintech.loc[:, ~fintech.columns.isin(ft_exceptions)]\n",
    "fintech_1.isna().sum().sort_values(ascending=False)"
   ]
  },
  {
   "cell_type": "code",
   "execution_count": 39,
   "id": "d936fb28",
   "metadata": {},
   "outputs": [],
   "source": [
    "ft_many_nans_1 = list(fintech_1.isna().sum().sort_values(ascending=False).index)"
   ]
  },
  {
   "cell_type": "markdown",
   "id": "6de6f5b8",
   "metadata": {},
   "source": [
    "Examine certain stocks individually: why do they have so many NaNs?"
   ]
  },
  {
   "cell_type": "markdown",
   "id": "2cdeec3f",
   "metadata": {},
   "source": [
    "**Process Description:** Several potential reasons for the large number of missing values were considered: either the company entered the financial market very recently (relative to the 2019-2024 period), or, in the case of Russian companies, their stocks were traded in different modes (not only TQBR) - a hypothesis at the level of speculation, or the specific website from which we obtained the quotes did not provide data for a certain period."
   ]
  },
  {
   "cell_type": "markdown",
   "id": "f8c4d97b",
   "metadata": {},
   "source": [
    "As it turns out, **the main reason for most of the missing data** is that the company listed its shares on the financial market recently. **The reason for the imbalances (in volume/close)** is that zeros were parsed instead of missing values in some cases."
   ]
  },
  {
   "cell_type": "code",
   "execution_count": 40,
   "id": "2d849ff7",
   "metadata": {},
   "outputs": [
    {
     "data": {
      "text/plain": [
       "Index(['volume_NTRS_USA', 'close_NTRS_USA', 'volume_EWBC_USA',\n",
       "       'close_EWBC_USA', 'volume_COIN_USA', 'close_COIN_USA', 'volume_CG_USA',\n",
       "       'close_CG_USA', 'volume_CARM_RU', 'close_CARM_RU',\n",
       "       ...\n",
       "       'gold_rates', 'silver_rates', 'platinum_rates', 'palladium_rates',\n",
       "       'is_workday', 'day_of_week', 'gap_hl_S&P500', 'gap_co_S&P500',\n",
       "       'gap_hl_IMOEX', 'gap_co_IMOEX'],\n",
       "      dtype='object', length=275)"
      ]
     },
     "execution_count": 40,
     "metadata": {},
     "output_type": "execute_result"
    }
   ],
   "source": [
    "fintech.isna().sum()[(fintech.isna().sum() > 500) | (fintech.isna().sum() < 150)].index"
   ]
  },
  {
   "cell_type": "code",
   "execution_count": 41,
   "id": "2ab55d08",
   "metadata": {},
   "outputs": [
    {
     "data": {
      "text/plain": [
       "volume_OWL_USA                   450\n",
       "close_OWL_USA                    450\n",
       "close_SMLT_RU                    434\n",
       "volume_SMLT_RU                   414\n",
       "close_RKT_USA                    360\n",
       "volume_RKT_USA                   360\n",
       "close_INGR_RU                    286\n",
       "volume_UWMC_USA                  282\n",
       "close_UWMC_USA                   282\n",
       "volume_INGR_RU                   266\n",
       "close_PRMB_RU                    226\n",
       "Interbank credit market rates    224\n",
       "close_RDRB_RU                    219\n",
       "close_TCSG_RU                    203\n",
       "volume_XP_USA                    196\n",
       "close_XP_USA                     196\n",
       "volume_TCSG_RU                   163\n",
       "dtype: int64"
      ]
     },
     "execution_count": 41,
     "metadata": {},
     "output_type": "execute_result"
    }
   ],
   "source": [
    "ft_exceptions_1 = list(fintech.isna().sum()[(fintech.isna().sum() > 500) | (fintech.isna().sum() < 150)].index)\n",
    "fintech_2 = fintech.loc[:, ~fintech.columns.isin(ft_exceptions_1)]\n",
    "fintech_2.isna().sum().sort_values(ascending=False)"
   ]
  },
  {
   "cell_type": "code",
   "execution_count": 42,
   "id": "24bef302",
   "metadata": {},
   "outputs": [],
   "source": [
    "#fintech_2.isna().sum().sort_values(ascending=False).drop(['usdrub', 'palladium_rates', 'platinum_rates', 'silver_rates', 'gold_rates', 'Interbank credit market rates'])"
   ]
  },
  {
   "cell_type": "markdown",
   "id": "10c28207",
   "metadata": {},
   "source": [
    "**Intermediate Conclusion:** After investigating all stocks with more than 10% missing values, it can be said that almost all share a common reason: **a recent listing on the stock market**. The exceptions are `INGR` and `PRMB`: for `INGR`, there is suspicion that the data was incorrectly parsed, or the Moscow Exchange did not publish it for an extended period; for `PRMB`, the missing values are not consecutive but sporadic, making it possible **to fill them after predicting the values**."
   ]
  },
  {
   "cell_type": "code",
   "execution_count": 43,
   "id": "89a74e5e",
   "metadata": {},
   "outputs": [],
   "source": [
    "ft_many_nans_2 = list(fintech_2.isna().sum().sort_values(ascending=False).index)\n",
    "#drop(['usdrub', 'palladium_rates', 'platinum_rates', 'silver_rates', 'gold_rates', 'Interbank credit market rates', 'close_PRMB_RU']).index)"
   ]
  },
  {
   "cell_type": "code",
   "execution_count": 44,
   "id": "7d3d75e9",
   "metadata": {},
   "outputs": [
    {
     "data": {
      "text/plain": [
       "['volume_OWL_USA',\n",
       " 'close_OWL_USA',\n",
       " 'close_SMLT_RU',\n",
       " 'volume_SMLT_RU',\n",
       " 'close_RKT_USA',\n",
       " 'volume_RKT_USA',\n",
       " 'close_INGR_RU',\n",
       " 'volume_UWMC_USA',\n",
       " 'close_UWMC_USA',\n",
       " 'volume_INGR_RU',\n",
       " 'close_PRMB_RU',\n",
       " 'Interbank credit market rates',\n",
       " 'close_RDRB_RU',\n",
       " 'close_TCSG_RU',\n",
       " 'volume_XP_USA',\n",
       " 'close_XP_USA',\n",
       " 'volume_TCSG_RU']"
      ]
     },
     "execution_count": 44,
     "metadata": {},
     "output_type": "execute_result"
    }
   ],
   "source": [
    "ft_many_nans_2"
   ]
  },
  {
   "cell_type": "markdown",
   "id": "c8949f6a",
   "metadata": {},
   "source": [
    "We decided to discard the stock quotes for `INGR` because the parsing was correctly implemented, and this case represents an odd exception that is difficult to handle.\n",
    "\n",
    "**Conclusion:** we eliminate data on 19 stocks (`MBNK`, `CARM`, `CRBG`, `TPG`, `POSI`, `SPBE`, `NU`, `RENI`, `HOOD`, `RYAN`, `COIN`, `OWL`, `SMLT`, `RKT`, `INGR`, `UWMC`, `RDRB`, `TCSG`, `XP`)"
   ]
  },
  {
   "cell_type": "code",
   "execution_count": 45,
   "id": "2bf03f95",
   "metadata": {},
   "outputs": [],
   "source": [
    "all_columns_to_drop_in_ft = ft_many_nans_1 + ft_many_nans_2\n",
    "fintech.drop(all_columns_to_drop_in_ft, axis=1, inplace=True)"
   ]
  },
  {
   "cell_type": "markdown",
   "id": "83f19fb9",
   "metadata": {},
   "source": [
    "## Industrial goods"
   ]
  },
  {
   "cell_type": "code",
   "execution_count": 46,
   "id": "02601241",
   "metadata": {},
   "outputs": [
    {
     "data": {
      "text/html": [
       "<div>\n",
       "<style scoped>\n",
       "    .dataframe tbody tr th:only-of-type {\n",
       "        vertical-align: middle;\n",
       "    }\n",
       "\n",
       "    .dataframe tbody tr th {\n",
       "        vertical-align: top;\n",
       "    }\n",
       "\n",
       "    .dataframe thead th {\n",
       "        text-align: right;\n",
       "    }\n",
       "</style>\n",
       "<table border=\"1\" class=\"dataframe\">\n",
       "  <thead>\n",
       "    <tr style=\"text-align: right;\">\n",
       "      <th></th>\n",
       "      <th>volume_CLH_USA</th>\n",
       "      <th>close_CLH_USA</th>\n",
       "      <th>volume_BLDR_USA</th>\n",
       "      <th>close_BLDR_USA</th>\n",
       "      <th>volume_GGG_USA</th>\n",
       "      <th>close_GGG_USA</th>\n",
       "      <th>volume_RTX_USA</th>\n",
       "      <th>close_RTX_USA</th>\n",
       "      <th>volume_GWW_USA</th>\n",
       "      <th>close_GWW_USA</th>\n",
       "      <th>...</th>\n",
       "      <th>gold_rates</th>\n",
       "      <th>silver_rates</th>\n",
       "      <th>platinum_rates</th>\n",
       "      <th>palladium_rates</th>\n",
       "      <th>is_workday</th>\n",
       "      <th>day_of_week</th>\n",
       "      <th>gap_hl_S&amp;P500</th>\n",
       "      <th>gap_co_S&amp;P500</th>\n",
       "      <th>gap_hl_IMOEX</th>\n",
       "      <th>gap_co_IMOEX</th>\n",
       "    </tr>\n",
       "    <tr>\n",
       "      <th>date</th>\n",
       "      <th></th>\n",
       "      <th></th>\n",
       "      <th></th>\n",
       "      <th></th>\n",
       "      <th></th>\n",
       "      <th></th>\n",
       "      <th></th>\n",
       "      <th></th>\n",
       "      <th></th>\n",
       "      <th></th>\n",
       "      <th></th>\n",
       "      <th></th>\n",
       "      <th></th>\n",
       "      <th></th>\n",
       "      <th></th>\n",
       "      <th></th>\n",
       "      <th></th>\n",
       "      <th></th>\n",
       "      <th></th>\n",
       "      <th></th>\n",
       "      <th></th>\n",
       "    </tr>\n",
       "  </thead>\n",
       "  <tbody>\n",
       "    <tr>\n",
       "      <th>2019-05-09</th>\n",
       "      <td>502075.0</td>\n",
       "      <td>69.78</td>\n",
       "      <td>931345.0</td>\n",
       "      <td>16.70</td>\n",
       "      <td>476482.0</td>\n",
       "      <td>50.87</td>\n",
       "      <td>4066569.0</td>\n",
       "      <td>86.13</td>\n",
       "      <td>490500.0</td>\n",
       "      <td>273.44</td>\n",
       "      <td>...</td>\n",
       "      <td>3290.00</td>\n",
       "      <td>41.27</td>\n",
       "      <td>2069.61</td>\n",
       "      <td>3303.26</td>\n",
       "      <td>False</td>\n",
       "      <td>Thursday</td>\n",
       "      <td>4.03</td>\n",
       "      <td>1.43</td>\n",
       "      <td>NaN</td>\n",
       "      <td>NaN</td>\n",
       "    </tr>\n",
       "    <tr>\n",
       "      <th>2019-05-10</th>\n",
       "      <td>548266.0</td>\n",
       "      <td>69.92</td>\n",
       "      <td>1670463.0</td>\n",
       "      <td>16.48</td>\n",
       "      <td>570537.0</td>\n",
       "      <td>51.41</td>\n",
       "      <td>4214823.0</td>\n",
       "      <td>86.32</td>\n",
       "      <td>456600.0</td>\n",
       "      <td>267.69</td>\n",
       "      <td>...</td>\n",
       "      <td>3156.00</td>\n",
       "      <td>36.81</td>\n",
       "      <td>1848.23</td>\n",
       "      <td>3472.75</td>\n",
       "      <td>False</td>\n",
       "      <td>Friday</td>\n",
       "      <td>6.64</td>\n",
       "      <td>2.48</td>\n",
       "      <td>29.17</td>\n",
       "      <td>-23.29</td>\n",
       "    </tr>\n",
       "    <tr>\n",
       "      <th>2019-05-13</th>\n",
       "      <td>244584.0</td>\n",
       "      <td>68.00</td>\n",
       "      <td>1018554.0</td>\n",
       "      <td>15.81</td>\n",
       "      <td>542908.0</td>\n",
       "      <td>49.86</td>\n",
       "      <td>6545091.0</td>\n",
       "      <td>83.05</td>\n",
       "      <td>687600.0</td>\n",
       "      <td>259.99</td>\n",
       "      <td>...</td>\n",
       "      <td>3156.00</td>\n",
       "      <td>36.81</td>\n",
       "      <td>1848.23</td>\n",
       "      <td>3472.75</td>\n",
       "      <td>False</td>\n",
       "      <td>Monday</td>\n",
       "      <td>3.56</td>\n",
       "      <td>-1.56</td>\n",
       "      <td>25.07</td>\n",
       "      <td>-3.36</td>\n",
       "    </tr>\n",
       "    <tr>\n",
       "      <th>2019-05-14</th>\n",
       "      <td>450234.0</td>\n",
       "      <td>68.17</td>\n",
       "      <td>818879.0</td>\n",
       "      <td>16.08</td>\n",
       "      <td>1187857.0</td>\n",
       "      <td>48.76</td>\n",
       "      <td>4305078.0</td>\n",
       "      <td>84.32</td>\n",
       "      <td>354600.0</td>\n",
       "      <td>262.06</td>\n",
       "      <td>...</td>\n",
       "      <td>2700.50</td>\n",
       "      <td>30.86</td>\n",
       "      <td>1795.49</td>\n",
       "      <td>2807.96</td>\n",
       "      <td>False</td>\n",
       "      <td>Tuesday</td>\n",
       "      <td>3.25</td>\n",
       "      <td>1.41</td>\n",
       "      <td>57.99</td>\n",
       "      <td>53.40</td>\n",
       "    </tr>\n",
       "    <tr>\n",
       "      <th>2019-05-15</th>\n",
       "      <td>189946.0</td>\n",
       "      <td>68.05</td>\n",
       "      <td>875703.0</td>\n",
       "      <td>16.15</td>\n",
       "      <td>719101.0</td>\n",
       "      <td>48.90</td>\n",
       "      <td>3861588.0</td>\n",
       "      <td>84.32</td>\n",
       "      <td>363400.0</td>\n",
       "      <td>261.79</td>\n",
       "      <td>...</td>\n",
       "      <td>2724.24</td>\n",
       "      <td>30.98</td>\n",
       "      <td>1795.03</td>\n",
       "      <td>2792.26</td>\n",
       "      <td>False</td>\n",
       "      <td>Wednesday</td>\n",
       "      <td>4.41</td>\n",
       "      <td>3.47</td>\n",
       "      <td>27.39</td>\n",
       "      <td>-14.84</td>\n",
       "    </tr>\n",
       "  </tbody>\n",
       "</table>\n",
       "<p>5 rows × 308 columns</p>\n",
       "</div>"
      ],
      "text/plain": [
       "            volume_CLH_USA  close_CLH_USA  volume_BLDR_USA  close_BLDR_USA  \\\n",
       "date                                                                         \n",
       "2019-05-09        502075.0          69.78         931345.0           16.70   \n",
       "2019-05-10        548266.0          69.92        1670463.0           16.48   \n",
       "2019-05-13        244584.0          68.00        1018554.0           15.81   \n",
       "2019-05-14        450234.0          68.17         818879.0           16.08   \n",
       "2019-05-15        189946.0          68.05         875703.0           16.15   \n",
       "\n",
       "            volume_GGG_USA  close_GGG_USA  volume_RTX_USA  close_RTX_USA  \\\n",
       "date                                                                       \n",
       "2019-05-09        476482.0          50.87       4066569.0          86.13   \n",
       "2019-05-10        570537.0          51.41       4214823.0          86.32   \n",
       "2019-05-13        542908.0          49.86       6545091.0          83.05   \n",
       "2019-05-14       1187857.0          48.76       4305078.0          84.32   \n",
       "2019-05-15        719101.0          48.90       3861588.0          84.32   \n",
       "\n",
       "            volume_GWW_USA  close_GWW_USA  ...  gold_rates  silver_rates  \\\n",
       "date                                       ...                             \n",
       "2019-05-09        490500.0         273.44  ...     3290.00         41.27   \n",
       "2019-05-10        456600.0         267.69  ...     3156.00         36.81   \n",
       "2019-05-13        687600.0         259.99  ...     3156.00         36.81   \n",
       "2019-05-14        354600.0         262.06  ...     2700.50         30.86   \n",
       "2019-05-15        363400.0         261.79  ...     2724.24         30.98   \n",
       "\n",
       "            platinum_rates  palladium_rates  is_workday  day_of_week  \\\n",
       "date                                                                   \n",
       "2019-05-09         2069.61          3303.26       False     Thursday   \n",
       "2019-05-10         1848.23          3472.75       False       Friday   \n",
       "2019-05-13         1848.23          3472.75       False       Monday   \n",
       "2019-05-14         1795.49          2807.96       False      Tuesday   \n",
       "2019-05-15         1795.03          2792.26       False    Wednesday   \n",
       "\n",
       "            gap_hl_S&P500  gap_co_S&P500  gap_hl_IMOEX  gap_co_IMOEX  \n",
       "date                                                                  \n",
       "2019-05-09           4.03           1.43           NaN           NaN  \n",
       "2019-05-10           6.64           2.48         29.17        -23.29  \n",
       "2019-05-13           3.56          -1.56         25.07         -3.36  \n",
       "2019-05-14           3.25           1.41         57.99         53.40  \n",
       "2019-05-15           4.41           3.47         27.39        -14.84  \n",
       "\n",
       "[5 rows x 308 columns]"
      ]
     },
     "execution_count": 46,
     "metadata": {},
     "output_type": "execute_result"
    }
   ],
   "source": [
    "industrial_goods.head()"
   ]
  },
  {
   "cell_type": "code",
   "execution_count": 47,
   "id": "18f96b0d",
   "metadata": {},
   "outputs": [
    {
     "data": {
      "text/plain": [
       "volume_UGLD_RU     1190\n",
       "close_UGLD_RU      1190\n",
       "volume_VLTO_USA    1150\n",
       "close_VLTO_USA     1150\n",
       "volume_PRFN_RU      993\n",
       "close_PRFN_RU       993\n",
       "close_UWGN_RU       651\n",
       "volume_UWGN_RU      649\n",
       "volume_CNM_USA      601\n",
       "close_CNM_USA       601\n",
       "close_SGZH_RU       557\n",
       "volume_SGZH_RU      537\n",
       "volume_SYM_USA      507\n",
       "close_SYM_USA       507\n",
       "dtype: int64"
      ]
     },
     "execution_count": 47,
     "metadata": {},
     "output_type": "execute_result"
    }
   ],
   "source": [
    "ig_exceptions = list(industrial_goods.isna().sum()[industrial_goods.isna().sum() < 500].index)\n",
    "industrial_goods_1 = industrial_goods.loc[:, ~industrial_goods.columns.isin(ig_exceptions)]\n",
    "industrial_goods_1.isna().sum().sort_values(ascending=False)"
   ]
  },
  {
   "cell_type": "code",
   "execution_count": 48,
   "id": "3b358421",
   "metadata": {},
   "outputs": [],
   "source": [
    "ig_many_nans_1 = list(industrial_goods_1.isna().sum().sort_values(ascending=False).index)"
   ]
  },
  {
   "cell_type": "code",
   "execution_count": 49,
   "id": "08ddf81b",
   "metadata": {},
   "outputs": [
    {
     "data": {
      "text/plain": [
       "volume_CARR_USA    263\n",
       "close_CARR_USA     263\n",
       "volume_OTIS_USA    263\n",
       "close_OTIS_USA     263\n",
       "volume_GFL_USA     251\n",
       "close_GFL_USA      251\n",
       "dtype: int64"
      ]
     },
     "execution_count": 49,
     "metadata": {},
     "output_type": "execute_result"
    }
   ],
   "source": [
    "ig_exceptions_1 = list(industrial_goods.isna().sum()[(industrial_goods.isna().sum() > 500) | (industrial_goods.isna().sum() < 150)].index)\n",
    "industrial_goods_2 = industrial_goods.loc[:, ~industrial_goods.columns.isin(ig_exceptions_1)]\n",
    "industrial_goods_2.isna().sum().sort_values(ascending=False).drop('Interbank credit market rates')"
   ]
  },
  {
   "cell_type": "code",
   "execution_count": 50,
   "id": "ece8e15b",
   "metadata": {},
   "outputs": [],
   "source": [
    "ig_many_nans_2 = list(industrial_goods_2.isna().sum().sort_values(ascending=False).drop('Interbank credit market rates').index)"
   ]
  },
  {
   "cell_type": "markdown",
   "id": "16a370cc",
   "metadata": {},
   "source": [
    "**Intermediate Conclusion:** Did we decide to retain any stocks?\n",
    "\n",
    "For two stocks (`PRFN_RU` and `UWGN_RU`), the reason for the missing data differs from the others: they began trading around 2019 or much earlier, but the data was parsed for a shorter time period. Since our parsers are correctly implemented and there are already many stocks to research, we decided to disregard this case, assuming the reason is the late appearance of data on `moex/fmp`.\n",
    "\n",
    "**Conclusion:** we eliminate data on 10 stocks (`UGLD`, `VLTO`, `PRFN`, `UWGN`, `CNM`, `SGZH`, `SYM`, `CARR`, `OTIS`, `GFL`)."
   ]
  },
  {
   "cell_type": "code",
   "execution_count": 51,
   "id": "2795340d",
   "metadata": {},
   "outputs": [],
   "source": [
    "all_columns_to_drop_in_ig = ig_many_nans_1 + ig_many_nans_2\n",
    "industrial_goods.drop(all_columns_to_drop_in_ig, axis=1, inplace=True)"
   ]
  },
  {
   "cell_type": "markdown",
   "id": "4863be16",
   "metadata": {},
   "source": [
    "## Renewable energy"
   ]
  },
  {
   "cell_type": "code",
   "execution_count": 52,
   "id": "2a321ac1",
   "metadata": {},
   "outputs": [
    {
     "data": {
      "text/html": [
       "<div>\n",
       "<style scoped>\n",
       "    .dataframe tbody tr th:only-of-type {\n",
       "        vertical-align: middle;\n",
       "    }\n",
       "\n",
       "    .dataframe tbody tr th {\n",
       "        vertical-align: top;\n",
       "    }\n",
       "\n",
       "    .dataframe thead th {\n",
       "        text-align: right;\n",
       "    }\n",
       "</style>\n",
       "<table border=\"1\" class=\"dataframe\">\n",
       "  <thead>\n",
       "    <tr style=\"text-align: right;\">\n",
       "      <th></th>\n",
       "      <th>volume_UPRO_RU</th>\n",
       "      <th>close_UPRO_RU</th>\n",
       "      <th>volume_AMTX_USA</th>\n",
       "      <th>close_AMTX_USA</th>\n",
       "      <th>volume_CEG_USA</th>\n",
       "      <th>close_CEG_USA</th>\n",
       "      <th>volume_TPIC_USA</th>\n",
       "      <th>close_TPIC_USA</th>\n",
       "      <th>volume_NXT_USA</th>\n",
       "      <th>close_NXT_USA</th>\n",
       "      <th>...</th>\n",
       "      <th>gold_rates</th>\n",
       "      <th>silver_rates</th>\n",
       "      <th>platinum_rates</th>\n",
       "      <th>palladium_rates</th>\n",
       "      <th>is_workday</th>\n",
       "      <th>day_of_week</th>\n",
       "      <th>gap_hl_S&amp;P500</th>\n",
       "      <th>gap_co_S&amp;P500</th>\n",
       "      <th>gap_hl_IMOEX</th>\n",
       "      <th>gap_co_IMOEX</th>\n",
       "    </tr>\n",
       "    <tr>\n",
       "      <th>date</th>\n",
       "      <th></th>\n",
       "      <th></th>\n",
       "      <th></th>\n",
       "      <th></th>\n",
       "      <th></th>\n",
       "      <th></th>\n",
       "      <th></th>\n",
       "      <th></th>\n",
       "      <th></th>\n",
       "      <th></th>\n",
       "      <th></th>\n",
       "      <th></th>\n",
       "      <th></th>\n",
       "      <th></th>\n",
       "      <th></th>\n",
       "      <th></th>\n",
       "      <th></th>\n",
       "      <th></th>\n",
       "      <th></th>\n",
       "      <th></th>\n",
       "      <th></th>\n",
       "    </tr>\n",
       "  </thead>\n",
       "  <tbody>\n",
       "    <tr>\n",
       "      <th>2019-05-09</th>\n",
       "      <td>NaN</td>\n",
       "      <td>NaN</td>\n",
       "      <td>182000.0</td>\n",
       "      <td>1.13</td>\n",
       "      <td>NaN</td>\n",
       "      <td>NaN</td>\n",
       "      <td>808169.0</td>\n",
       "      <td>24.52</td>\n",
       "      <td>NaN</td>\n",
       "      <td>NaN</td>\n",
       "      <td>...</td>\n",
       "      <td>3290.00</td>\n",
       "      <td>41.27</td>\n",
       "      <td>2069.61</td>\n",
       "      <td>3303.26</td>\n",
       "      <td>False</td>\n",
       "      <td>Thursday</td>\n",
       "      <td>4.03</td>\n",
       "      <td>1.43</td>\n",
       "      <td>NaN</td>\n",
       "      <td>NaN</td>\n",
       "    </tr>\n",
       "    <tr>\n",
       "      <th>2019-05-10</th>\n",
       "      <td>10250000.0</td>\n",
       "      <td>2.631</td>\n",
       "      <td>142100.0</td>\n",
       "      <td>1.11</td>\n",
       "      <td>NaN</td>\n",
       "      <td>NaN</td>\n",
       "      <td>589916.0</td>\n",
       "      <td>24.37</td>\n",
       "      <td>NaN</td>\n",
       "      <td>NaN</td>\n",
       "      <td>...</td>\n",
       "      <td>3156.00</td>\n",
       "      <td>36.81</td>\n",
       "      <td>1848.23</td>\n",
       "      <td>3472.75</td>\n",
       "      <td>False</td>\n",
       "      <td>Friday</td>\n",
       "      <td>6.64</td>\n",
       "      <td>2.48</td>\n",
       "      <td>29.17</td>\n",
       "      <td>-23.29</td>\n",
       "    </tr>\n",
       "    <tr>\n",
       "      <th>2019-05-13</th>\n",
       "      <td>17350000.0</td>\n",
       "      <td>2.641</td>\n",
       "      <td>121000.0</td>\n",
       "      <td>1.08</td>\n",
       "      <td>NaN</td>\n",
       "      <td>NaN</td>\n",
       "      <td>621285.0</td>\n",
       "      <td>23.11</td>\n",
       "      <td>NaN</td>\n",
       "      <td>NaN</td>\n",
       "      <td>...</td>\n",
       "      <td>3156.00</td>\n",
       "      <td>36.81</td>\n",
       "      <td>1848.23</td>\n",
       "      <td>3472.75</td>\n",
       "      <td>False</td>\n",
       "      <td>Monday</td>\n",
       "      <td>3.56</td>\n",
       "      <td>-1.56</td>\n",
       "      <td>25.07</td>\n",
       "      <td>-3.36</td>\n",
       "    </tr>\n",
       "    <tr>\n",
       "      <th>2019-05-14</th>\n",
       "      <td>25134000.0</td>\n",
       "      <td>2.640</td>\n",
       "      <td>121800.0</td>\n",
       "      <td>1.16</td>\n",
       "      <td>NaN</td>\n",
       "      <td>NaN</td>\n",
       "      <td>767031.0</td>\n",
       "      <td>22.01</td>\n",
       "      <td>NaN</td>\n",
       "      <td>NaN</td>\n",
       "      <td>...</td>\n",
       "      <td>2700.50</td>\n",
       "      <td>30.86</td>\n",
       "      <td>1795.49</td>\n",
       "      <td>2807.96</td>\n",
       "      <td>False</td>\n",
       "      <td>Tuesday</td>\n",
       "      <td>3.25</td>\n",
       "      <td>1.41</td>\n",
       "      <td>57.99</td>\n",
       "      <td>53.40</td>\n",
       "    </tr>\n",
       "    <tr>\n",
       "      <th>2019-05-15</th>\n",
       "      <td>35968000.0</td>\n",
       "      <td>2.580</td>\n",
       "      <td>124000.0</td>\n",
       "      <td>1.19</td>\n",
       "      <td>NaN</td>\n",
       "      <td>NaN</td>\n",
       "      <td>523199.0</td>\n",
       "      <td>22.54</td>\n",
       "      <td>NaN</td>\n",
       "      <td>NaN</td>\n",
       "      <td>...</td>\n",
       "      <td>2724.24</td>\n",
       "      <td>30.98</td>\n",
       "      <td>1795.03</td>\n",
       "      <td>2792.26</td>\n",
       "      <td>False</td>\n",
       "      <td>Wednesday</td>\n",
       "      <td>4.41</td>\n",
       "      <td>3.47</td>\n",
       "      <td>27.39</td>\n",
       "      <td>-14.84</td>\n",
       "    </tr>\n",
       "  </tbody>\n",
       "</table>\n",
       "<p>5 rows × 130 columns</p>\n",
       "</div>"
      ],
      "text/plain": [
       "            volume_UPRO_RU  close_UPRO_RU  volume_AMTX_USA  close_AMTX_USA  \\\n",
       "date                                                                         \n",
       "2019-05-09             NaN            NaN         182000.0            1.13   \n",
       "2019-05-10      10250000.0          2.631         142100.0            1.11   \n",
       "2019-05-13      17350000.0          2.641         121000.0            1.08   \n",
       "2019-05-14      25134000.0          2.640         121800.0            1.16   \n",
       "2019-05-15      35968000.0          2.580         124000.0            1.19   \n",
       "\n",
       "            volume_CEG_USA  close_CEG_USA  volume_TPIC_USA  close_TPIC_USA  \\\n",
       "date                                                                         \n",
       "2019-05-09             NaN            NaN         808169.0           24.52   \n",
       "2019-05-10             NaN            NaN         589916.0           24.37   \n",
       "2019-05-13             NaN            NaN         621285.0           23.11   \n",
       "2019-05-14             NaN            NaN         767031.0           22.01   \n",
       "2019-05-15             NaN            NaN         523199.0           22.54   \n",
       "\n",
       "            volume_NXT_USA  close_NXT_USA  ...  gold_rates  silver_rates  \\\n",
       "date                                       ...                             \n",
       "2019-05-09             NaN            NaN  ...     3290.00         41.27   \n",
       "2019-05-10             NaN            NaN  ...     3156.00         36.81   \n",
       "2019-05-13             NaN            NaN  ...     3156.00         36.81   \n",
       "2019-05-14             NaN            NaN  ...     2700.50         30.86   \n",
       "2019-05-15             NaN            NaN  ...     2724.24         30.98   \n",
       "\n",
       "            platinum_rates  palladium_rates  is_workday  day_of_week  \\\n",
       "date                                                                   \n",
       "2019-05-09         2069.61          3303.26       False     Thursday   \n",
       "2019-05-10         1848.23          3472.75       False       Friday   \n",
       "2019-05-13         1848.23          3472.75       False       Monday   \n",
       "2019-05-14         1795.49          2807.96       False      Tuesday   \n",
       "2019-05-15         1795.03          2792.26       False    Wednesday   \n",
       "\n",
       "            gap_hl_S&P500  gap_co_S&P500  gap_hl_IMOEX  gap_co_IMOEX  \n",
       "date                                                                  \n",
       "2019-05-09           4.03           1.43           NaN           NaN  \n",
       "2019-05-10           6.64           2.48         29.17        -23.29  \n",
       "2019-05-13           3.56          -1.56         25.07         -3.36  \n",
       "2019-05-14           3.25           1.41         57.99         53.40  \n",
       "2019-05-15           4.41           3.47         27.39        -14.84  \n",
       "\n",
       "[5 rows x 130 columns]"
      ]
     },
     "execution_count": 52,
     "metadata": {},
     "output_type": "execute_result"
    }
   ],
   "source": [
    "renewable_energy.head()"
   ]
  },
  {
   "cell_type": "code",
   "execution_count": 53,
   "id": "2f557454",
   "metadata": {},
   "outputs": [
    {
     "data": {
      "text/plain": [
       "volume_GEV_USA     1275\n",
       "close_GEV_USA      1275\n",
       "volume_SMXT_USA    1252\n",
       "close_SMXT_USA     1252\n",
       "close_VSTE_USA     1208\n",
       "volume_VSTE_USA    1208\n",
       "volume_NXT_USA     1024\n",
       "close_NXT_USA      1024\n",
       "close_ENLT_USA      998\n",
       "volume_ENLT_USA     998\n",
       "volume_CEG_USA      726\n",
       "close_CEG_USA       726\n",
       "volume_ZEO_USA      704\n",
       "close_ZEO_USA       704\n",
       "volume_IMPP_USA     696\n",
       "close_IMPP_USA      696\n",
       "close_FLNC_USA      670\n",
       "volume_FLNC_USA     670\n",
       "dtype: int64"
      ]
     },
     "execution_count": 53,
     "metadata": {},
     "output_type": "execute_result"
    }
   ],
   "source": [
    "re_exceptions = list(renewable_energy.isna().sum()[renewable_energy.isna().sum() < 500].index)\n",
    "renewable_energy_1 = renewable_energy.loc[:, ~renewable_energy.columns.isin(re_exceptions)]\n",
    "renewable_energy_1.isna().sum().sort_values(ascending=False)"
   ]
  },
  {
   "cell_type": "code",
   "execution_count": 54,
   "id": "5353f18b",
   "metadata": {},
   "outputs": [],
   "source": [
    "re_many_nans_1 = list(renewable_energy_1.isna().sum().sort_values(ascending=False).index)"
   ]
  },
  {
   "cell_type": "code",
   "execution_count": 55,
   "id": "3bd4434a",
   "metadata": {},
   "outputs": [
    {
     "data": {
      "text/plain": [
       "volume_RNW_USA     482\n",
       "close_RNW_USA      482\n",
       "volume_SHLS_USA    479\n",
       "close_SHLS_USA     479\n",
       "volume_ARRY_USA    409\n",
       "close_ARRY_USA     409\n",
       "volume_MAXN_USA    374\n",
       "close_MAXN_USA     374\n",
       "close_ENPG_RU      259\n",
       "volume_ENPG_RU     239\n",
       "dtype: int64"
      ]
     },
     "execution_count": 55,
     "metadata": {},
     "output_type": "execute_result"
    }
   ],
   "source": [
    "re_exceptions_1 = list(renewable_energy.isna().sum()[(renewable_energy.isna().sum() > 500) | (renewable_energy.isna().sum() < 150)].index)\n",
    "renewable_energy_2 = renewable_energy.loc[:, ~renewable_energy.columns.isin(re_exceptions_1)]\n",
    "renewable_energy_2.isna().sum().sort_values(ascending=False).drop('Interbank credit market rates')"
   ]
  },
  {
   "cell_type": "code",
   "execution_count": 56,
   "id": "06de22b5",
   "metadata": {},
   "outputs": [],
   "source": [
    "re_many_nans_2 = list(renewable_energy_2.isna().sum().sort_values(ascending=False).drop('Interbank credit market rates').index)"
   ]
  },
  {
   "cell_type": "markdown",
   "id": "b603402f",
   "metadata": {},
   "source": [
    "**Intermediate Conclusion:** Did we decide to retain any stocks?\n",
    "\n",
    "For two stocks (`NXT_USA` and `MPP_USA`), the reason for the missing data, like that for `industrial goods`, differs from the others. Our decision remains unchanged.\n",
    "\n",
    "**Conclusion:** we eliminate data on 14 stocks (`GEV`, `SMXT`, `VSTE`, `NXT`, `ENLT`, `CEG`, `ZEO`, `MPP`, `FLNC`, `RNW`, `SHLS`, `ARRY`, `MAXN`, `ENPG`)."
   ]
  },
  {
   "cell_type": "code",
   "execution_count": 57,
   "id": "5611fa3e",
   "metadata": {},
   "outputs": [],
   "source": [
    "all_columns_to_drop_in_re = re_many_nans_1 + re_many_nans_2\n",
    "renewable_energy.drop(all_columns_to_drop_in_re, axis=1, inplace=True)"
   ]
  },
  {
   "cell_type": "markdown",
   "id": "9e75e574",
   "metadata": {},
   "source": [
    "## Healthcare services"
   ]
  },
  {
   "cell_type": "code",
   "execution_count": 58,
   "id": "10c15954",
   "metadata": {},
   "outputs": [
    {
     "data": {
      "text/html": [
       "<div>\n",
       "<style scoped>\n",
       "    .dataframe tbody tr th:only-of-type {\n",
       "        vertical-align: middle;\n",
       "    }\n",
       "\n",
       "    .dataframe tbody tr th {\n",
       "        vertical-align: top;\n",
       "    }\n",
       "\n",
       "    .dataframe thead th {\n",
       "        text-align: right;\n",
       "    }\n",
       "</style>\n",
       "<table border=\"1\" class=\"dataframe\">\n",
       "  <thead>\n",
       "    <tr style=\"text-align: right;\">\n",
       "      <th></th>\n",
       "      <th>volume_DHR_USA</th>\n",
       "      <th>close_DHR_USA</th>\n",
       "      <th>volume_CHE_USA</th>\n",
       "      <th>close_CHE_USA</th>\n",
       "      <th>volume_COR_USA</th>\n",
       "      <th>close_COR_USA</th>\n",
       "      <th>volume_AMGN_USA</th>\n",
       "      <th>close_AMGN_USA</th>\n",
       "      <th>volume_BIO_USA</th>\n",
       "      <th>close_BIO_USA</th>\n",
       "      <th>...</th>\n",
       "      <th>gold_rates</th>\n",
       "      <th>silver_rates</th>\n",
       "      <th>platinum_rates</th>\n",
       "      <th>palladium_rates</th>\n",
       "      <th>is_workday</th>\n",
       "      <th>day_of_week</th>\n",
       "      <th>gap_hl_S&amp;P500</th>\n",
       "      <th>gap_co_S&amp;P500</th>\n",
       "      <th>gap_hl_IMOEX</th>\n",
       "      <th>gap_co_IMOEX</th>\n",
       "    </tr>\n",
       "    <tr>\n",
       "      <th>date</th>\n",
       "      <th></th>\n",
       "      <th></th>\n",
       "      <th></th>\n",
       "      <th></th>\n",
       "      <th></th>\n",
       "      <th></th>\n",
       "      <th></th>\n",
       "      <th></th>\n",
       "      <th></th>\n",
       "      <th></th>\n",
       "      <th></th>\n",
       "      <th></th>\n",
       "      <th></th>\n",
       "      <th></th>\n",
       "      <th></th>\n",
       "      <th></th>\n",
       "      <th></th>\n",
       "      <th></th>\n",
       "      <th></th>\n",
       "      <th></th>\n",
       "      <th></th>\n",
       "    </tr>\n",
       "  </thead>\n",
       "  <tbody>\n",
       "    <tr>\n",
       "      <th>2019-05-09</th>\n",
       "      <td>2464934.0</td>\n",
       "      <td>116.42</td>\n",
       "      <td>96300.0</td>\n",
       "      <td>332.55</td>\n",
       "      <td>1774000.0</td>\n",
       "      <td>79.18</td>\n",
       "      <td>2854400.0</td>\n",
       "      <td>172.87</td>\n",
       "      <td>411176.0</td>\n",
       "      <td>309.28</td>\n",
       "      <td>...</td>\n",
       "      <td>3290.00</td>\n",
       "      <td>41.27</td>\n",
       "      <td>2069.61</td>\n",
       "      <td>3303.26</td>\n",
       "      <td>False</td>\n",
       "      <td>Thursday</td>\n",
       "      <td>4.03</td>\n",
       "      <td>1.43</td>\n",
       "      <td>NaN</td>\n",
       "      <td>NaN</td>\n",
       "    </tr>\n",
       "    <tr>\n",
       "      <th>2019-05-10</th>\n",
       "      <td>1791091.0</td>\n",
       "      <td>116.72</td>\n",
       "      <td>127100.0</td>\n",
       "      <td>334.63</td>\n",
       "      <td>1336100.0</td>\n",
       "      <td>77.47</td>\n",
       "      <td>2942300.0</td>\n",
       "      <td>171.85</td>\n",
       "      <td>395472.0</td>\n",
       "      <td>311.10</td>\n",
       "      <td>...</td>\n",
       "      <td>3156.00</td>\n",
       "      <td>36.81</td>\n",
       "      <td>1848.23</td>\n",
       "      <td>3472.75</td>\n",
       "      <td>False</td>\n",
       "      <td>Friday</td>\n",
       "      <td>6.64</td>\n",
       "      <td>2.48</td>\n",
       "      <td>29.17</td>\n",
       "      <td>-23.29</td>\n",
       "    </tr>\n",
       "    <tr>\n",
       "      <th>2019-05-13</th>\n",
       "      <td>2621471.0</td>\n",
       "      <td>114.75</td>\n",
       "      <td>171000.0</td>\n",
       "      <td>331.89</td>\n",
       "      <td>1087000.0</td>\n",
       "      <td>75.68</td>\n",
       "      <td>3371800.0</td>\n",
       "      <td>167.60</td>\n",
       "      <td>281162.0</td>\n",
       "      <td>296.28</td>\n",
       "      <td>...</td>\n",
       "      <td>3156.00</td>\n",
       "      <td>36.81</td>\n",
       "      <td>1848.23</td>\n",
       "      <td>3472.75</td>\n",
       "      <td>False</td>\n",
       "      <td>Monday</td>\n",
       "      <td>3.56</td>\n",
       "      <td>-1.56</td>\n",
       "      <td>25.07</td>\n",
       "      <td>-3.36</td>\n",
       "    </tr>\n",
       "    <tr>\n",
       "      <th>2019-05-14</th>\n",
       "      <td>1984989.0</td>\n",
       "      <td>115.90</td>\n",
       "      <td>117700.0</td>\n",
       "      <td>329.33</td>\n",
       "      <td>1605100.0</td>\n",
       "      <td>76.69</td>\n",
       "      <td>2525300.0</td>\n",
       "      <td>167.81</td>\n",
       "      <td>274589.0</td>\n",
       "      <td>291.97</td>\n",
       "      <td>...</td>\n",
       "      <td>2700.50</td>\n",
       "      <td>30.86</td>\n",
       "      <td>1795.49</td>\n",
       "      <td>2807.96</td>\n",
       "      <td>False</td>\n",
       "      <td>Tuesday</td>\n",
       "      <td>3.25</td>\n",
       "      <td>1.41</td>\n",
       "      <td>57.99</td>\n",
       "      <td>53.40</td>\n",
       "    </tr>\n",
       "    <tr>\n",
       "      <th>2019-05-15</th>\n",
       "      <td>1860640.0</td>\n",
       "      <td>116.16</td>\n",
       "      <td>58300.0</td>\n",
       "      <td>332.69</td>\n",
       "      <td>1333300.0</td>\n",
       "      <td>77.86</td>\n",
       "      <td>2860200.0</td>\n",
       "      <td>169.87</td>\n",
       "      <td>182146.0</td>\n",
       "      <td>294.35</td>\n",
       "      <td>...</td>\n",
       "      <td>2724.24</td>\n",
       "      <td>30.98</td>\n",
       "      <td>1795.03</td>\n",
       "      <td>2792.26</td>\n",
       "      <td>False</td>\n",
       "      <td>Wednesday</td>\n",
       "      <td>4.41</td>\n",
       "      <td>3.47</td>\n",
       "      <td>27.39</td>\n",
       "      <td>-14.84</td>\n",
       "    </tr>\n",
       "  </tbody>\n",
       "</table>\n",
       "<p>5 rows × 258 columns</p>\n",
       "</div>"
      ],
      "text/plain": [
       "            volume_DHR_USA  close_DHR_USA  volume_CHE_USA  close_CHE_USA  \\\n",
       "date                                                                       \n",
       "2019-05-09       2464934.0         116.42         96300.0         332.55   \n",
       "2019-05-10       1791091.0         116.72        127100.0         334.63   \n",
       "2019-05-13       2621471.0         114.75        171000.0         331.89   \n",
       "2019-05-14       1984989.0         115.90        117700.0         329.33   \n",
       "2019-05-15       1860640.0         116.16         58300.0         332.69   \n",
       "\n",
       "            volume_COR_USA  close_COR_USA  volume_AMGN_USA  close_AMGN_USA  \\\n",
       "date                                                                         \n",
       "2019-05-09       1774000.0          79.18        2854400.0          172.87   \n",
       "2019-05-10       1336100.0          77.47        2942300.0          171.85   \n",
       "2019-05-13       1087000.0          75.68        3371800.0          167.60   \n",
       "2019-05-14       1605100.0          76.69        2525300.0          167.81   \n",
       "2019-05-15       1333300.0          77.86        2860200.0          169.87   \n",
       "\n",
       "            volume_BIO_USA  close_BIO_USA  ...  gold_rates  silver_rates  \\\n",
       "date                                       ...                             \n",
       "2019-05-09        411176.0         309.28  ...     3290.00         41.27   \n",
       "2019-05-10        395472.0         311.10  ...     3156.00         36.81   \n",
       "2019-05-13        281162.0         296.28  ...     3156.00         36.81   \n",
       "2019-05-14        274589.0         291.97  ...     2700.50         30.86   \n",
       "2019-05-15        182146.0         294.35  ...     2724.24         30.98   \n",
       "\n",
       "            platinum_rates  palladium_rates  is_workday  day_of_week  \\\n",
       "date                                                                   \n",
       "2019-05-09         2069.61          3303.26       False     Thursday   \n",
       "2019-05-10         1848.23          3472.75       False       Friday   \n",
       "2019-05-13         1848.23          3472.75       False       Monday   \n",
       "2019-05-14         1795.49          2807.96       False      Tuesday   \n",
       "2019-05-15         1795.03          2792.26       False    Wednesday   \n",
       "\n",
       "            gap_hl_S&P500  gap_co_S&P500  gap_hl_IMOEX  gap_co_IMOEX  \n",
       "date                                                                  \n",
       "2019-05-09           4.03           1.43           NaN           NaN  \n",
       "2019-05-10           6.64           2.48         29.17        -23.29  \n",
       "2019-05-13           3.56          -1.56         25.07         -3.36  \n",
       "2019-05-14           3.25           1.41         57.99         53.40  \n",
       "2019-05-15           4.41           3.47         27.39        -14.84  \n",
       "\n",
       "[5 rows x 258 columns]"
      ]
     },
     "execution_count": 58,
     "metadata": {},
     "output_type": "execute_result"
    }
   ],
   "source": [
    "healthcare_services.head()"
   ]
  },
  {
   "cell_type": "code",
   "execution_count": 59,
   "id": "98f97283",
   "metadata": {},
   "outputs": [
    {
     "data": {
      "text/plain": [
       "volume_ABIO_RU     1122\n",
       "close_ABIO_RU      1122\n",
       "close_GECO_RU      1043\n",
       "volume_GECO_RU     1042\n",
       "volume_GEHC_USA     955\n",
       "close_GEHC_USA      955\n",
       "close_GEMC_RU       640\n",
       "volume_STVN_USA     597\n",
       "close_STVN_USA      597\n",
       "volume_GEMC_RU      592\n",
       "dtype: int64"
      ]
     },
     "execution_count": 59,
     "metadata": {},
     "output_type": "execute_result"
    }
   ],
   "source": [
    "hs_exceptions = list(healthcare_services.isna().sum()[healthcare_services.isna().sum() < 500].index)\n",
    "healthcare_services_1 = healthcare_services.loc[:, ~healthcare_services.columns.isin(hs_exceptions)]\n",
    "healthcare_services_1.isna().sum().sort_values(ascending=False)"
   ]
  },
  {
   "cell_type": "code",
   "execution_count": 60,
   "id": "c6c15281",
   "metadata": {},
   "outputs": [],
   "source": [
    "hs_many_nans_1 = list(healthcare_services_1.isna().sum().sort_values(ascending=False).index)"
   ]
  },
  {
   "cell_type": "code",
   "execution_count": 61,
   "id": "9ab504f3",
   "metadata": {},
   "outputs": [
    {
     "data": {
      "text/plain": [
       "volume_ROIV_USA    446\n",
       "close_ROIV_USA     446\n",
       "close_MDMG_RU      442\n",
       "volume_MDMG_RU     420\n",
       "volume_CERE_USA    355\n",
       "close_CERE_USA     355\n",
       "volume_RPRX_USA    324\n",
       "close_RPRX_USA     324\n",
       "volume_PCVX_USA    322\n",
       "close_PCVX_USA     322\n",
       "dtype: int64"
      ]
     },
     "execution_count": 61,
     "metadata": {},
     "output_type": "execute_result"
    }
   ],
   "source": [
    "hs_exceptions_1 = list(healthcare_services.isna().sum()[(healthcare_services.isna().sum() > 500) | (healthcare_services.isna().sum() < 150)].index)\n",
    "healthcare_services_2 = healthcare_services.loc[:, ~healthcare_services.columns.isin(hs_exceptions_1)]\n",
    "healthcare_services_2.isna().sum().sort_values(ascending=False).drop('Interbank credit market rates')"
   ]
  },
  {
   "cell_type": "code",
   "execution_count": 62,
   "id": "6ee0d4cf",
   "metadata": {},
   "outputs": [],
   "source": [
    "hs_many_nans_2 = list(healthcare_services_2.isna().sum().sort_values(ascending=False).drop('Interbank credit market rates').index)"
   ]
  },
  {
   "cell_type": "markdown",
   "id": "47c1b683",
   "metadata": {},
   "source": [
    "**Intermediate Conclusion:** Did we decide to retain any stocks?\n",
    "\n",
    "For one stock (`ABIO_RU`), the reason for the missing data, like that in previous sectors, differs from the others. Our decision remains unchanged.\n",
    "\n",
    "**Conclusion:** we eliminate data on 10 stocks (`ABIO`, `GECO`, `GEHC`, `STVN`, `GEMC`, `ROIV`, `MDMG`, `CERE`, `RPRX`, `PCVX`)."
   ]
  },
  {
   "cell_type": "code",
   "execution_count": 63,
   "id": "544857c4",
   "metadata": {},
   "outputs": [],
   "source": [
    "all_columns_to_drop_in_hs = hs_many_nans_1 + hs_many_nans_2\n",
    "healthcare_services.drop(all_columns_to_drop_in_hs, axis=1, inplace=True)"
   ]
  },
  {
   "cell_type": "markdown",
   "id": "b55a0851-ac6c-4468-9792-252eae570dcc",
   "metadata": {},
   "source": [
    "# Step №5. ARIMA model"
   ]
  },
  {
   "cell_type": "markdown",
   "id": "fe7a79f9-98d1-4c6f-ad42-a6c406da9b77",
   "metadata": {},
   "source": [
    "Interpolation with ARIMA consists of 4 steps:\n",
    "1. For each column algorithm finds the first date that contains no missing values\n",
    "2. Each column is filled with simple interpolation: `.ffill()` method\n",
    "3. ARIMA is automatically fitted to each column\n",
    "4. Missing values are filled with ARIME predictions\n",
    "\n",
    "**NB!** Make sure indices of input DataFrame are dates sorted in ascending order."
   ]
  },
  {
   "cell_type": "code",
   "execution_count": 64,
   "id": "f2930dcd-a84d-4214-bf14-3fbbfce6595f",
   "metadata": {},
   "outputs": [],
   "source": [
    "def interpolate(series):\n",
    "    '''\n",
    "    series: pd.Series\n",
    "    '''\n",
    "    series_filled = series.fillna(method = 'ffill')\n",
    "    series_filled = series_filled.fillna(method = 'bfill')\n",
    "    model = auto_arima(series_filled, seasonal=True, \n",
    "                       stepwise=True, suppress_warnings=True, \n",
    "                       error_action=\"ignore\", trace=False)\n",
    "    model.fit(series_filled)\n",
    "    forecast = model.predict_in_sample()\n",
    "    interpolated_series = series.copy()\n",
    "    interpolated_series[series.isna()] = forecast[series.isna()]\n",
    "\n",
    "    return interpolated_series\n",
    "\n",
    "def find_first_date(series):\n",
    "    '''\n",
    "    series: pd.Series with dates as indices in ascending order\n",
    "\n",
    "    returns\n",
    "    Datetime - first data with no nans\n",
    "    '''\n",
    "    return series.index.values[~series.isnull()][0]\n",
    "\n",
    "def interpolate_df(df, column_list):\n",
    "    '''\n",
    "    Function finds the first date with no nans for all chosen columns\n",
    "    and interpolate time series since this date\n",
    "    \n",
    "    df: pd.DataFrame with dates as indices in ascending order\n",
    "    column_list: str[] - columns to interpolate\n",
    "\n",
    "    returns\n",
    "    pd.DataFrame\n",
    "    '''\n",
    "    first_date = max([find_first_date(df[col]) for col in column_list])\n",
    "    df = df[df.index >= first_date]\n",
    "    df.loc[:, column_list] = df[column_list].apply(lambda x: interpolate(x), axis=0)\n",
    "    \n",
    "    return df\n",
    "\n",
    "def process_df(df, path):\n",
    "    '''\n",
    "    Function finds the first date with no nans for all chosen columns\n",
    "    and interpolate time series since this date\n",
    "\n",
    "    df: pd.DataFrame\n",
    "    path: path to \\data\\{sector}\n",
    "\n",
    "    returni\n",
    "    pd.DataFrame\n",
    "    '''\n",
    "    ticker_names = os.listdir(path)\n",
    "    columns_names = list(set([col for col in df.columns for ticker_name in ticker_names if ticker_name[:-4] in col]))\n",
    "    columns_names += [col for col in df.columns if ('IMOEX' in col) or ('S&P500' in col)]\n",
    "    columns_names += ['m0_ru', 'm1_ru', 'm2_ru', 'broad_money_supply_ru']\n",
    "    columns_names += ['Cash national currency', 'Foreign currency in cash', \n",
    "                     'Deposits', 'Cash on brokerage accounts',\n",
    "                     'Debt securities', 'Quoted shares and units and shares of investment funds',\n",
    "                     'Loans from credit institutions']\n",
    "    \n",
    "    columns_names += [\n",
    "    \"Debt of the non-financial sector and households, total\",\n",
    "    \"Non-financial sector, total\",\n",
    "    \"Internal borrowings, non-financial sector\",\n",
    "    \"Credits\",\n",
    "    \"Debt securities in the residents portfolio\",\n",
    "    \"External borrowings, non-financial sector\",\n",
    "    \"Loans and borrowings received from non-residents\",\n",
    "    \"Debt securities in the portfolio of non-residents, including promissory notes\",\n",
    "    \"Households and NPOs, total\",\n",
    "    \"Internal borrowings, households\",\n",
    "    \"External borrowings, households\"\n",
    "]\n",
    "\n",
    "    return interpolate_df(df, columns_names)\n",
    "    "
   ]
  },
  {
   "cell_type": "code",
   "execution_count": 65,
   "id": "1cefca38-119c-4e0e-a69e-622fd8bfcbc0",
   "metadata": {},
   "outputs": [
    {
     "data": {
      "image/png": "[encoded data removed]",
      "text/plain": [
       "<Figure size 640x480 with 1 Axes>"
      ]
     },
     "metadata": {},
     "output_type": "display_data"
    }
   ],
   "source": [
    "# That's why it's important to exclude first dates with missing values \n",
    "series = fintech['close_ACGL_USA']\n",
    "interpolated = interpolate(series)\n",
    "\n",
    "plt.plot(series, label = 'y_true')\n",
    "plt.plot(interpolated, label = 'ARIMA interpolated', alpha = 0.7)\n",
    "plt.legend();"
   ]
  },
  {
   "cell_type": "code",
   "execution_count": 66,
   "id": "fa3f5fb6",
   "metadata": {},
   "outputs": [
    {
     "data": {
      "text/plain": [
       "11010"
      ]
     },
     "execution_count": 66,
     "metadata": {},
     "output_type": "execute_result"
    }
   ],
   "source": [
    "fintech.isna().sum().sum()"
   ]
  },
  {
   "cell_type": "code",
   "execution_count": null,
   "id": "d53056e5",
   "metadata": {},
   "outputs": [],
   "source": [
    "df = process_df(fintech, os.path.join(PATH, 'fintech'))\n",
    "df.to_csv('final_fintech.csv', encoding = 'utf-8')"
   ]
  }
 ],
 "metadata": {
  "kernelspec": {
   "display_name": "Python 3 (ipykernel)",
   "language": "python",
   "name": "python3"
  },
  "language_info": {
   "codemirror_mode": {
    "name": "ipython",
    "version": 3
   },
   "file_extension": ".py",
   "mimetype": "text/x-python",
   "name": "python",
   "nbconvert_exporter": "python",
   "pygments_lexer": "ipython3",
   "version": "3.11.4"
  }
 },
 "nbformat": 4,
 "nbformat_minor": 5
}
