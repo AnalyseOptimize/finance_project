{
 "cells": [
  {
   "cell_type": "code",
   "execution_count": null,
   "id": "5df577e8",
   "metadata": {},
   "outputs": [],
   "source": [
    "\"\"\"request_url = ('https://iss.moex.com/iss/engines/stock/'\n",
    "               'markets/shares/boards/TQBR/securities.json')\n",
    "arguments = {'securities.columns': ('SECID,'\n",
    "                                    'REGNUMBER,'\n",
    "                                    'LOTSIZE,'\n",
    "                                    'SHORTNAME')}\n",
    "with requests.Session() as session:\n",
    "    iss = apimoex.ISSClient(session, request_url, arguments)\n",
    "    data = iss.get()\n",
    "    df = pd.DataFrame(data['securities'])\n",
    "    df.set_index('SECID', inplace=True)\n",
    "    print(df)\"\"\""
   ]
  },
  {
   "cell_type": "code",
   "execution_count": null,
   "id": "f0a0bdca",
   "metadata": {},
   "outputs": [],
   "source": [
    "# !pip install apimoex\n",
    "# !pip install lxml"
   ]
  },
  {
   "cell_type": "code",
   "execution_count": 1,
   "id": "e243ceae-8bd9-49e3-80d3-34c61b982f81",
   "metadata": {},
   "outputs": [],
   "source": [
    "import pandas as pd\n",
    "from os import path\n",
    "\n",
    "import requests\n",
    "from bs4 import BeautifulSoup\n",
    "import datetime\n",
    "from datetime import datetime as extra_datetime\n",
    "import pathlib\n",
    "import apimoex\n",
    "import time\n",
    "import warnings\n",
    "import matplotlib.pyplot as plt\n",
    "import numpy as np\n",
    "\n",
    "from tqdm.notebook import tqdm\n",
    "\n",
    "warnings.filterwarnings('ignore')\n",
    "FMP_API_KEY_1 = \"uILltAaGY2ms0reL0RVtgtALlh2BbYH5\"\n",
    "FMP_API_KEY_2 = 'bPovzfDRx9s9Udj9p1yaVGmLaKNq3KXw'\n",
    "parent_dir = r\"/Users/andrewnizov/Desktop/АнДан/Проект\" # root for data "
   ]
  },
  {
   "cell_type": "markdown",
   "id": "dd39ac72-e52f-4240-9972-bed79141e5f7",
   "metadata": {},
   "source": [
    "### Парсинг котировок акций"
   ]
  },
  {
   "cell_type": "code",
   "execution_count": 2,
   "id": "4521541e-5ffd-478c-8e57-5b57c2be6e58",
   "metadata": {},
   "outputs": [],
   "source": [
    "# |sector|country|ticker|...|\n",
    "companies = pd.read_csv('companies_list.csv')"
   ]
  },
  {
   "cell_type": "code",
   "execution_count": 3,
   "id": "e2ff3613",
   "metadata": {},
   "outputs": [
    {
     "data": {
      "text/plain": [
       "(44, 5)"
      ]
     },
     "execution_count": 3,
     "metadata": {},
     "output_type": "execute_result"
    }
   ],
   "source": [
    "companies_ru = companies[companies.country == 'RU']\n",
    "companies_ru.shape"
   ]
  },
  {
   "cell_type": "code",
   "execution_count": 4,
   "id": "43f4f4cc",
   "metadata": {},
   "outputs": [
    {
     "data": {
      "text/plain": [
       "'2024-04-26'"
      ]
     },
     "execution_count": 4,
     "metadata": {},
     "output_type": "execute_result"
    }
   ],
   "source": [
    "today = str(datetime.date.today())\n",
    "today"
   ]
  },
  {
   "cell_type": "code",
   "execution_count": 5,
   "id": "3c8dde39-83b0-4fa2-a07e-7fdffffa698f",
   "metadata": {},
   "outputs": [],
   "source": [
    "def parse_tickers(companies, fmp_api_keys):\n",
    "    board = 'TQBR' # здесь важно поресерчить, чем отличаются\n",
    "    today = str(datetime.date.today())\n",
    "\n",
    "    \n",
    "    companies_ru = companies[companies.country == 'RU']\n",
    "    with requests.Session() as session:\n",
    "        for indx, row in tqdm(companies_ru.iterrows(), desc = 'Processing russian stock', total = companies_ru.shape[0]):\n",
    "            \n",
    "            # Получить историю торгов для указанной бумаги в указанном режиме торгов за указанный интервал дат.\n",
    "            # важно указать \"сессию интернет соединения\", тикер ценной бумаги и режим торгов (по умл - T+2)\n",
    "            # Результат: Список словарей, которые напрямую конвертируется в pandas.DataFrame.\n",
    "            data = apimoex.get_board_history(session, row.ticker, board=board)\n",
    "            \n",
    "            if data == []:\n",
    "                print('Empty set')\n",
    "            df = pd.DataFrame(data)\n",
    "\n",
    "            if row.sector == 'Renewable Energy':\n",
    "                df.to_csv(path.join(parent_dir, 'renewable_energy', f'{row.ticker}_RU.csv'))\n",
    "            elif row.sector == 'Healthcare':\n",
    "                df.to_csv(path.join(parent_dir, 'healthcare_services', f'{row.ticker}_RU.csv'))\n",
    "            elif row.sector == 'Financial Services':\n",
    "                df.to_csv(path.join(parent_dir, 'fintech', f'{row.ticker}_RU.csv'))\n",
    "            elif row.sector == 'Industrials':\n",
    "                df.to_csv(path.join(parent_dir, 'industrial_goods', f'{row.ticker}_RU.csv'))\n",
    "    \n",
    "    companies_usa = companies[companies.country == 'USA']\n",
    "    \n",
    "    def get_data(ticker, today):\n",
    "        for key in fmp_api_keys:\n",
    "            try:\n",
    "                link = f\"https://financialmodelingprep.com/api/v3/historical-chart/4hour/{ticker}?to={today}&apikey={key}\"\n",
    "                return pd.DataFrame(requests.get(link).json(), index=[0])\n",
    "            except requests.HTTPError as e:\n",
    "                print(f\"API key limit reached for {key}, switching keys.\")\n",
    "                continue\n",
    "            \n",
    "    for indx, row in tqdm(companies_usa.iterrows(), desc='Processing USA stock', total=companies_usa.shape[0]):\n",
    "        try:\n",
    "            df = get_data(row.ticker, today)\n",
    "        except ValueError as e:\n",
    "            print(e)\n",
    "            break\n",
    "            \n",
    "\n",
    "        if row.sector == 'Renewable Energy':\n",
    "            df.to_csv(path.join(parent_dir, 'renewable_energy', f'{row.ticker}_USA.csv'))\n",
    "        elif row.sector == 'Healthcare':\n",
    "            df.to_csv(path.join(parent_dir, 'healthcare_services', f'{row.ticker}_USA.csv'))\n",
    "        elif row.sector == 'Financial Services':\n",
    "            df.to_csv(path.join(parent_dir, 'fintech', f'{row.ticker}_USA.csv'))\n",
    "        elif row.sector == 'Industrials':\n",
    "            df.to_csv(path.join(parent_dir, 'industrial_goods', f'{row.ticker}_USA.csv'))\n",
    "            \n"
   ]
  },
  {
   "cell_type": "code",
   "execution_count": 6,
   "id": "a5f86ae0-2c69-47e9-a649-2d808ba8978e",
   "metadata": {},
   "outputs": [
    {
     "data": {
      "application/vnd.jupyter.widget-view+json": {
       "model_id": "4374ab70c692437aa8c41d2fd3df44f7",
       "version_major": 2,
       "version_minor": 0
      },
      "text/plain": [
       "Processing russian stock:   0%|          | 0/44 [00:00<?, ?it/s]"
      ]
     },
     "metadata": {},
     "output_type": "display_data"
    },
    {
     "data": {
      "application/vnd.jupyter.widget-view+json": {
       "model_id": "7008179e55fb4734988c1b183c525841",
       "version_major": 2,
       "version_minor": 0
      },
      "text/plain": [
       "Processing USA stock:   0%|          | 0/340 [00:00<?, ?it/s]"
      ]
     },
     "metadata": {},
     "output_type": "display_data"
    },
    {
     "name": "stdout",
     "output_type": "stream",
     "text": [
      "Length of values (207) does not match length of index (1)\n"
     ]
    }
   ],
   "source": [
    "FMP_API_KEYS = [FMP_API_KEY_1, FMP_API_KEY_2]\n",
    "parse_tickers(companies, FMP_API_KEYS)"
   ]
  },
  {
   "cell_type": "markdown",
   "id": "e33ebf0f",
   "metadata": {},
   "source": [
    "### Парсинг курса USD/RU"
   ]
  },
  {
   "cell_type": "code",
   "execution_count": null,
   "id": "9a9ca5a7",
   "metadata": {},
   "outputs": [],
   "source": [
    "def parse_usdrub():\n",
    "    '''\n",
    "    Функция нужна для того, чтобы спарсить курс доллара к рублю за исследуемый промежуток времени.\n",
    "    '''\n",
    "    # даты в формате ДД/ММ/ГГГГ\n",
    "    start_date = datetime.date(2010, 1, 1).strftime('%d/%m/%Y')\n",
    "    end_date = datetime.date.today().strftime('%d/%m/%Y')\n",
    "    \n",
    "    #создание URL для запроса\n",
    "    url = f'https://www.cbr.ru/scripts/XML_dynamic.asp?date_req1={start_date}&date_req2={end_date}&VAL_NM_RQ=R01235'\n",
    "    response_usd = requests.get(url)\n",
    "    \n",
    "    tree_usd_rate = BeautifulSoup(response_usd.content, 'html.parser')\n",
    "    \n",
    "    dates = []\n",
    "    usd_rates = []\n",
    "    \n",
    "    for line in tree_usd_rate.find_all('record'):\n",
    "        dates.append(extra_datetime.strptime(line.get('date'), '%d.%m.%Y').date().strftime('%d.%m.%Y'))\n",
    "        usd_rates.append(float(line.value.text.replace(',', '.')))\n",
    "    \n",
    "    usdrub = pd.DataFrame(data=usd_rates, index=pd.to_datetime(dates), columns=['usdrub'])\n",
    "    usdrub_final = usdrub.sort_index()\n",
    "    \n",
    "    usdrub_final.to_csv(path.join(parent_dir, 'usdrub_rates', 'data_usdrub.csv'))"
   ]
  },
  {
   "cell_type": "code",
   "execution_count": null,
   "id": "ccaac962",
   "metadata": {},
   "outputs": [],
   "source": [
    "parse_usdrub()"
   ]
  },
  {
   "cell_type": "markdown",
   "id": "90616035",
   "metadata": {},
   "source": [
    "### Парсинг курсов драгоценных металлов"
   ]
  },
  {
   "cell_type": "markdown",
   "id": "551c00b6",
   "metadata": {},
   "source": [
    "1 - золото\n",
    "2 - серебро\n",
    "3 - платина\n",
    "4 - палладий"
   ]
  },
  {
   "cell_type": "markdown",
   "id": "d04668dc",
   "metadata": {},
   "source": [
    "**Что надо сделать:** разделить курсы золота, серебра, платины и палладия\n",
    "\n",
    "**В чем проблема:** не получается обращать по .code, чтобы уметь определять, курс какого драгоценного металла перед нами"
   ]
  },
  {
   "cell_type": "code",
   "execution_count": null,
   "id": "d2e563c4",
   "metadata": {},
   "outputs": [],
   "source": [
    "def parse_precious_metals_rates():\n",
    "    '''\n",
    "    Функция нужна для того, чтобы спарсить курс золота, серебра, платины и палладия за исследуемый промежуток времени.\n",
    "    '''\n",
    "    # даты в формате ДД/ММ/ГГГГ\n",
    "    start_date = datetime.date(2010, 1, 1).strftime('%d/%m/%Y')\n",
    "    end_date = datetime.date.today().strftime('%d/%m/%Y')\n",
    "    \n",
    "    #создание URL для запроса\n",
    "    url_1 = f'https://www.cbr.ru/scripts/xml_metall.asp?date_req1={start_date}&date_req2={end_date}'\n",
    "    response_precious = requests.get(url_1)\n",
    "    \n",
    "    tree_precious_rate = BeautifulSoup(response_precious.content, 'html.parser')\n",
    "    \n",
    "    dates = []\n",
    "    gold_rates = []\n",
    "    silver_rates = []\n",
    "    platinum_rates = []\n",
    "    palladium_rates = []\n",
    "    \n",
    "    helpa = 1\n",
    "    for stat in tree_precious_rate.find_all('record'):\n",
    "        if helpa == 1:\n",
    "            gold_rates.append(float(stat.buy.text.replace(',', '.')))\n",
    "            dates.append(extra_datetime.strptime(stat.get('date'), '%d.%m.%Y').date().strftime('%d.%m.%Y'))\n",
    "        elif helpa == 2:\n",
    "            silver_rates.append(float(stat.buy.text.replace(',', '.')))\n",
    "        elif helpa == 3:\n",
    "            platinum_rates.append(float(stat.buy.text.replace(',', '.')))\n",
    "        else:\n",
    "            palladium_rates.append(float(stat.buy.text.replace(',', '.')))\n",
    "\n",
    "        if helpa == 4:\n",
    "            helpa = 0\n",
    "\n",
    "        helpa += 1\n",
    "\n",
    "    precious_metals = pd.DataFrame({'gold_rates': gold_rates, 'silver_rates': silver_rates, 'platinum_rates': platinum_rates, 'palladium_rates': palladium_rates}, index=pd.to_datetime(dates))\n",
    "    final_precious_metals = precious_metals.sort_index()\n",
    "    \n",
    "    return final_precious_metals\n",
    "    \n",
    "    '''final_precious_metals.to_csv(path.join(parent_dir, 'precious_metals', 'data_precious_metals.csv'))'''"
   ]
  },
  {
   "cell_type": "code",
   "execution_count": null,
   "id": "e0466897",
   "metadata": {},
   "outputs": [],
   "source": [
    "parse_precious_metals_rates()"
   ]
  },
  {
   "cell_type": "code",
   "execution_count": null,
   "id": "6a391a65",
   "metadata": {},
   "outputs": [],
   "source": [
    "gold_price = parse_precious_metals_rates()['gold_rates']\n",
    "silver_price = parse_precious_metals_rates()['silver_rates']\n",
    "platinum_price = parse_precious_metals_rates()['platinum_rates']\n",
    "palladium_price = parse_precious_metals_rates()['palladium_rates']\n",
    "x = gold_price.index"
   ]
  },
  {
   "cell_type": "code",
   "execution_count": null,
   "id": "1cfb7af3",
   "metadata": {},
   "outputs": [],
   "source": [
    "fig, ax = plt.subplots(figsize = (12, 6))\n",
    "plt.plot(x, palladium_price)\n",
    "plt.show()"
   ]
  },
  {
   "cell_type": "markdown",
   "id": "a4f51d41",
   "metadata": {},
   "source": [
    "### Парсинг календаря расчетных дней \n",
    "для бинарного признака (есть торги/нет)"
   ]
  },
  {
   "cell_type": "code",
   "execution_count": null,
   "id": "4e250fcd",
   "metadata": {},
   "outputs": [],
   "source": []
  },
  {
   "cell_type": "code",
   "execution_count": null,
   "id": "e6a3cc67",
   "metadata": {},
   "outputs": [],
   "source": []
  },
  {
   "cell_type": "code",
   "execution_count": null,
   "id": "9792b169",
   "metadata": {},
   "outputs": [],
   "source": []
  },
  {
   "cell_type": "markdown",
   "id": "fb2a5ca0-7616-4a2a-a663-574cfdc23759",
   "metadata": {
    "jp-MarkdownHeadingCollapsed": true
   },
   "source": [
    "## Парсер FMP"
   ]
  },
  {
   "cell_type": "code",
   "execution_count": null,
   "id": "d7fe3b73-16ce-477e-ba87-f1fa379f9132",
   "metadata": {},
   "outputs": [],
   "source": [
    "ticker = 'IMPP'\n",
    "date = str(datetime.date.today())\n",
    "APIKEY = \"uILltAaGY2ms0reL0RVtgtALlh2BbYH5\"\n",
    "\n",
    "link = f\"https://financialmodelingprep.com/api/v3/historical-chart/4hour/{ticker}?to={date}&apikey={APIKEY}\"\n",
    "response = requests.get(link)"
   ]
  },
  {
   "cell_type": "code",
   "execution_count": null,
   "id": "b4b13df1-4733-4b82-8ff2-a6b0b1bf7fdb",
   "metadata": {},
   "outputs": [],
   "source": [
    "pd.DataFrame(response.json(), index=[0]).head()"
   ]
  },
  {
   "cell_type": "code",
   "execution_count": null,
   "id": "a5e03a8c-0a0b-45c7-87b6-16ff8d2f0062",
   "metadata": {},
   "outputs": [],
   "source": []
  },
  {
   "cell_type": "code",
   "execution_count": null,
   "id": "2dfd2279",
   "metadata": {},
   "outputs": [],
   "source": [
    "'''    for indx, row in tqdm(companies_usa.iterrows(), desc = 'Processing USA stock', total = companies_usa.shape[0]):\n",
    "        try:\n",
    "            link = f\"https://financialmodelingprep.com/api/v3/historical-chart/4hour/{row.ticker}?to={today}&apikey={fmp_api_keys[0]}\"\n",
    "            df = pd.DataFrame(requests.get(link).json())\n",
    "        except ValueError:\n",
    "            link = f\"https://financialmodelingprep.com/api/v3/historical-chart/4hour/{row.ticker}?to={today}&apikey={fmp_api_keys[1]}\"\n",
    "            df = pd.DataFrame(requests.get(link).json())'''"
   ]
  }
 ],
 "metadata": {
  "kernelspec": {
   "display_name": "Python 3 (ipykernel)",
   "language": "python",
   "name": "python3"
  },
  "language_info": {
   "codemirror_mode": {
    "name": "ipython",
    "version": 3
   },
   "file_extension": ".py",
   "mimetype": "text/x-python",
   "name": "python",
   "nbconvert_exporter": "python",
   "pygments_lexer": "ipython3",
   "version": "3.11.4"
  }
 },
 "nbformat": 4,
 "nbformat_minor": 5
}
