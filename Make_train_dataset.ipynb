{
 "cells": [
  {
   "cell_type": "code",
   "execution_count": 52,
   "id": "0e9fd659-c086-4a80-ace0-d702f473d16b",
   "metadata": {},
   "outputs": [],
   "source": [
    "import pandas as pd\n",
    "import numpy as np\n",
    "import os\n",
    "\n",
    "#from skforecast.ForecasterAutoreg import ForecasterAutoregMultiSeries\n",
    "from sklearn.linear_model import LinearRegression\n",
    "from sklearn.metrics import mean_absolute_error, mean_squared_error \n",
    "from sklearn.preprocessing import StandardScaler \n",
    "\n",
    "\n",
    "PATH =  os.path.join(os.getcwd(), r'data\\final_datasets')\n",
    "SAVE_PATH = os.path.join(os.getcwd(), r'data\\train_datasets')"
   ]
  },
  {
   "cell_type": "code",
   "execution_count": 44,
   "id": "f1fc3e6c-3b61-4320-984d-533c12a82c6b",
   "metadata": {},
   "outputs": [],
   "source": [
    "def create_lagged_features(df, lag):\n",
    "    \"\"\"\n",
    "    Creates a dataframe with history for all variables except date\n",
    "    \n",
    "    Parameters:\n",
    "    df (pd.DataFrame): Initial dataframe with time series and date as column\n",
    "    lag (int): Number of lags in history.\n",
    "\n",
    "    Returns:\n",
    "    pd.DataFrame: New dataframe with history\n",
    "    \"\"\"\n",
    "    lagged_df = df.drop('date',axis = 1).copy()\n",
    "    \n",
    "    # Adding lags\n",
    "    for i in range(1, lag + 1):\n",
    "        shifted_df = df.shift(i)\n",
    "        shifted_df.columns = [f'{col}_lag{i}' for col in df.columns]\n",
    "        lagged_df = pd.concat([lagged_df, shifted_df], axis=1)\n",
    "    \n",
    "    # Adding data and dropping first nans\n",
    "    lagged_df = pd.concat([lagged_df, df['date']], axis = 1)\n",
    "    lagged_df.dropna(inplace=True)\n",
    "    \n",
    "    return lagged_df\n",
    "\n",
    "def make_split(df, test_size):\n",
    "    '''\n",
    "    Makes a time series split for hold-out validation\n",
    "\n",
    "    Parameters:\n",
    "    df (pd.DataFrame): dataframe to split\n",
    "    test_size (float): a fraction of dataframe to split\n",
    "\n",
    "    Returns:\n",
    "    x_train, x_test: train, test parts\n",
    "    '''\n",
    "\n",
    "    test_len = int(len(df)*test_size)\n",
    "    x_train, x_test = df.iloc[:-test_len, :], df.iloc[-test_len:, :]\n",
    "\n",
    "    return x_train, x_test"
   ]
  },
  {
   "cell_type": "code",
   "execution_count": 53,
   "id": "d179b887-127d-4253-9bbb-e2e83e2e9021",
   "metadata": {},
   "outputs": [],
   "source": [
    "# Fintech\n",
    "df = pd.read_csv(os.path.join(PATH, 'final_fintech.csv'))\n",
    "df['date'] = pd.to_datetime(df['date'])\n",
    "df.sort_values(by = 'date', inplace = True)\n",
    "\n",
    "lagged_df = create_lagged_features(df, 50)\n",
    "x_train, x_test = make_split(lagged_df, test_size = 0.1)\n",
    "x_train.to_csv(os.path.join(SAVE_PATH, 'fintech_train.csv'), index = False)\n",
    "x_test.to_csv(os.path.join(SAVE_PATH, 'fintech_test.csv'), index = False)"
   ]
  },
  {
   "cell_type": "code",
   "execution_count": 54,
   "id": "236b86a9-a5f9-400e-9a09-35e93ac7fad7",
   "metadata": {},
   "outputs": [],
   "source": [
    "# Renewable energy\n",
    "\n",
    "df = pd.read_csv(os.path.join(PATH, 'final_renewable_energy.csv'))\n",
    "df['date'] = pd.to_datetime(df['date'])\n",
    "df.sort_values(by = 'date', inplace = True)\n",
    "\n",
    "lagged_df = create_lagged_features(df, 50)\n",
    "x_train, x_test = make_split(lagged_df, test_size = 0.1)\n",
    "x_train.to_csv(os.path.join(SAVE_PATH, 'renewable_energy_train.csv'), index = False)\n",
    "x_test.to_csv(os.path.join(SAVE_PATH, 'renewable_energy_test.csv'), index = False)"
   ]
  },
  {
   "cell_type": "code",
   "execution_count": 55,
   "id": "01b4374a-5f79-48ed-a230-341e0b2f7548",
   "metadata": {},
   "outputs": [],
   "source": [
    "# Healthcare services\n",
    "\n",
    "df = pd.read_csv(os.path.join(PATH, 'final_healthcare_services.csv'))\n",
    "df['date'] = pd.to_datetime(df['date'])\n",
    "df.sort_values(by = 'date', inplace = True)\n",
    "\n",
    "lagged_df = create_lagged_features(df, 50)\n",
    "x_train, x_test = make_split(lagged_df, test_size = 0.1)\n",
    "x_train.to_csv(os.path.join(SAVE_PATH, 'healthcare_services_train.csv'), index = False)\n",
    "x_test.to_csv(os.path.join(SAVE_PATH, 'healthcare_services_test.csv'), index = False)"
   ]
  },
  {
   "cell_type": "code",
   "execution_count": 56,
   "id": "6eddba12-9d32-40d9-a20d-60d83ad7b2a0",
   "metadata": {},
   "outputs": [],
   "source": [
    "# Industrial goods\n",
    "\n",
    "df = pd.read_csv(os.path.join(PATH, 'final_industrial_goods.csv'))\n",
    "df['date'] = pd.to_datetime(df['date'])\n",
    "df.sort_values(by = 'date', inplace = True)\n",
    "\n",
    "lagged_df = create_lagged_features(df, 50)\n",
    "x_train, x_test = make_split(lagged_df, test_size = 0.1)\n",
    "x_train.to_csv(os.path.join(SAVE_PATH, 'industrial_goods_train.csv'), index = False)\n",
    "x_test.to_csv(os.path.join(SAVE_PATH, 'industrial_goods_test.csv'), index = False)"
   ]
  }
 ],
 "metadata": {
  "kernelspec": {
   "display_name": "Python 3 (ipykernel)",
   "language": "python",
   "name": "python3"
  },
  "language_info": {
   "codemirror_mode": {
    "name": "ipython",
    "version": 3
   },
   "file_extension": ".py",
   "mimetype": "text/x-python",
   "name": "python",
   "nbconvert_exporter": "python",
   "pygments_lexer": "ipython3",
   "version": "3.9.18"
  }
 },
 "nbformat": 4,
 "nbformat_minor": 5
}
